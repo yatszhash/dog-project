{
 "cells": [
  {
   "cell_type": "markdown",
   "metadata": {
    "hideCode": false,
    "hidePrompt": false
   },
   "source": [
    "# Artificial Intelligence Nanodegree\n",
    "\n",
    "## Convolutional Neural Networks\n",
    "\n",
    "## Project: Write an Algorithm for a Dog Identification App \n",
    "\n",
    "---\n",
    "\n",
    "In this notebook, some template code has already been provided for you, and you will need to implement additional functionality to successfully complete this project. You will not need to modify the included code beyond what is requested. Sections that begin with **'(IMPLEMENTATION)'** in the header indicate that the following block of code will require additional functionality which you must provide. Instructions will be provided for each section, and the specifics of the implementation are marked in the code block with a 'TODO' statement. Please be sure to read the instructions carefully! \n",
    "\n",
    "> **Note**: Once you have completed all of the code implementations, you need to finalize your work by exporting the iPython Notebook as an HTML document. Before exporting the notebook to html, all of the code cells need to have been run so that reviewers can see the final implementation and output. You can then export the notebook by using the menu above and navigating to  \\n\",\n",
    "    \"**File -> Download as -> HTML (.html)**. Include the finished document along with this notebook as your submission.\n",
    "\n",
    "In addition to implementing code, there will be questions that you must answer which relate to the project and your implementation. Each section where you will answer a question is preceded by a **'Question X'** header. Carefully read each question and provide thorough answers in the following text boxes that begin with **'Answer:'**. Your project submission will be evaluated based on your answers to each of the questions and the implementation you provide.\n",
    "\n",
    ">**Note:** Code and Markdown cells can be executed using the **Shift + Enter** keyboard shortcut.  Markdown cells can be edited by double-clicking the cell to enter edit mode.\n",
    "\n",
    "The rubric contains _optional_ \"Stand Out Suggestions\" for enhancing the project beyond the minimum requirements. If you decide to pursue the \"Stand Out Suggestions\", you should include the code in this IPython notebook.\n",
    "\n",
    "\n",
    "\n",
    "---\n",
    "### Why We're Here \n",
    "\n",
    "In this notebook, you will make the first steps towards developing an algorithm that could be used as part of a mobile or web app.  At the end of this project, your code will accept any user-supplied image as input.  If a dog is detected in the image, it will provide an estimate of the dog's breed.  If a human is detected, it will provide an estimate of the dog breed that is most resembling.  The image below displays potential sample output of your finished project (... but we expect that each student's algorithm will behave differently!). \n",
    "\n",
    "![Sample Dog Output](images/sample_dog_output.png)\n",
    "\n",
    "In this real-world setting, you will need to piece together a series of models to perform different tasks; for instance, the algorithm that detects humans in an image will be different from the CNN that infers dog breed.  There are many points of possible failure, and no perfect algorithm exists.  Your imperfect solution will nonetheless create a fun user experience!\n",
    "\n",
    "### The Road Ahead\n",
    "\n",
    "We break the notebook into separate steps.  Feel free to use the links below to navigate the notebook.\n",
    "\n",
    "* [Step 0](#step0): Import Datasets\n",
    "* [Step 1](#step1): Detect Humans\n",
    "* [Step 2](#step2): Detect Dogs\n",
    "* [Step 3](#step3): Create a CNN to Classify Dog Breeds (from Scratch)\n",
    "* [Step 4](#step4): Use a CNN to Classify Dog Breeds (using Transfer Learning)\n",
    "* [Step 5](#step5): Create a CNN to Classify Dog Breeds (using Transfer Learning)\n",
    "* [Step 6](#step6): Write your Algorithm\n",
    "* [Step 7](#step7): Test Your Algorithm\n",
    "\n",
    "---\n",
    "<a id='step0'></a>\n",
    "## Step 0: Import Datasets\n",
    "\n",
    "### Import Dog Dataset\n",
    "\n",
    "In the code cell below, we import a dataset of dog images.  We populate a few variables through the use of the `load_files` function from the scikit-learn library:\n",
    "- `train_files`, `valid_files`, `test_files` - numpy arrays containing file paths to images\n",
    "- `train_targets`, `valid_targets`, `test_targets` - numpy arrays containing onehot-encoded classification labels \n",
    "- `dog_names` - list of string-valued dog breed names for translating labels"
   ]
  },
  {
   "cell_type": "code",
   "execution_count": 4,
   "metadata": {
    "hideCode": false,
    "hidePrompt": false
   },
   "outputs": [
    {
     "name": "stdout",
     "output_type": "stream",
     "text": [
      "There are 133 total dog categories.\n",
      "There are 8351 total dog images.\n",
      "\n",
      "There are 6680 training dog images.\n",
      "There are 835 validation dog images.\n",
      "There are 836 test dog images.\n"
     ]
    }
   ],
   "source": [
    "from sklearn.datasets import load_files       \n",
    "from keras.utils import np_utils\n",
    "import numpy as np\n",
    "from glob import glob\n",
    "\n",
    "# define function to load train, test, and validation datasets\n",
    "def load_dataset(path):\n",
    "    data = load_files(path)\n",
    "    dog_files = np.array(data['filenames'])\n",
    "    dog_targets = np_utils.to_categorical(np.array(data['target']), 133)\n",
    "    return dog_files, dog_targets\n",
    "\n",
    "# load train, test, and validation datasets\n",
    "train_files, train_targets = load_dataset('dogImages/train')\n",
    "valid_files, valid_targets = load_dataset('dogImages/valid')\n",
    "test_files, test_targets = load_dataset('dogImages/test')\n",
    "\n",
    "# load list of dog names\n",
    "dog_names = [item[20:-1] for item in sorted(glob(\"dogImages/train/*/\"))]\n",
    "\n",
    "# print statistics about the dataset\n",
    "print('There are %d total dog categories.' % len(dog_names))\n",
    "print('There are %s total dog images.\\n' % len(np.hstack([train_files, valid_files, test_files])))\n",
    "print('There are %d training dog images.' % len(train_files))\n",
    "print('There are %d validation dog images.' % len(valid_files))\n",
    "print('There are %d test dog images.'% len(test_files))"
   ]
  },
  {
   "cell_type": "markdown",
   "metadata": {
    "hideCode": false,
    "hidePrompt": false
   },
   "source": [
    "### Import Human Dataset\n",
    "\n",
    "In the code cell below, we import a dataset of human images, where the file paths are stored in the numpy array `human_files`."
   ]
  },
  {
   "cell_type": "code",
   "execution_count": 5,
   "metadata": {
    "hideCode": false,
    "hidePrompt": false
   },
   "outputs": [
    {
     "name": "stdout",
     "output_type": "stream",
     "text": [
      "There are 13233 total human images.\n"
     ]
    }
   ],
   "source": [
    "import random\n",
    "random.seed(8675309)\n",
    "\n",
    "# load filenames in shuffled human dataset\n",
    "human_files = np.array(glob(\"lfw/*/*\"))\n",
    "random.shuffle(human_files)\n",
    "\n",
    "# print statistics about the dataset\n",
    "print('There are %d total human images.' % len(human_files))"
   ]
  },
  {
   "cell_type": "markdown",
   "metadata": {
    "hideCode": false,
    "hidePrompt": false
   },
   "source": [
    "---\n",
    "<a id='step1'></a>\n",
    "## Step 1: Detect Humans\n",
    "\n",
    "We use OpenCV's implementation of [Haar feature-based cascade classifiers](http://docs.opencv.org/trunk/d7/d8b/tutorial_py_face_detection.html) to detect human faces in images.  OpenCV provides many pre-trained face detectors, stored as XML files on [github](https://github.com/opencv/opencv/tree/master/data/haarcascades).  We have downloaded one of these detectors and stored it in the `haarcascades` directory.\n",
    "\n",
    "In the next code cell, we demonstrate how to use this detector to find human faces in a sample image."
   ]
  },
  {
   "cell_type": "code",
   "execution_count": 6,
   "metadata": {
    "hideCode": false,
    "hidePrompt": false
   },
   "outputs": [
    {
     "name": "stdout",
     "output_type": "stream",
     "text": [
      "Number of faces detected: 3\n"
     ]
    },
    {
     "data": {
      "image/png": "[encoded data removed]",
      "text/plain": [
       "<matplotlib.figure.Figure at 0x7fbae1053f60>"
      ]
     },
     "metadata": {},
     "output_type": "display_data"
    }
   ],
   "source": [
    "import cv2                \n",
    "import matplotlib.pyplot as plt                        \n",
    "%matplotlib inline                               \n",
    "\n",
    "# extract pre-trained face detector\n",
    "face_cascade = cv2.CascadeClassifier('haarcascades/haarcascade_frontalface_alt.xml')\n",
    "\n",
    "# load color (BGR) image\n",
    "img = cv2.imread(human_files[3])\n",
    "# convert BGR image to grayscale\n",
    "gray = cv2.cvtColor(img, cv2.COLOR_BGR2GRAY)\n",
    "\n",
    "# find faces in image\n",
    "faces = face_cascade.detectMultiScale(gray)\n",
    "\n",
    "# print number of faces detected in the image\n",
    "print('Number of faces detected:', len(faces))\n",
    "\n",
    "# get bounding box for each detected face\n",
    "for (x,y,w,h) in faces:\n",
    "    # add bounding box to color image\n",
    "    cv2.rectangle(img,(x,y),(x+w,y+h),(255,0,0),2)\n",
    "    \n",
    "# convert BGR image to RGB for plotting\n",
    "cv_rgb = cv2.cvtColor(img, cv2.COLOR_BGR2RGB)\n",
    "\n",
    "# display the image, along with bounding box\n",
    "plt.imshow(cv_rgb)\n",
    "plt.show()"
   ]
  },
  {
   "cell_type": "markdown",
   "metadata": {
    "hideCode": false,
    "hidePrompt": false
   },
   "source": [
    "Before using any of the face detectors, it is standard procedure to convert the images to grayscale.  The `detectMultiScale` function executes the classifier stored in `face_cascade` and takes the grayscale image as a parameter.  \n",
    "\n",
    "In the above code, `faces` is a numpy array of detected faces, where each row corresponds to a detected face.  Each detected face is a 1D array with four entries that specifies the bounding box of the detected face.  The first two entries in the array (extracted in the above code as `x` and `y`) specify the horizontal and vertical positions of the top left corner of the bounding box.  The last two entries in the array (extracted here as `w` and `h`) specify the width and height of the box.\n",
    "\n",
    "### Write a Human Face Detector\n",
    "\n",
    "We can use this procedure to write a function that returns `True` if a human face is detected in an image and `False` otherwise.  This function, aptly named `face_detector`, takes a string-valued file path to an image as input and appears in the code block below."
   ]
  },
  {
   "cell_type": "code",
   "execution_count": 7,
   "metadata": {
    "collapsed": true,
    "hideCode": false,
    "hidePrompt": false
   },
   "outputs": [],
   "source": [
    "# returns \"True\" if face is detected in image stored at img_path\n",
    "def face_detector(img_path):\n",
    "    img = cv2.imread(img_path)\n",
    "    gray = cv2.cvtColor(img, cv2.COLOR_BGR2GRAY)\n",
    "    faces = face_cascade.detectMultiScale(gray)\n",
    "    return len(faces) > 0"
   ]
  },
  {
   "cell_type": "markdown",
   "metadata": {
    "hideCode": false,
    "hidePrompt": false
   },
   "source": [
    "### (IMPLEMENTATION) Assess the Human Face Detector\n",
    "\n",
    "__Question 1:__ Use the code cell below to test the performance of the `face_detector` function.  \n",
    "- What percentage of the first 100 images in `human_files` have a detected human face?  \n",
    "- What percentage of the first 100 images in `dog_files` have a detected human face? \n",
    "\n",
    "Ideally, we would like 100% of human images with a detected face and 0% of dog images with a detected face.  You will see that our algorithm falls short of this goal, but still gives acceptable performance.  We extract the file paths for the first 100 images from each of the datasets and store them in the numpy arrays `human_files_short` and `dog_files_short`.\n",
    "\n",
    "__Answer:__ \n",
    "- 99 percentage of the first 100 images in 'human_files' have a detected human face.\n",
    "- 11 percentage of the first 100 images in 'dog_files have a detected human face."
   ]
  },
  {
   "cell_type": "code",
   "execution_count": 8,
   "metadata": {
    "hideCode": false,
    "hidePrompt": false
   },
   "outputs": [
    {
     "name": "stdout",
     "output_type": "stream",
     "text": [
      "percentage of the images hava a detected face in human_files_short: 99.0 %\n",
      "percentage of the images hava a detected face in dog_files_short: 11.0 %\n"
     ]
    }
   ],
   "source": [
    "human_files_short = human_files[:100]\n",
    "dog_files_short = train_files[:100]\n",
    "# Do NOT modify the code above this line.\n",
    "\n",
    "## TODO: Test the performance of the face_detector algorithm \n",
    "## on the images in human_files_short and dog_files_short.\n",
    "def calc_face_detected_proportion(img_paths):\n",
    "    vectorized_detector = np.vectorize(face_detector)\n",
    "    return len(img_paths[vectorized_detector(img_paths)]) / len(img_paths)\n",
    "\n",
    "\n",
    "print(\"percentage of the images hava a detected face in human_files_short: {} %\".format(calc_face_detected_proportion(human_files_short) * 100) )\n",
    "print(\"percentage of the images hava a detected face in dog_files_short: {} %\".format(calc_face_detected_proportion(dog_files_short) * 100) )"
   ]
  },
  {
   "cell_type": "markdown",
   "metadata": {
    "hideCode": false,
    "hidePrompt": false
   },
   "source": [
    "__Question 2:__ This algorithmic choice necessitates that we communicate to the user that we accept human images only when they provide a clear view of a face (otherwise, we risk having unneccessarily frustrated users!). In your opinion, is this a reasonable expectation to pose on the user? If not, can you think of a way to detect humans in images that does not necessitate an image with a clearly presented face?\n",
    "\n",
    "__Answer:__\n",
    "I think it depends on the business purpose. However, supposed the API is designed for wide usage, it should not pose the limitations on the user because it is possible the service of the user can't get the images with human faces. To detect human without his or her face, CNN can be used if it is trained with the images without human faces.  \n",
    "\n",
    "We suggest the face detector from OpenCV as a potential way to detect human images in your algorithm, but you are free to explore other approaches, especially approaches that make use of deep learning :).  Please use the code cell below to design and test your own face detection algorithm.  If you decide to pursue this _optional_ task, report performance on each of the datasets."
   ]
  },
  {
   "cell_type": "code",
   "execution_count": 9,
   "metadata": {
    "collapsed": true,
    "hideCode": false,
    "hidePrompt": false
   },
   "outputs": [],
   "source": [
    "## (Optional) TODO: Report the performance of another  \n",
    "## face detection algorithm on the LFW dataset\n",
    "### Feel free to use as many code cells as needed."
   ]
  },
  {
   "cell_type": "markdown",
   "metadata": {
    "hideCode": false,
    "hidePrompt": false
   },
   "source": [
    "---\n",
    "<a id='step2'></a>\n",
    "## Step 2: Detect Dogs\n",
    "\n",
    "In this section, we use a pre-trained [ResNet-50](http://ethereon.github.io/netscope/#/gist/db945b393d40bfa26006) model to detect dogs in images.  Our first line of code downloads the ResNet-50 model, along with weights that have been trained on [ImageNet](http://www.image-net.org/), a very large, very popular dataset used for image classification and other vision tasks.  ImageNet contains over 10 million URLs, each linking to an image containing an object from one of [1000 categories](https://gist.github.com/yrevar/942d3a0ac09ec9e5eb3a).  Given an image, this pre-trained ResNet-50 model returns a prediction (derived from the available categories in ImageNet) for the object that is contained in the image."
   ]
  },
  {
   "cell_type": "code",
   "execution_count": 10,
   "metadata": {
    "collapsed": true,
    "hideCode": false,
    "hidePrompt": false
   },
   "outputs": [],
   "source": [
    "from keras.applications.resnet50 import ResNet50\n",
    "\n",
    "# define ResNet50 model\n",
    "ResNet50_model = ResNet50(weights='imagenet')"
   ]
  },
  {
   "cell_type": "markdown",
   "metadata": {
    "hideCode": false,
    "hidePrompt": false
   },
   "source": [
    "### Pre-process the Data\n",
    "\n",
    "When using TensorFlow as backend, Keras CNNs require a 4D array (which we'll also refer to as a 4D tensor) as input, with shape\n",
    "\n",
    "$$\n",
    "(\\text{nb_samples}, \\text{rows}, \\text{columns}, \\text{channels}),\n",
    "$$\n",
    "\n",
    "where `nb_samples` corresponds to the total number of images (or samples), and `rows`, `columns`, and `channels` correspond to the number of rows, columns, and channels for each image, respectively.  \n",
    "\n",
    "The `path_to_tensor` function below takes a string-valued file path to a color image as input and returns a 4D tensor suitable for supplying to a Keras CNN.  The function first loads the image and resizes it to a square image that is $224 \\times 224$ pixels.  Next, the image is converted to an array, which is then resized to a 4D tensor.  In this case, since we are working with color images, each image has three channels.  Likewise, since we are processing a single image (or sample), the returned tensor will always have shape\n",
    "\n",
    "$$\n",
    "(1, 224, 224, 3).\n",
    "$$\n",
    "\n",
    "The `paths_to_tensor` function takes a numpy array of string-valued image paths as input and returns a 4D tensor with shape \n",
    "\n",
    "$$\n",
    "(\\text{nb_samples}, 224, 224, 3).\n",
    "$$\n",
    "\n",
    "Here, `nb_samples` is the number of samples, or number of images, in the supplied array of image paths.  It is best to think of `nb_samples` as the number of 3D tensors (where each 3D tensor corresponds to a different image) in your dataset!"
   ]
  },
  {
   "cell_type": "code",
   "execution_count": 11,
   "metadata": {
    "collapsed": true,
    "hideCode": false,
    "hidePrompt": false
   },
   "outputs": [],
   "source": [
    "from keras.preprocessing import image                  \n",
    "from tqdm import tqdm\n",
    "\n",
    "def path_to_tensor(img_path):\n",
    "    # loads RGB image as PIL.Image.Image type\n",
    "    img = image.load_img(img_path, target_size=(224, 224))\n",
    "    # convert PIL.Image.Image type to 3D tensor with shape (224, 224, 3)\n",
    "    x = image.img_to_array(img)\n",
    "    # convert 3D tensor to 4D tensor with shape (1, 224, 224, 3) and return 4D tensor\n",
    "    return np.expand_dims(x, axis=0)\n",
    "\n",
    "def paths_to_tensor(img_paths):\n",
    "    list_of_tensors = [path_to_tensor(img_path) for img_path in tqdm(img_paths)]\n",
    "    return np.vstack(list_of_tensors)"
   ]
  },
  {
   "cell_type": "markdown",
   "metadata": {
    "hideCode": false,
    "hidePrompt": false
   },
   "source": [
    "### Making Predictions with ResNet-50\n",
    "\n",
    "Getting the 4D tensor ready for ResNet-50, and for any other pre-trained model in Keras, requires some additional processing.  First, the RGB image is converted to BGR by reordering the channels.  All pre-trained models have the additional normalization step that the mean pixel (expressed in RGB as $[103.939, 116.779, 123.68]$ and calculated from all pixels in all images in ImageNet) must be subtracted from every pixel in each image.  This is implemented in the imported function `preprocess_input`.  If you're curious, you can check the code for `preprocess_input` [here](https://github.com/fchollet/keras/blob/master/keras/applications/imagenet_utils.py).\n",
    "\n",
    "Now that we have a way to format our image for supplying to ResNet-50, we are now ready to use the model to extract the predictions.  This is accomplished with the `predict` method, which returns an array whose $i$-th entry is the model's predicted probability that the image belongs to the $i$-th ImageNet category.  This is implemented in the `ResNet50_predict_labels` function below.\n",
    "\n",
    "By taking the argmax of the predicted probability vector, we obtain an integer corresponding to the model's predicted object class, which we can identify with an object category through the use of this [dictionary](https://gist.github.com/yrevar/942d3a0ac09ec9e5eb3a). "
   ]
  },
  {
   "cell_type": "code",
   "execution_count": 12,
   "metadata": {
    "collapsed": true,
    "hideCode": false,
    "hidePrompt": false
   },
   "outputs": [],
   "source": [
    "from keras.applications.resnet50 import preprocess_input, decode_predictions\n",
    "\n",
    "def ResNet50_predict_labels(img_path):\n",
    "    # returns prediction vector for image located at img_path\n",
    "    img = preprocess_input(path_to_tensor(img_path))\n",
    "    return np.argmax(ResNet50_model.predict(img))"
   ]
  },
  {
   "cell_type": "markdown",
   "metadata": {
    "hideCode": false,
    "hidePrompt": false
   },
   "source": [
    "### Write a Dog Detector\n",
    "\n",
    "While looking at the [dictionary](https://gist.github.com/yrevar/942d3a0ac09ec9e5eb3a), you will notice that the categories corresponding to dogs appear in an uninterrupted sequence and correspond to dictionary keys 151-268, inclusive, to include all categories from `'Chihuahua'` to `'Mexican hairless'`.  Thus, in order to check to see if an image is predicted to contain a dog by the pre-trained ResNet-50 model, we need only check if the `ResNet50_predict_labels` function above returns a value between 151 and 268 (inclusive).\n",
    "\n",
    "We use these ideas to complete the `dog_detector` function below, which returns `True` if a dog is detected in an image (and `False` if not)."
   ]
  },
  {
   "cell_type": "code",
   "execution_count": 13,
   "metadata": {
    "collapsed": true,
    "hideCode": false,
    "hidePrompt": false
   },
   "outputs": [],
   "source": [
    "### returns \"True\" if a dog is detected in the image stored at img_path\n",
    "def dog_detector(img_path):\n",
    "    prediction = ResNet50_predict_labels(img_path)\n",
    "    return ((prediction <= 268) & (prediction >= 151)) "
   ]
  },
  {
   "cell_type": "markdown",
   "metadata": {
    "hideCode": false,
    "hidePrompt": false
   },
   "source": [
    "### (IMPLEMENTATION) Assess the Dog Detector\n",
    "\n",
    "__Question 3:__ Use the code cell below to test the performance of your `dog_detector` function.  \n",
    "- What percentage of the images in `human_files_short` have a detected dog?  \n",
    "- What percentage of the images in `dog_files_short` have a detected dog?\n",
    "\n",
    "__Answer:__ \n",
    "- 0 percentage of the images in 'human_files_short' have a detected dog.\n",
    "- 100 percentage of the images in 'dog_files_short' have a detected dog."
   ]
  },
  {
   "cell_type": "code",
   "execution_count": 14,
   "metadata": {
    "hideCode": false,
    "hidePrompt": false
   },
   "outputs": [
    {
     "name": "stdout",
     "output_type": "stream",
     "text": [
      "percentage of the images hava a detected dog in human_files_short: 0.0 %\n",
      "percentage of the images hava a detected dog in dog_files_short: 100.0 %\n"
     ]
    }
   ],
   "source": [
    "### TODO: Test the performance of the dog_detector function\n",
    "### on the images in human_files_short and dog_files_short.\n",
    "def calc_dog_detected_proportion(img_paths):\n",
    "    vectorized_doc_detector = np.vectorize(dog_detector)\n",
    "    num_dog_detected = len(img_paths[vectorized_doc_detector(img_paths)])\n",
    "    return num_dog_detected / len(img_paths)\n",
    "\n",
    "print(\"percentage of the images hava a detected dog in human_files_short: {} %\".format(calc_dog_detected_proportion(human_files_short) * 100))\n",
    "print(\"percentage of the images hava a detected dog in dog_files_short: {} %\".format(calc_dog_detected_proportion(dog_files_short) * 100))"
   ]
  },
  {
   "cell_type": "markdown",
   "metadata": {
    "hideCode": false,
    "hidePrompt": false
   },
   "source": [
    "---\n",
    "<a id='step3'></a>\n",
    "## Step 3: Create a CNN to Classify Dog Breeds (from Scratch)\n",
    "\n",
    "Now that we have functions for detecting humans and dogs in images, we need a way to predict breed from images.  In this step, you will create a CNN that classifies dog breeds.  You must create your CNN _from scratch_ (so, you can't use transfer learning _yet_!), and you must attain a test accuracy of at least 1%.  In Step 5 of this notebook, you will have the opportunity to use transfer learning to create a CNN that attains greatly improved accuracy.\n",
    "\n",
    "Be careful with adding too many trainable layers!  More parameters means longer training, which means you are more likely to need a GPU to accelerate the training process.  Thankfully, Keras provides a handy estimate of the time that each epoch is likely to take; you can extrapolate this estimate to figure out how long it will take for your algorithm to train. \n",
    "\n",
    "We mention that the task of assigning breed to dogs from images is considered exceptionally challenging.  To see why, consider that *even a human* would have great difficulty in distinguishing between a Brittany and a Welsh Springer Spaniel.  \n",
    "\n",
    "Brittany | Welsh Springer Spaniel\n",
    "- | - \n",
    "<img src=\"images/Brittany_02625.jpg\" width=\"100\"> | <img src=\"images/Welsh_springer_spaniel_08203.jpg\" width=\"200\">\n",
    "\n",
    "It is not difficult to find other dog breed pairs with minimal inter-class variation (for instance, Curly-Coated Retrievers and American Water Spaniels).  \n",
    "\n",
    "Curly-Coated Retriever | American Water Spaniel\n",
    "- | -\n",
    "<img src=\"images/Curly-coated_retriever_03896.jpg\" width=\"200\"> | <img src=\"images/American_water_spaniel_00648.jpg\" width=\"200\">\n",
    "\n",
    "\n",
    "Likewise, recall that labradors come in yellow, chocolate, and black.  Your vision-based algorithm will have to conquer this high intra-class variation to determine how to classify all of these different shades as the same breed.  \n",
    "\n",
    "Yellow Labrador | Chocolate Labrador | Black Labrador\n",
    "- | -\n",
    "<img src=\"images/Labrador_retriever_06457.jpg\" width=\"150\"> | <img src=\"images/Labrador_retriever_06455.jpg\" width=\"240\"> | <img src=\"images/Labrador_retriever_06449.jpg\" width=\"220\">\n",
    "\n",
    "We also mention that random chance presents an exceptionally low bar: setting aside the fact that the classes are slightly imabalanced, a random guess will provide a correct answer roughly 1 in 133 times, which corresponds to an accuracy of less than 1%.  \n",
    "\n",
    "Remember that the practice is far ahead of the theory in deep learning.  Experiment with many different architectures, and trust your intuition.  And, of course, have fun! \n",
    "\n",
    "### Pre-process the Data\n",
    "\n",
    "We rescale the images by dividing every pixel in every image by 255."
   ]
  },
  {
   "cell_type": "code",
   "execution_count": 15,
   "metadata": {
    "hideCode": false,
    "hidePrompt": false
   },
   "outputs": [
    {
     "name": "stderr",
     "output_type": "stream",
     "text": [
      "100%|██████████| 6680/6680 [00:53<00:00, 124.30it/s]\n",
      "100%|██████████| 835/835 [00:05<00:00, 139.42it/s]\n",
      "100%|██████████| 836/836 [00:05<00:00, 139.93it/s]\n"
     ]
    }
   ],
   "source": [
    "from PIL import ImageFile                            \n",
    "ImageFile.LOAD_TRUNCATED_IMAGES = True                 \n",
    "\n",
    "# pre-process the data for Keras\n",
    "train_tensors = paths_to_tensor(train_files).astype('float32')/255\n",
    "valid_tensors = paths_to_tensor(valid_files).astype('float32')/255\n",
    "test_tensors = paths_to_tensor(test_files).astype('float32')/255"
   ]
  },
  {
   "cell_type": "markdown",
   "metadata": {
    "hideCode": false,
    "hidePrompt": false
   },
   "source": [
    "### (IMPLEMENTATION) Model Architecture\n",
    "\n",
    "Create a CNN to classify dog breed.  At the end of your code cell block, summarize the layers of your model by executing the line:\n",
    "    \n",
    "        model.summary()\n",
    "\n",
    "We have imported some Python modules to get you started, but feel free to import as many modules as you need.  If you end up getting stuck, here's a hint that specifies a model that trains relatively fast on CPU and attains >1% test accuracy in 5 epochs:\n",
    "\n",
    "![Sample CNN](images/sample_cnn.png)\n",
    "           \n",
    "__Question 4:__ Outline the steps you took to get to your final CNN architecture and your reasoning at each step.  If you chose to use the hinted architecture above, describe why you think that CNN architecture should work well for the image classification task.\n",
    "\n",
    "__Answer:__ My final architecture is one including brahnces and merges based on Xception.\n",
    "This module is composed of following four parts.\n",
    "\n",
    "1. Input data and a typical module of cnn composed of convolutional layer, a bach normalization layer and activation layer to extracts the approximate feature. To stabilize the distribution of the inputs into the activation layer, a batch normalization layer is placed before activation. \n",
    "2. Iteration of the ensamble module of a module including a convolutional layer and a one including a separation convolutional layer. These ensamble module are intend to extracts more in-depth features. This ensenble type of the module structure is introduced to avoid weighting unnecessary features, then overfitting. A separation convolutional layer is replaced for a usual convaolutional layer to reduce the number of parameters. \n",
    "\n",
    "3. Dense layer\n"
   ]
  },
  {
   "cell_type": "code",
   "execution_count": 23,
   "metadata": {},
   "outputs": [
    {
     "name": "stdout",
     "output_type": "stream",
     "text": [
      "____________________________________________________________________________________________________\n",
      "Layer (type)                     Output Shape          Param #     Connected to                     \n",
      "====================================================================================================\n",
      "input_4 (InputLayer)             (None, 224, 224, 3)   0                                            \n",
      "____________________________________________________________________________________________________\n",
      "conv2d_5 (Conv2D)                (None, 111, 111, 32)  864         input_4[0][0]                    \n",
      "____________________________________________________________________________________________________\n",
      "batch_normalization_11 (BatchNor (None, 111, 111, 32)  128         conv2d_5[0][0]                   \n",
      "____________________________________________________________________________________________________\n",
      "activation_54 (Activation)       (None, 111, 111, 32)  0           batch_normalization_11[0][0]     \n",
      "____________________________________________________________________________________________________\n",
      "separable_conv2d_7 (SeparableCon (None, 111, 111, 64)  2336        activation_54[0][0]              \n",
      "____________________________________________________________________________________________________\n",
      "batch_normalization_13 (BatchNor (None, 111, 111, 64)  256         separable_conv2d_7[0][0]         \n",
      "____________________________________________________________________________________________________\n",
      "conv2d_6 (Conv2D)                (None, 56, 56, 64)    2048        activation_54[0][0]              \n",
      "____________________________________________________________________________________________________\n",
      "activation_55 (Activation)       (None, 111, 111, 64)  0           batch_normalization_13[0][0]     \n",
      "____________________________________________________________________________________________________\n",
      "batch_normalization_12 (BatchNor (None, 56, 56, 64)    256         conv2d_6[0][0]                   \n",
      "____________________________________________________________________________________________________\n",
      "max_pooling2d_8 (MaxPooling2D)   (None, 56, 56, 64)    0           activation_55[0][0]              \n",
      "____________________________________________________________________________________________________\n",
      "add_19 (Add)                     (None, 56, 56, 64)    0           batch_normalization_12[0][0]     \n",
      "                                                                   max_pooling2d_8[0][0]            \n",
      "____________________________________________________________________________________________________\n",
      "separable_conv2d_8 (SeparableCon (None, 56, 56, 128)   8768        add_19[0][0]                     \n",
      "____________________________________________________________________________________________________\n",
      "batch_normalization_15 (BatchNor (None, 56, 56, 128)   512         separable_conv2d_8[0][0]         \n",
      "____________________________________________________________________________________________________\n",
      "conv2d_7 (Conv2D)                (None, 28, 28, 128)   8192        add_19[0][0]                     \n",
      "____________________________________________________________________________________________________\n",
      "activation_56 (Activation)       (None, 56, 56, 128)   0           batch_normalization_15[0][0]     \n",
      "____________________________________________________________________________________________________\n",
      "batch_normalization_14 (BatchNor (None, 28, 28, 128)   512         conv2d_7[0][0]                   \n",
      "____________________________________________________________________________________________________\n",
      "max_pooling2d_9 (MaxPooling2D)   (None, 28, 28, 128)   0           activation_56[0][0]              \n",
      "____________________________________________________________________________________________________\n",
      "add_20 (Add)                     (None, 28, 28, 128)   0           batch_normalization_14[0][0]     \n",
      "                                                                   max_pooling2d_9[0][0]            \n",
      "____________________________________________________________________________________________________\n",
      "separable_conv2d_9 (SeparableCon (None, 28, 28, 256)   33920       add_20[0][0]                     \n",
      "____________________________________________________________________________________________________\n",
      "batch_normalization_17 (BatchNor (None, 28, 28, 256)   1024        separable_conv2d_9[0][0]         \n",
      "____________________________________________________________________________________________________\n",
      "activation_57 (Activation)       (None, 28, 28, 256)   0           batch_normalization_17[0][0]     \n",
      "____________________________________________________________________________________________________\n",
      "max_pooling2d_10 (MaxPooling2D)  (None, 14, 14, 256)   0           activation_57[0][0]              \n",
      "____________________________________________________________________________________________________\n",
      "global_average_pooling2d_3 (Glob (None, 256)           0           max_pooling2d_10[0][0]           \n",
      "____________________________________________________________________________________________________\n",
      "dense_5 (Dense)                  (None, 256)           65792       global_average_pooling2d_3[0][0] \n",
      "____________________________________________________________________________________________________\n",
      "dropout_9 (Dropout)              (None, 256)           0           dense_5[0][0]                    \n",
      "____________________________________________________________________________________________________\n",
      "dense_6 (Dense)                  (None, 133)           34181       dropout_9[0][0]                  \n",
      "====================================================================================================\n",
      "Total params: 158,789\n",
      "Trainable params: 157,445\n",
      "Non-trainable params: 1,344\n",
      "____________________________________________________________________________________________________\n"
     ]
    }
   ],
   "source": [
    "from keras.layers import Conv2D, MaxPooling2D, GlobalAveragePooling2D, Input\n",
    "from keras.layers import Dropout, Flatten, Dense, Activation, BatchNormalization, SeparableConv2D\n",
    "from keras.models import Model\n",
    "from keras import layers\n",
    "DOG_CLASSES = 133\n",
    "INPUT_SHAPE = (224, 224, 3)\n",
    "img_input = Input(shape=INPUT_SHAPE)\n",
    "\n",
    "x = Conv2D(32, (3, 3), strides=(2, 2), use_bias=False)(img_input)\n",
    "x = BatchNormalization()(x)\n",
    "x = Activation('relu')(x)\n",
    "\n",
    "residual = Conv2D(filters=64, kernel_size=(1,1), strides=(2, 2), padding='same', use_bias=False, kernel_initializer=\"he_normal\")(x)\n",
    "#residual = Dropout(0.7)(residual)\n",
    "residual = BatchNormalization()(residual)\n",
    "#residual = Dropout(0.7)(residual)\n",
    "\n",
    "x = SeparableConv2D(filters=64, kernel_size=(3,3), padding='same', kernel_initializer=\"he_normal\", use_bias=False)(x)\n",
    "x = BatchNormalization()(x)\n",
    "x = Activation(\"relu\")(x)\n",
    "x = MaxPooling2D((3, 3), strides=(2,2),  padding=\"same\")(x)\n",
    "\n",
    "x = layers.add([residual, x])\n",
    "\n",
    "residual = Conv2D(filters=128, kernel_size=(1,1), strides=(2,2), padding='same', use_bias=False, kernel_initializer=\"he_normal\")(x)\n",
    "#residual = Dropout(0.7)(residual)\n",
    "residual = BatchNormalization()(residual)\n",
    "#residual = Dropout(0.7)(residual)\n",
    "\n",
    "x = SeparableConv2D(filters=128, kernel_size=(3, 3), padding='same', kernel_initializer=\"he_normal\", use_bias=False)(x)\n",
    "x = BatchNormalization()(x)\n",
    "x = Activation(\"relu\")(x)\n",
    "x = MaxPooling2D((3, 3), strides=(2,2), padding=\"same\")(x)\n",
    "\n",
    "x = layers.add([residual, x])\n",
    "\n",
    "residual = Conv2D(filters=256, kernel_size=(1,1), strides=(2, 2), padding='same', use_bias=False, kernel_initializer=\"he_normal\")(x)\n",
    "#residual = Dropout(0.7)(residual)\n",
    "residual = BatchNormalization()(residual)\n",
    "#residual = Dropout(0.7)(residual)\n",
    "\n",
    "x = SeparableConv2D(filters=256, kernel_size=(3, 3), padding='same', kernel_initializer=\"he_normal\", use_bias=False)(x)\n",
    "x = BatchNormalization()(x)\n",
    "x = Activation(\"relu\")(x)\n",
    "x = MaxPooling2D((3, 3), strides=(2,2), padding=\"same\")(x)\n",
    "\n",
    "x = GlobalAveragePooling2D()(x)\n",
    "x = Dense(256, activation='relu', kernel_initializer=\"he_normal\")(x)\n",
    "x = Dropout(0.8)(x)\n",
    "x = Dense(DOG_CLASSES, activation='softmax', kernel_initializer=\"he_normal\")(x)\n",
    "model = Model(img_input, x)\n",
    "model.summary()"
   ]
  },
  {
   "cell_type": "markdown",
   "metadata": {
    "hideCode": false,
    "hidePrompt": false
   },
   "source": [
    "### Compile the Model"
   ]
  },
  {
   "cell_type": "code",
   "execution_count": 24,
   "metadata": {
    "collapsed": true,
    "hideCode": false,
    "hidePrompt": false
   },
   "outputs": [],
   "source": [
    "model.compile(optimizer='rmsprop', loss='categorical_crossentropy', metrics=['accuracy'])"
   ]
  },
  {
   "cell_type": "markdown",
   "metadata": {
    "hideCode": false,
    "hidePrompt": false
   },
   "source": [
    "### (IMPLEMENTATION) Train the Model\n",
    "\n",
    "Train your model in the code cell below.  Use model checkpointing to save the model that attains the best validation loss.\n",
    "\n",
    "You are welcome to [augment the training data](https://blog.keras.io/building-powerful-image-classification-models-using-very-little-data.html), but this is not a requirement. "
   ]
  },
  {
   "cell_type": "code",
   "execution_count": 29,
   "metadata": {
    "hideCode": false,
    "hidePrompt": false
   },
   "outputs": [
    {
     "name": "stdout",
     "output_type": "stream",
     "text": [
      "Epoch 1/20\n",
      "6679/6680 [============================>.] - ETA: 0s - loss: 4.5105 - acc: 0.0355Epoch 00000: val_loss improved from inf to 4.33837, saving model to saved_models/weights.best.from_scratch.hdf5\n",
      "6680/6680 [==============================] - 2483s - loss: 4.5105 - acc: 0.0355 - val_loss: 4.3384 - val_acc: 0.0668\n",
      "Epoch 2/20\n",
      "6679/6680 [============================>.] - ETA: 0s - loss: 4.0841 - acc: 0.0732Epoch 00001: val_loss improved from 4.33837 to 3.80798, saving model to saved_models/weights.best.from_scratch.hdf5\n",
      "6680/6680 [==============================] - 2471s - loss: 4.0841 - acc: 0.0733 - val_loss: 3.8080 - val_acc: 0.1008\n",
      "Epoch 3/20\n",
      "6679/6680 [============================>.] - ETA: 0s - loss: 3.6981 - acc: 0.1217Epoch 00002: val_loss improved from 3.80798 to 3.51365, saving model to saved_models/weights.best.from_scratch.hdf5\n",
      "6680/6680 [==============================] - 2473s - loss: 3.6980 - acc: 0.1217 - val_loss: 3.5136 - val_acc: 0.1650\n",
      "Epoch 4/20\n",
      "6679/6680 [============================>.] - ETA: 0s - loss: 3.4912 - acc: 0.1532Epoch 00003: val_loss did not improve\n",
      "6680/6680 [==============================] - 2472s - loss: 3.4912 - acc: 0.1532 - val_loss: 3.6411 - val_acc: 0.1410\n",
      "Epoch 5/20\n",
      "6679/6680 [============================>.] - ETA: 0s - loss: 3.4150 - acc: 0.1671Epoch 00004: val_loss improved from 3.51365 to 3.35154, saving model to saved_models/weights.best.from_scratch.hdf5\n",
      "6680/6680 [==============================] - 2473s - loss: 3.4150 - acc: 0.1671 - val_loss: 3.3515 - val_acc: 0.1996\n",
      "Epoch 6/20\n",
      "6679/6680 [============================>.] - ETA: 0s - loss: 3.4058 - acc: 0.1703Epoch 00005: val_loss did not improve\n",
      "6680/6680 [==============================] - 2466s - loss: 3.4058 - acc: 0.1703 - val_loss: 3.4092 - val_acc: 0.2034\n",
      "Epoch 7/20\n",
      "6679/6680 [============================>.] - ETA: 0s - loss: 3.4158 - acc: 0.1741Epoch 00006: val_loss improved from 3.35154 to 3.17707, saving model to saved_models/weights.best.from_scratch.hdf5\n",
      "6680/6680 [==============================] - 2468s - loss: 3.4157 - acc: 0.1741 - val_loss: 3.1771 - val_acc: 0.2206\n",
      "Epoch 8/20\n",
      "6679/6680 [============================>.] - ETA: 0s - loss: 3.3903 - acc: 0.1799Epoch 00007: val_loss did not improve\n",
      "6680/6680 [==============================] - 2465s - loss: 3.3903 - acc: 0.1799 - val_loss: 3.2551 - val_acc: 0.1989\n",
      "Epoch 9/20\n",
      "6679/6680 [============================>.] - ETA: 0s - loss: 3.3755 - acc: 0.1835Epoch 00008: val_loss did not improve\n",
      "6680/6680 [==============================] - 2473s - loss: 3.3755 - acc: 0.1835 - val_loss: 3.7221 - val_acc: 0.1589\n",
      "Epoch 10/20\n",
      "6679/6680 [============================>.] - ETA: 0s - loss: 3.3805 - acc: 0.1840Epoch 00009: val_loss did not improve\n",
      "6680/6680 [==============================] - 2471s - loss: 3.3804 - acc: 0.1840 - val_loss: 3.3593 - val_acc: 0.1927\n",
      "Epoch 11/20\n",
      "6679/6680 [============================>.] - ETA: 0s - loss: 3.4019 - acc: 0.1848Epoch 00010: val_loss did not improve\n",
      "6680/6680 [==============================] - 2467s - loss: 3.4018 - acc: 0.1848 - val_loss: 3.5961 - val_acc: 0.1983\n",
      "Epoch 12/20\n",
      "6679/6680 [============================>.] - ETA: 0s - loss: 3.4100 - acc: 0.1852Epoch 00011: val_loss did not improve\n",
      "6680/6680 [==============================] - 2465s - loss: 3.4100 - acc: 0.1852 - val_loss: 3.2382 - val_acc: 0.2241\n",
      "Epoch 13/20\n",
      "6679/6680 [============================>.] - ETA: 0s - loss: 3.4148 - acc: 0.1842"
     ]
    },
    {
     "ename": "KeyboardInterrupt",
     "evalue": "",
     "output_type": "error",
     "traceback": [
      "\u001b[0;31m---------------------------------------------------------------------------\u001b[0m",
      "\u001b[0;31mKeyboardInterrupt\u001b[0m                         Traceback (most recent call last)",
      "\u001b[0;32m<ipython-input-29-10911d45f0cc>\u001b[0m in \u001b[0;36m<module>\u001b[0;34m()\u001b[0m\n\u001b[1;32m     44\u001b[0m                     \u001b[0msteps_per_epoch\u001b[0m\u001b[0;34m=\u001b[0m\u001b[0mtrain_tensors\u001b[0m\u001b[0;34m.\u001b[0m\u001b[0mshape\u001b[0m\u001b[0;34m[\u001b[0m\u001b[0;36m0\u001b[0m\u001b[0;34m]\u001b[0m\u001b[0;34m,\u001b[0m\u001b[0;34m\u001b[0m\u001b[0m\n\u001b[1;32m     45\u001b[0m                   \u001b[0mvalidation_data\u001b[0m\u001b[0;34m=\u001b[0m\u001b[0mvalid_generator\u001b[0m\u001b[0;34m.\u001b[0m\u001b[0mflow\u001b[0m\u001b[0;34m(\u001b[0m\u001b[0mvalid_tensors\u001b[0m\u001b[0;34m,\u001b[0m \u001b[0mvalid_targets\u001b[0m\u001b[0;34m,\u001b[0m \u001b[0mbatch_size\u001b[0m\u001b[0;34m=\u001b[0m\u001b[0mbatch_size\u001b[0m\u001b[0;34m)\u001b[0m\u001b[0;34m,\u001b[0m\u001b[0;34m\u001b[0m\u001b[0m\n\u001b[0;32m---> 46\u001b[0;31m                   epochs=epochs, validation_steps=valid_tensors.shape[0], callbacks=[checkpointer, history_storer], verbose=1)\n\u001b[0m\u001b[1;32m     47\u001b[0m \u001b[0;34m\u001b[0m\u001b[0m\n\u001b[1;32m     48\u001b[0m \u001b[0;31m#history = model.fit(train_tensors, train_targets,\u001b[0m\u001b[0;34m\u001b[0m\u001b[0;34m\u001b[0m\u001b[0m\n",
      "\u001b[0;32m/home/aind2/anaconda3/envs/aind2/lib/python3.6/site-packages/keras/legacy/interfaces.py\u001b[0m in \u001b[0;36mwrapper\u001b[0;34m(*args, **kwargs)\u001b[0m\n\u001b[1;32m     86\u001b[0m                 warnings.warn('Update your `' + object_name +\n\u001b[1;32m     87\u001b[0m                               '` call to the Keras 2 API: ' + signature, stacklevel=2)\n\u001b[0;32m---> 88\u001b[0;31m             \u001b[0;32mreturn\u001b[0m \u001b[0mfunc\u001b[0m\u001b[0;34m(\u001b[0m\u001b[0;34m*\u001b[0m\u001b[0margs\u001b[0m\u001b[0;34m,\u001b[0m \u001b[0;34m**\u001b[0m\u001b[0mkwargs\u001b[0m\u001b[0;34m)\u001b[0m\u001b[0;34m\u001b[0m\u001b[0m\n\u001b[0m\u001b[1;32m     89\u001b[0m         \u001b[0mwrapper\u001b[0m\u001b[0;34m.\u001b[0m\u001b[0m_legacy_support_signature\u001b[0m \u001b[0;34m=\u001b[0m \u001b[0minspect\u001b[0m\u001b[0;34m.\u001b[0m\u001b[0mgetargspec\u001b[0m\u001b[0;34m(\u001b[0m\u001b[0mfunc\u001b[0m\u001b[0;34m)\u001b[0m\u001b[0;34m\u001b[0m\u001b[0m\n\u001b[1;32m     90\u001b[0m         \u001b[0;32mreturn\u001b[0m \u001b[0mwrapper\u001b[0m\u001b[0;34m\u001b[0m\u001b[0m\n",
      "\u001b[0;32m/home/aind2/anaconda3/envs/aind2/lib/python3.6/site-packages/keras/engine/training.py\u001b[0m in \u001b[0;36mfit_generator\u001b[0;34m(self, generator, steps_per_epoch, epochs, verbose, callbacks, validation_data, validation_steps, class_weight, max_q_size, workers, pickle_safe, initial_epoch)\u001b[0m\n\u001b[1;32m   1910\u001b[0m                                 \u001b[0mmax_q_size\u001b[0m\u001b[0;34m=\u001b[0m\u001b[0mmax_q_size\u001b[0m\u001b[0;34m,\u001b[0m\u001b[0;34m\u001b[0m\u001b[0m\n\u001b[1;32m   1911\u001b[0m                                 \u001b[0mworkers\u001b[0m\u001b[0;34m=\u001b[0m\u001b[0mworkers\u001b[0m\u001b[0;34m,\u001b[0m\u001b[0;34m\u001b[0m\u001b[0m\n\u001b[0;32m-> 1912\u001b[0;31m                                 pickle_safe=pickle_safe)\n\u001b[0m\u001b[1;32m   1913\u001b[0m                         \u001b[0;32melse\u001b[0m\u001b[0;34m:\u001b[0m\u001b[0;34m\u001b[0m\u001b[0m\n\u001b[1;32m   1914\u001b[0m                             \u001b[0;31m# No need for try/except because\u001b[0m\u001b[0;34m\u001b[0m\u001b[0;34m\u001b[0m\u001b[0m\n",
      "\u001b[0;32m/home/aind2/anaconda3/envs/aind2/lib/python3.6/site-packages/keras/legacy/interfaces.py\u001b[0m in \u001b[0;36mwrapper\u001b[0;34m(*args, **kwargs)\u001b[0m\n\u001b[1;32m     86\u001b[0m                 warnings.warn('Update your `' + object_name +\n\u001b[1;32m     87\u001b[0m                               '` call to the Keras 2 API: ' + signature, stacklevel=2)\n\u001b[0;32m---> 88\u001b[0;31m             \u001b[0;32mreturn\u001b[0m \u001b[0mfunc\u001b[0m\u001b[0;34m(\u001b[0m\u001b[0;34m*\u001b[0m\u001b[0margs\u001b[0m\u001b[0;34m,\u001b[0m \u001b[0;34m**\u001b[0m\u001b[0mkwargs\u001b[0m\u001b[0;34m)\u001b[0m\u001b[0;34m\u001b[0m\u001b[0m\n\u001b[0m\u001b[1;32m     89\u001b[0m         \u001b[0mwrapper\u001b[0m\u001b[0;34m.\u001b[0m\u001b[0m_legacy_support_signature\u001b[0m \u001b[0;34m=\u001b[0m \u001b[0minspect\u001b[0m\u001b[0;34m.\u001b[0m\u001b[0mgetargspec\u001b[0m\u001b[0;34m(\u001b[0m\u001b[0mfunc\u001b[0m\u001b[0;34m)\u001b[0m\u001b[0;34m\u001b[0m\u001b[0m\n\u001b[1;32m     90\u001b[0m         \u001b[0;32mreturn\u001b[0m \u001b[0mwrapper\u001b[0m\u001b[0;34m\u001b[0m\u001b[0m\n",
      "\u001b[0;32m/home/aind2/anaconda3/envs/aind2/lib/python3.6/site-packages/keras/engine/training.py\u001b[0m in \u001b[0;36mevaluate_generator\u001b[0;34m(self, generator, steps, max_q_size, workers, pickle_safe)\u001b[0m\n\u001b[1;32m   2007\u001b[0m                                      \u001b[0;34m'or (x, y). Found: '\u001b[0m \u001b[0;34m+\u001b[0m\u001b[0;34m\u001b[0m\u001b[0m\n\u001b[1;32m   2008\u001b[0m                                      str(generator_output))\n\u001b[0;32m-> 2009\u001b[0;31m                 \u001b[0mouts\u001b[0m \u001b[0;34m=\u001b[0m \u001b[0mself\u001b[0m\u001b[0;34m.\u001b[0m\u001b[0mtest_on_batch\u001b[0m\u001b[0;34m(\u001b[0m\u001b[0mx\u001b[0m\u001b[0;34m,\u001b[0m \u001b[0my\u001b[0m\u001b[0;34m,\u001b[0m \u001b[0msample_weight\u001b[0m\u001b[0;34m=\u001b[0m\u001b[0msample_weight\u001b[0m\u001b[0;34m)\u001b[0m\u001b[0;34m\u001b[0m\u001b[0m\n\u001b[0m\u001b[1;32m   2010\u001b[0m \u001b[0;34m\u001b[0m\u001b[0m\n\u001b[1;32m   2011\u001b[0m                 \u001b[0;32mif\u001b[0m \u001b[0misinstance\u001b[0m\u001b[0;34m(\u001b[0m\u001b[0mx\u001b[0m\u001b[0;34m,\u001b[0m \u001b[0mlist\u001b[0m\u001b[0;34m)\u001b[0m\u001b[0;34m:\u001b[0m\u001b[0;34m\u001b[0m\u001b[0m\n",
      "\u001b[0;32m/home/aind2/anaconda3/envs/aind2/lib/python3.6/site-packages/keras/engine/training.py\u001b[0m in \u001b[0;36mtest_on_batch\u001b[0;34m(self, x, y, sample_weight)\u001b[0m\n\u001b[1;32m   1673\u001b[0m             \u001b[0mins\u001b[0m \u001b[0;34m=\u001b[0m \u001b[0mx\u001b[0m \u001b[0;34m+\u001b[0m \u001b[0my\u001b[0m \u001b[0;34m+\u001b[0m \u001b[0msample_weights\u001b[0m\u001b[0;34m\u001b[0m\u001b[0m\n\u001b[1;32m   1674\u001b[0m         \u001b[0mself\u001b[0m\u001b[0;34m.\u001b[0m\u001b[0m_make_test_function\u001b[0m\u001b[0;34m(\u001b[0m\u001b[0;34m)\u001b[0m\u001b[0;34m\u001b[0m\u001b[0m\n\u001b[0;32m-> 1675\u001b[0;31m         \u001b[0moutputs\u001b[0m \u001b[0;34m=\u001b[0m \u001b[0mself\u001b[0m\u001b[0;34m.\u001b[0m\u001b[0mtest_function\u001b[0m\u001b[0;34m(\u001b[0m\u001b[0mins\u001b[0m\u001b[0;34m)\u001b[0m\u001b[0;34m\u001b[0m\u001b[0m\n\u001b[0m\u001b[1;32m   1676\u001b[0m         \u001b[0;32mif\u001b[0m \u001b[0mlen\u001b[0m\u001b[0;34m(\u001b[0m\u001b[0moutputs\u001b[0m\u001b[0;34m)\u001b[0m \u001b[0;34m==\u001b[0m \u001b[0;36m1\u001b[0m\u001b[0;34m:\u001b[0m\u001b[0;34m\u001b[0m\u001b[0m\n\u001b[1;32m   1677\u001b[0m             \u001b[0;32mreturn\u001b[0m \u001b[0moutputs\u001b[0m\u001b[0;34m[\u001b[0m\u001b[0;36m0\u001b[0m\u001b[0;34m]\u001b[0m\u001b[0;34m\u001b[0m\u001b[0m\n",
      "\u001b[0;32m/home/aind2/anaconda3/envs/aind2/lib/python3.6/site-packages/keras/backend/tensorflow_backend.py\u001b[0m in \u001b[0;36m__call__\u001b[0;34m(self, inputs)\u001b[0m\n\u001b[1;32m   2227\u001b[0m         \u001b[0msession\u001b[0m \u001b[0;34m=\u001b[0m \u001b[0mget_session\u001b[0m\u001b[0;34m(\u001b[0m\u001b[0;34m)\u001b[0m\u001b[0;34m\u001b[0m\u001b[0m\n\u001b[1;32m   2228\u001b[0m         updated = session.run(self.outputs + [self.updates_op],\n\u001b[0;32m-> 2229\u001b[0;31m                               feed_dict=feed_dict)\n\u001b[0m\u001b[1;32m   2230\u001b[0m         \u001b[0;32mreturn\u001b[0m \u001b[0mupdated\u001b[0m\u001b[0;34m[\u001b[0m\u001b[0;34m:\u001b[0m\u001b[0mlen\u001b[0m\u001b[0;34m(\u001b[0m\u001b[0mself\u001b[0m\u001b[0;34m.\u001b[0m\u001b[0moutputs\u001b[0m\u001b[0;34m)\u001b[0m\u001b[0;34m]\u001b[0m\u001b[0;34m\u001b[0m\u001b[0m\n\u001b[1;32m   2231\u001b[0m \u001b[0;34m\u001b[0m\u001b[0m\n",
      "\u001b[0;32m/home/aind2/anaconda3/envs/aind2/lib/python3.6/site-packages/tensorflow/python/client/session.py\u001b[0m in \u001b[0;36mrun\u001b[0;34m(self, fetches, feed_dict, options, run_metadata)\u001b[0m\n\u001b[1;32m    776\u001b[0m     \u001b[0;32mtry\u001b[0m\u001b[0;34m:\u001b[0m\u001b[0;34m\u001b[0m\u001b[0m\n\u001b[1;32m    777\u001b[0m       result = self._run(None, fetches, feed_dict, options_ptr,\n\u001b[0;32m--> 778\u001b[0;31m                          run_metadata_ptr)\n\u001b[0m\u001b[1;32m    779\u001b[0m       \u001b[0;32mif\u001b[0m \u001b[0mrun_metadata\u001b[0m\u001b[0;34m:\u001b[0m\u001b[0;34m\u001b[0m\u001b[0m\n\u001b[1;32m    780\u001b[0m         \u001b[0mproto_data\u001b[0m \u001b[0;34m=\u001b[0m \u001b[0mtf_session\u001b[0m\u001b[0;34m.\u001b[0m\u001b[0mTF_GetBuffer\u001b[0m\u001b[0;34m(\u001b[0m\u001b[0mrun_metadata_ptr\u001b[0m\u001b[0;34m)\u001b[0m\u001b[0;34m\u001b[0m\u001b[0m\n",
      "\u001b[0;32m/home/aind2/anaconda3/envs/aind2/lib/python3.6/site-packages/tensorflow/python/client/session.py\u001b[0m in \u001b[0;36m_run\u001b[0;34m(self, handle, fetches, feed_dict, options, run_metadata)\u001b[0m\n\u001b[1;32m    980\u001b[0m     \u001b[0;32mif\u001b[0m \u001b[0mfinal_fetches\u001b[0m \u001b[0;32mor\u001b[0m \u001b[0mfinal_targets\u001b[0m\u001b[0;34m:\u001b[0m\u001b[0;34m\u001b[0m\u001b[0m\n\u001b[1;32m    981\u001b[0m       results = self._do_run(handle, final_targets, final_fetches,\n\u001b[0;32m--> 982\u001b[0;31m                              feed_dict_string, options, run_metadata)\n\u001b[0m\u001b[1;32m    983\u001b[0m     \u001b[0;32melse\u001b[0m\u001b[0;34m:\u001b[0m\u001b[0;34m\u001b[0m\u001b[0m\n\u001b[1;32m    984\u001b[0m       \u001b[0mresults\u001b[0m \u001b[0;34m=\u001b[0m \u001b[0;34m[\u001b[0m\u001b[0;34m]\u001b[0m\u001b[0;34m\u001b[0m\u001b[0m\n",
      "\u001b[0;32m/home/aind2/anaconda3/envs/aind2/lib/python3.6/site-packages/tensorflow/python/client/session.py\u001b[0m in \u001b[0;36m_do_run\u001b[0;34m(self, handle, target_list, fetch_list, feed_dict, options, run_metadata)\u001b[0m\n\u001b[1;32m   1030\u001b[0m     \u001b[0;32mif\u001b[0m \u001b[0mhandle\u001b[0m \u001b[0;32mis\u001b[0m \u001b[0;32mNone\u001b[0m\u001b[0;34m:\u001b[0m\u001b[0;34m\u001b[0m\u001b[0m\n\u001b[1;32m   1031\u001b[0m       return self._do_call(_run_fn, self._session, feed_dict, fetch_list,\n\u001b[0;32m-> 1032\u001b[0;31m                            target_list, options, run_metadata)\n\u001b[0m\u001b[1;32m   1033\u001b[0m     \u001b[0;32melse\u001b[0m\u001b[0;34m:\u001b[0m\u001b[0;34m\u001b[0m\u001b[0m\n\u001b[1;32m   1034\u001b[0m       return self._do_call(_prun_fn, self._session, handle, feed_dict,\n",
      "\u001b[0;32m/home/aind2/anaconda3/envs/aind2/lib/python3.6/site-packages/tensorflow/python/client/session.py\u001b[0m in \u001b[0;36m_do_call\u001b[0;34m(self, fn, *args)\u001b[0m\n\u001b[1;32m   1037\u001b[0m   \u001b[0;32mdef\u001b[0m \u001b[0m_do_call\u001b[0m\u001b[0;34m(\u001b[0m\u001b[0mself\u001b[0m\u001b[0;34m,\u001b[0m \u001b[0mfn\u001b[0m\u001b[0;34m,\u001b[0m \u001b[0;34m*\u001b[0m\u001b[0margs\u001b[0m\u001b[0;34m)\u001b[0m\u001b[0;34m:\u001b[0m\u001b[0;34m\u001b[0m\u001b[0m\n\u001b[1;32m   1038\u001b[0m     \u001b[0;32mtry\u001b[0m\u001b[0;34m:\u001b[0m\u001b[0;34m\u001b[0m\u001b[0m\n\u001b[0;32m-> 1039\u001b[0;31m       \u001b[0;32mreturn\u001b[0m \u001b[0mfn\u001b[0m\u001b[0;34m(\u001b[0m\u001b[0;34m*\u001b[0m\u001b[0margs\u001b[0m\u001b[0;34m)\u001b[0m\u001b[0;34m\u001b[0m\u001b[0m\n\u001b[0m\u001b[1;32m   1040\u001b[0m     \u001b[0;32mexcept\u001b[0m \u001b[0merrors\u001b[0m\u001b[0;34m.\u001b[0m\u001b[0mOpError\u001b[0m \u001b[0;32mas\u001b[0m \u001b[0me\u001b[0m\u001b[0;34m:\u001b[0m\u001b[0;34m\u001b[0m\u001b[0m\n\u001b[1;32m   1041\u001b[0m       \u001b[0mmessage\u001b[0m \u001b[0;34m=\u001b[0m \u001b[0mcompat\u001b[0m\u001b[0;34m.\u001b[0m\u001b[0mas_text\u001b[0m\u001b[0;34m(\u001b[0m\u001b[0me\u001b[0m\u001b[0;34m.\u001b[0m\u001b[0mmessage\u001b[0m\u001b[0;34m)\u001b[0m\u001b[0;34m\u001b[0m\u001b[0m\n",
      "\u001b[0;32m/home/aind2/anaconda3/envs/aind2/lib/python3.6/site-packages/tensorflow/python/client/session.py\u001b[0m in \u001b[0;36m_run_fn\u001b[0;34m(session, feed_dict, fetch_list, target_list, options, run_metadata)\u001b[0m\n\u001b[1;32m   1019\u001b[0m         return tf_session.TF_Run(session, options,\n\u001b[1;32m   1020\u001b[0m                                  \u001b[0mfeed_dict\u001b[0m\u001b[0;34m,\u001b[0m \u001b[0mfetch_list\u001b[0m\u001b[0;34m,\u001b[0m \u001b[0mtarget_list\u001b[0m\u001b[0;34m,\u001b[0m\u001b[0;34m\u001b[0m\u001b[0m\n\u001b[0;32m-> 1021\u001b[0;31m                                  status, run_metadata)\n\u001b[0m\u001b[1;32m   1022\u001b[0m \u001b[0;34m\u001b[0m\u001b[0m\n\u001b[1;32m   1023\u001b[0m     \u001b[0;32mdef\u001b[0m \u001b[0m_prun_fn\u001b[0m\u001b[0;34m(\u001b[0m\u001b[0msession\u001b[0m\u001b[0;34m,\u001b[0m \u001b[0mhandle\u001b[0m\u001b[0;34m,\u001b[0m \u001b[0mfeed_dict\u001b[0m\u001b[0;34m,\u001b[0m \u001b[0mfetch_list\u001b[0m\u001b[0;34m)\u001b[0m\u001b[0;34m:\u001b[0m\u001b[0;34m\u001b[0m\u001b[0m\n",
      "\u001b[0;31mKeyboardInterrupt\u001b[0m: "
     ]
    }
   ],
   "source": [
    "from keras.callbacks import ModelCheckpoint, History, BaseLogger\n",
    "from keras.preprocessing.image import ImageDataGenerator\n",
    "\n",
    "# To augument the training data, the code is edited. \n",
    "RANDOM_SEED=10\n",
    "epochs = 20\n",
    "\n",
    "train_generator = ImageDataGenerator(\n",
    "                            rotation_range=45,\n",
    "                            width_shift_range=0.2,\n",
    "                            height_shift_range=0.2,\n",
    "                            shear_range=0.2,\n",
    "                            zoom_range=0.2,\n",
    "                            horizontal_flip=True,\n",
    "                            vertical_flip=True,\n",
    "                            fill_mode='nearest'\n",
    "                        )\n",
    "\n",
    "\n",
    "valid_generator = ImageDataGenerator(\n",
    "                            rotation_range=45,\n",
    "                            width_shift_range=0.2,\n",
    "                            height_shift_range=0.2,\n",
    "                            shear_range=0.2,\n",
    "                            zoom_range=0.2,\n",
    "                            horizontal_flip=True,\n",
    "                            vertical_flip=True,\n",
    "                            fill_mode='nearest'\n",
    "                        )\n",
    "\n",
    "train_generator.fit(train_tensors, seed=RANDOM_SEED)\n",
    "valid_generator.fit(valid_tensors, seed=RANDOM_SEED)\n",
    "\n",
    "\n",
    "history_storer = History()\n",
    "base_logger = BaseLogger()\n",
    "# key board interupted because it takes too match time.\n",
    "### Do NOT modify the code below this line.\n",
    "\n",
    "checkpointer = ModelCheckpoint(filepath='saved_models/weights.best.from_scratch.hdf5', \n",
    "                               verbose=1, save_best_only=True)\n",
    "\n",
    "batch_size=40\n",
    "history = model.fit_generator(train_generator.flow(train_tensors, train_targets, batch_size=batch_size),\n",
    "                    steps_per_epoch=train_tensors.shape[0],\n",
    "                  validation_data=valid_generator.flow(valid_tensors, valid_targets, batch_size=batch_size),\n",
    "                  epochs=epochs, validation_steps=valid_tensors.shape[0], callbacks=[checkpointer, history_storer], verbose=1)\n",
    "\n",
    "#history = model.fit(train_tensors, train_targets, \n",
    "#          validation_data=(valid_tensors, valid_targets),\n",
    "#          epochs=epochs, batch_size=20, callbacks=[checkpointer, history_storer], verbose=1)"
   ]
  },
  {
   "cell_type": "markdown",
   "metadata": {
    "hideCode": false,
    "hidePrompt": false
   },
   "source": [
    "### Load the Model with the Best Validation Loss"
   ]
  },
  {
   "cell_type": "code",
   "execution_count": 30,
   "metadata": {
    "collapsed": true,
    "hideCode": false,
    "hidePrompt": false
   },
   "outputs": [],
   "source": [
    "model.load_weights('saved_models/weights.best.from_scratch.hdf5')"
   ]
  },
  {
   "cell_type": "markdown",
   "metadata": {
    "hideCode": false,
    "hidePrompt": false
   },
   "source": [
    "### Test the Model\n",
    "\n",
    "Try out your model on the test dataset of dog images.  Ensure that your test accuracy is greater than 1%."
   ]
  },
  {
   "cell_type": "code",
   "execution_count": 31,
   "metadata": {
    "hideCode": false,
    "hidePrompt": false
   },
   "outputs": [
    {
     "name": "stdout",
     "output_type": "stream",
     "text": [
      "Test accuracy: 23.6842%\n"
     ]
    }
   ],
   "source": [
    "# get index of predicted dog breed for each image in test set\n",
    "dog_breed_predictions = [np.argmax(model.predict(np.expand_dims(tensor, axis=0))) for tensor in test_tensors]\n",
    "\n",
    "# report test accuracy\n",
    "test_accuracy = 100 * np.sum(np.array(dog_breed_predictions)==np.argmax(test_targets, axis=1)) / len(dog_breed_predictions)\n",
    "print('Test accuracy: %.4f%%' % test_accuracy)"
   ]
  },
  {
   "cell_type": "markdown",
   "metadata": {
    "hideCode": false,
    "hidePrompt": false
   },
   "source": [
    "---\n",
    "<a id='step4'></a>\n",
    "## Step 4: Use a CNN to Classify Dog Breeds\n",
    "\n",
    "To reduce training time without sacrificing accuracy, we show you how to train a CNN using transfer learning.  In the following step, you will get a chance to use transfer learning to train your own CNN.\n",
    "\n",
    "### Obtain Bottleneck Features"
   ]
  },
  {
   "cell_type": "code",
   "execution_count": 19,
   "metadata": {
    "collapsed": true,
    "hideCode": false,
    "hidePrompt": false
   },
   "outputs": [],
   "source": [
    "bottleneck_features = np.load('bottleneck_features/DogVGG16Data.npz')\n",
    "train_VGG16 = bottleneck_features['train']\n",
    "valid_VGG16 = bottleneck_features['valid']\n",
    "test_VGG16 = bottleneck_features['test']"
   ]
  },
  {
   "cell_type": "markdown",
   "metadata": {
    "hideCode": false,
    "hidePrompt": false
   },
   "source": [
    "### Model Architecture\n",
    "\n",
    "The model uses the the pre-trained VGG-16 model as a fixed feature extractor, where the last convolutional output of VGG-16 is fed as input to our model.  We only add a global average pooling layer and a fully connected layer, where the latter contains one node for each dog category and is equipped with a softmax."
   ]
  },
  {
   "cell_type": "code",
   "execution_count": 20,
   "metadata": {
    "hideCode": false,
    "hidePrompt": false
   },
   "outputs": [
    {
     "name": "stdout",
     "output_type": "stream",
     "text": [
      "_________________________________________________________________\n",
      "Layer (type)                 Output Shape              Param #   \n",
      "=================================================================\n",
      "global_average_pooling2d_2 ( (None, 512)               0         \n",
      "_________________________________________________________________\n",
      "dense_3 (Dense)              (None, 133)               68229     \n",
      "=================================================================\n",
      "Total params: 68,229.0\n",
      "Trainable params: 68,229.0\n",
      "Non-trainable params: 0.0\n",
      "_________________________________________________________________\n"
     ]
    }
   ],
   "source": [
    "VGG16_model = Sequential()\n",
    "VGG16_model.add(GlobalAveragePooling2D(input_shape=train_VGG16.shape[1:]))\n",
    "VGG16_model.add(Dense(133, activation='softmax'))\n",
    "\n",
    "VGG16_model.summary()"
   ]
  },
  {
   "cell_type": "markdown",
   "metadata": {
    "hideCode": false,
    "hidePrompt": false
   },
   "source": [
    "### Compile the Model"
   ]
  },
  {
   "cell_type": "code",
   "execution_count": 21,
   "metadata": {
    "collapsed": true,
    "hideCode": false,
    "hidePrompt": false
   },
   "outputs": [],
   "source": [
    "VGG16_model.compile(loss='categorical_crossentropy', optimizer='rmsprop', metrics=['accuracy'])"
   ]
  },
  {
   "cell_type": "markdown",
   "metadata": {
    "hideCode": false,
    "hidePrompt": false
   },
   "source": [
    "### Train the Model"
   ]
  },
  {
   "cell_type": "code",
   "execution_count": 22,
   "metadata": {
    "hideCode": false,
    "hidePrompt": false
   },
   "outputs": [
    {
     "name": "stdout",
     "output_type": "stream",
     "text": [
      "Train on 6680 samples, validate on 835 samples\n",
      "Epoch 1/20\n",
      "6580/6680 [============================>.] - ETA: 148s - loss: 14.4393 - acc: 0.05 - ETA: 20s - loss: 14.5490 - acc: 0.0188 - ETA: 11s - loss: 14.4552 - acc: 0.023 - ETA: 9s - loss: 14.5233 - acc: 0.023 - ETA: 7s - loss: 14.2980 - acc: 0.03 - ETA: 6s - loss: 14.2529 - acc: 0.03 - ETA: 5s - loss: 14.2113 - acc: 0.03 - ETA: 4s - loss: 14.1709 - acc: 0.03 - ETA: 4s - loss: 14.0686 - acc: 0.04 - ETA: 4s - loss: 13.9183 - acc: 0.04 - ETA: 3s - loss: 13.8582 - acc: 0.04 - ETA: 3s - loss: 13.7835 - acc: 0.05 - ETA: 3s - loss: 13.7094 - acc: 0.05 - ETA: 3s - loss: 13.6460 - acc: 0.05 - ETA: 3s - loss: 13.6196 - acc: 0.05 - ETA: 2s - loss: 13.5635 - acc: 0.05 - ETA: 2s - loss: 13.5402 - acc: 0.05 - ETA: 2s - loss: 13.4613 - acc: 0.06 - ETA: 2s - loss: 13.4469 - acc: 0.06 - ETA: 2s - loss: 13.3886 - acc: 0.06 - ETA: 2s - loss: 13.3197 - acc: 0.06 - ETA: 2s - loss: 13.2838 - acc: 0.07 - ETA: 2s - loss: 13.2448 - acc: 0.07 - ETA: 1s - loss: 13.1960 - acc: 0.07 - ETA: 1s - loss: 13.0754 - acc: 0.07 - ETA: 1s - loss: 13.0476 - acc: 0.07 - ETA: 1s - loss: 12.9930 - acc: 0.08 - ETA: 1s - loss: 12.9255 - acc: 0.08 - ETA: 1s - loss: 12.8542 - acc: 0.08 - ETA: 1s - loss: 12.8286 - acc: 0.08 - ETA: 1s - loss: 12.7661 - acc: 0.09 - ETA: 1s - loss: 12.7339 - acc: 0.09 - ETA: 1s - loss: 12.6976 - acc: 0.09 - ETA: 1s - loss: 12.6459 - acc: 0.09 - ETA: 1s - loss: 12.5538 - acc: 0.10 - ETA: 1s - loss: 12.5098 - acc: 0.10 - ETA: 0s - loss: 12.4834 - acc: 0.10 - ETA: 0s - loss: 12.4200 - acc: 0.10 - ETA: 0s - loss: 12.3607 - acc: 0.10 - ETA: 0s - loss: 12.3212 - acc: 0.11 - ETA: 0s - loss: 12.2731 - acc: 0.11 - ETA: 0s - loss: 12.2582 - acc: 0.11 - ETA: 0s - loss: 12.2195 - acc: 0.11 - ETA: 0s - loss: 12.1752 - acc: 0.11 - ETA: 0s - loss: 12.1475 - acc: 0.12 - ETA: 0s - loss: 12.1003 - acc: 0.12 - ETA: 0s - loss: 12.0741 - acc: 0.12 - ETA: 0s - loss: 12.0473 - acc: 0.12 - ETA: 0s - loss: 11.9993 - acc: 0.12 - ETA: 0s - loss: 11.9650 - acc: 0.13 - ETA: 0s - loss: 11.9343 - acc: 0.1334Epoch 00000: val_loss improved from inf to 10.46817, saving model to saved_models/weights.best.VGG16.hdf5\n",
      "6680/6680 [==============================] - 3s - loss: 11.9010 - acc: 0.1355 - val_loss: 10.4682 - val_acc: 0.2263\n",
      "Epoch 2/20\n",
      "6600/6680 [============================>.] - ETA: 2s - loss: 11.3439 - acc: 0.15 - ETA: 3s - loss: 10.2317 - acc: 0.28 - ETA: 3s - loss: 10.1631 - acc: 0.26 - ETA: 3s - loss: 10.3988 - acc: 0.25 - ETA: 2s - loss: 10.0310 - acc: 0.26 - ETA: 2s - loss: 10.0438 - acc: 0.27 - ETA: 2s - loss: 10.0230 - acc: 0.27 - ETA: 2s - loss: 9.9733 - acc: 0.2756 - ETA: 2s - loss: 9.9857 - acc: 0.279 - ETA: 2s - loss: 9.9475 - acc: 0.281 - ETA: 2s - loss: 10.0310 - acc: 0.27 - ETA: 2s - loss: 9.9808 - acc: 0.2750 - ETA: 2s - loss: 9.8892 - acc: 0.277 - ETA: 2s - loss: 9.9210 - acc: 0.275 - ETA: 2s - loss: 9.8995 - acc: 0.278 - ETA: 2s - loss: 9.8839 - acc: 0.276 - ETA: 2s - loss: 9.8819 - acc: 0.278 - ETA: 2s - loss: 9.8265 - acc: 0.282 - ETA: 1s - loss: 9.7613 - acc: 0.286 - ETA: 1s - loss: 9.7479 - acc: 0.287 - ETA: 1s - loss: 9.7510 - acc: 0.286 - ETA: 1s - loss: 9.7538 - acc: 0.287 - ETA: 1s - loss: 9.7245 - acc: 0.289 - ETA: 1s - loss: 9.6594 - acc: 0.292 - ETA: 1s - loss: 9.6864 - acc: 0.290 - ETA: 1s - loss: 9.6931 - acc: 0.290 - ETA: 1s - loss: 9.7054 - acc: 0.289 - ETA: 1s - loss: 9.7082 - acc: 0.290 - ETA: 1s - loss: 9.6784 - acc: 0.293 - ETA: 1s - loss: 9.6798 - acc: 0.294 - ETA: 1s - loss: 9.6853 - acc: 0.294 - ETA: 1s - loss: 9.6935 - acc: 0.294 - ETA: 1s - loss: 9.6809 - acc: 0.296 - ETA: 1s - loss: 9.6417 - acc: 0.298 - ETA: 1s - loss: 9.6017 - acc: 0.299 - ETA: 0s - loss: 9.5979 - acc: 0.300 - ETA: 0s - loss: 9.5987 - acc: 0.300 - ETA: 0s - loss: 9.5970 - acc: 0.300 - ETA: 0s - loss: 9.6143 - acc: 0.300 - ETA: 0s - loss: 9.5941 - acc: 0.302 - ETA: 0s - loss: 9.5886 - acc: 0.303 - ETA: 0s - loss: 9.5462 - acc: 0.305 - ETA: 0s - loss: 9.5473 - acc: 0.305 - ETA: 0s - loss: 9.5513 - acc: 0.305 - ETA: 0s - loss: 9.5505 - acc: 0.306 - ETA: 0s - loss: 9.5326 - acc: 0.306 - ETA: 0s - loss: 9.5150 - acc: 0.306 - ETA: 0s - loss: 9.4905 - acc: 0.308 - ETA: 0s - loss: 9.4825 - acc: 0.308 - ETA: 0s - loss: 9.4832 - acc: 0.309 - ETA: 0s - loss: 9.5028 - acc: 0.308 - ETA: 0s - loss: 9.4826 - acc: 0.309 - ETA: 0s - loss: 9.5016 - acc: 0.309 - ETA: 0s - loss: 9.4969 - acc: 0.3103Epoch 00001: val_loss improved from 10.46817 to 9.37262, saving model to saved_models/weights.best.VGG16.hdf5\n",
      "6680/6680 [==============================] - 3s - loss: 9.4935 - acc: 0.3105 - val_loss: 9.3726 - val_acc: 0.3269\n",
      "Epoch 3/20\n",
      "6580/6680 [============================>.] - ETA: 3s - loss: 8.9605 - acc: 0.400 - ETA: 3s - loss: 8.8353 - acc: 0.378 - ETA: 2s - loss: 9.4159 - acc: 0.361 - ETA: 2s - loss: 9.1783 - acc: 0.373 - ETA: 2s - loss: 9.0468 - acc: 0.384 - ETA: 2s - loss: 9.2068 - acc: 0.374 - ETA: 2s - loss: 9.1361 - acc: 0.379 - ETA: 2s - loss: 9.1137 - acc: 0.373 - ETA: 2s - loss: 9.0287 - acc: 0.377 - ETA: 2s - loss: 9.1241 - acc: 0.373 - ETA: 2s - loss: 9.0334 - acc: 0.378 - ETA: 2s - loss: 8.9112 - acc: 0.381 - ETA: 2s - loss: 8.9210 - acc: 0.378 - ETA: 2s - loss: 8.9963 - acc: 0.375 - ETA: 2s - loss: 9.0427 - acc: 0.369 - ETA: 2s - loss: 8.9661 - acc: 0.372 - ETA: 2s - loss: 8.9375 - acc: 0.373 - ETA: 2s - loss: 8.8885 - acc: 0.376 - ETA: 1s - loss: 8.8451 - acc: 0.378 - ETA: 1s - loss: 8.8216 - acc: 0.380 - ETA: 1s - loss: 8.8661 - acc: 0.379 - ETA: 1s - loss: 8.8478 - acc: 0.380 - ETA: 1s - loss: 8.8229 - acc: 0.383 - ETA: 1s - loss: 8.8608 - acc: 0.379 - ETA: 1s - loss: 8.8577 - acc: 0.380 - ETA: 1s - loss: 8.8589 - acc: 0.381 - ETA: 1s - loss: 8.8738 - acc: 0.378 - ETA: 1s - loss: 8.8724 - acc: 0.379 - ETA: 1s - loss: 8.8711 - acc: 0.380 - ETA: 1s - loss: 8.9108 - acc: 0.378 - ETA: 1s - loss: 8.8954 - acc: 0.378 - ETA: 1s - loss: 8.8411 - acc: 0.381 - ETA: 1s - loss: 8.8492 - acc: 0.379 - ETA: 1s - loss: 8.8443 - acc: 0.380 - ETA: 1s - loss: 8.8353 - acc: 0.381 - ETA: 1s - loss: 8.8410 - acc: 0.381 - ETA: 0s - loss: 8.8586 - acc: 0.379 - ETA: 0s - loss: 8.8255 - acc: 0.381 - ETA: 0s - loss: 8.8362 - acc: 0.381 - ETA: 0s - loss: 8.8675 - acc: 0.380 - ETA: 0s - loss: 8.8812 - acc: 0.379 - ETA: 0s - loss: 8.8733 - acc: 0.379 - ETA: 0s - loss: 8.8501 - acc: 0.381 - ETA: 0s - loss: 8.8464 - acc: 0.381 - ETA: 0s - loss: 8.8665 - acc: 0.380 - ETA: 0s - loss: 8.8626 - acc: 0.380 - ETA: 0s - loss: 8.8726 - acc: 0.380 - ETA: 0s - loss: 8.8891 - acc: 0.379 - ETA: 0s - loss: 8.8843 - acc: 0.379 - ETA: 0s - loss: 8.8623 - acc: 0.380 - ETA: 0s - loss: 8.8573 - acc: 0.380 - ETA: 0s - loss: 8.8402 - acc: 0.381 - ETA: 0s - loss: 8.8329 - acc: 0.381 - ETA: 0s - loss: 8.8208 - acc: 0.381 - ETA: 0s - loss: 8.8063 - acc: 0.3821Epoch 00002: val_loss improved from 9.37262 to 9.01960, saving model to saved_models/weights.best.VGG16.hdf5\n",
      "6680/6680 [==============================] - 3s - loss: 8.8262 - acc: 0.3813 - val_loss: 9.0196 - val_acc: 0.3521\n",
      "Epoch 4/20\n",
      "6560/6680 [============================>.] - ETA: 3s - loss: 5.3237 - acc: 0.600 - ETA: 3s - loss: 7.1220 - acc: 0.507 - ETA: 2s - loss: 7.3717 - acc: 0.496 - ETA: 2s - loss: 8.4736 - acc: 0.431 - ETA: 2s - loss: 8.7189 - acc: 0.414 - ETA: 2s - loss: 8.8358 - acc: 0.408 - ETA: 2s - loss: 8.5364 - acc: 0.423 - ETA: 2s - loss: 8.4849 - acc: 0.421 - ETA: 2s - loss: 8.3415 - acc: 0.431 - ETA: 2s - loss: 8.3891 - acc: 0.428 - ETA: 2s - loss: 8.2625 - acc: 0.438 - ETA: 2s - loss: 8.2255 - acc: 0.439 - ETA: 2s - loss: 8.1427 - acc: 0.443 - ETA: 2s - loss: 8.0838 - acc: 0.444 - ETA: 2s - loss: 8.1855 - acc: 0.438 - ETA: 2s - loss: 8.2372 - acc: 0.436 - ETA: 1s - loss: 8.2657 - acc: 0.435 - ETA: 1s - loss: 8.2471 - acc: 0.435 - ETA: 1s - loss: 8.2455 - acc: 0.434 - ETA: 1s - loss: 8.2371 - acc: 0.432 - ETA: 1s - loss: 8.2651 - acc: 0.430 - ETA: 1s - loss: 8.3193 - acc: 0.426 - ETA: 1s - loss: 8.3409 - acc: 0.424 - ETA: 1s - loss: 8.4076 - acc: 0.421 - ETA: 1s - loss: 8.4390 - acc: 0.419 - ETA: 1s - loss: 8.4817 - acc: 0.416 - ETA: 1s - loss: 8.4930 - acc: 0.416 - ETA: 1s - loss: 8.4874 - acc: 0.417 - ETA: 1s - loss: 8.4706 - acc: 0.418 - ETA: 1s - loss: 8.4739 - acc: 0.417 - ETA: 1s - loss: 8.4571 - acc: 0.419 - ETA: 1s - loss: 8.4532 - acc: 0.419 - ETA: 1s - loss: 8.4446 - acc: 0.420 - ETA: 1s - loss: 8.4694 - acc: 0.419 - ETA: 1s - loss: 8.4866 - acc: 0.418 - ETA: 1s - loss: 8.4713 - acc: 0.419 - ETA: 0s - loss: 8.4670 - acc: 0.420 - ETA: 0s - loss: 8.4651 - acc: 0.419 - ETA: 0s - loss: 8.4688 - acc: 0.419 - ETA: 0s - loss: 8.4627 - acc: 0.419 - ETA: 0s - loss: 8.4608 - acc: 0.419 - ETA: 0s - loss: 8.4735 - acc: 0.418 - ETA: 0s - loss: 8.4998 - acc: 0.416 - ETA: 0s - loss: 8.4985 - acc: 0.416 - ETA: 0s - loss: 8.5191 - acc: 0.415 - ETA: 0s - loss: 8.4988 - acc: 0.416 - ETA: 0s - loss: 8.4695 - acc: 0.418 - ETA: 0s - loss: 8.4595 - acc: 0.418 - ETA: 0s - loss: 8.4962 - acc: 0.416 - ETA: 0s - loss: 8.5077 - acc: 0.415 - ETA: 0s - loss: 8.5033 - acc: 0.415 - ETA: 0s - loss: 8.5056 - acc: 0.415 - ETA: 0s - loss: 8.4939 - acc: 0.416 - ETA: 0s - loss: 8.5064 - acc: 0.4166Epoch 00003: val_loss improved from 9.01960 to 8.87551, saving model to saved_models/weights.best.VGG16.hdf5\n",
      "6680/6680 [==============================] - 3s - loss: 8.5072 - acc: 0.4169 - val_loss: 8.8755 - val_acc: 0.3665\n",
      "Epoch 5/20\n",
      "6620/6680 [============================>.] - ETA: 3s - loss: 9.7305 - acc: 0.350 - ETA: 3s - loss: 8.0499 - acc: 0.466 - ETA: 3s - loss: 8.2876 - acc: 0.445 - ETA: 3s - loss: 8.4324 - acc: 0.429 - ETA: 2s - loss: 8.3660 - acc: 0.439 - ETA: 2s - loss: 8.2938 - acc: 0.446 - ETA: 2s - loss: 8.2847 - acc: 0.445 - ETA: 2s - loss: 8.2611 - acc: 0.447 - ETA: 2s - loss: 8.3435 - acc: 0.442 - ETA: 2s - loss: 8.3644 - acc: 0.438 - ETA: 2s - loss: 8.4946 - acc: 0.432 - ETA: 2s - loss: 8.4310 - acc: 0.437 - ETA: 2s - loss: 8.4968 - acc: 0.434 - ETA: 2s - loss: 8.5064 - acc: 0.431 - ETA: 2s - loss: 8.4344 - acc: 0.436 - ETA: 2s - loss: 8.4922 - acc: 0.432 - ETA: 2s - loss: 8.5164 - acc: 0.431 - ETA: 2s - loss: 8.4297 - acc: 0.436 - ETA: 2s - loss: 8.4066 - acc: 0.437 - ETA: 1s - loss: 8.4033 - acc: 0.438 - ETA: 1s - loss: 8.4564 - acc: 0.436 - ETA: 1s - loss: 8.4379 - acc: 0.437 - ETA: 1s - loss: 8.4295 - acc: 0.437 - ETA: 1s - loss: 8.3866 - acc: 0.440 - ETA: 1s - loss: 8.4043 - acc: 0.440 - ETA: 1s - loss: 8.4229 - acc: 0.440 - ETA: 1s - loss: 8.4047 - acc: 0.441 - ETA: 1s - loss: 8.3823 - acc: 0.442 - ETA: 1s - loss: 8.3570 - acc: 0.444 - ETA: 1s - loss: 8.3383 - acc: 0.445 - ETA: 1s - loss: 8.3757 - acc: 0.443 - ETA: 1s - loss: 8.3778 - acc: 0.443 - ETA: 1s - loss: 8.4256 - acc: 0.441 - ETA: 1s - loss: 8.4048 - acc: 0.442 - ETA: 1s - loss: 8.4423 - acc: 0.440 - ETA: 1s - loss: 8.4278 - acc: 0.440 - ETA: 1s - loss: 8.4177 - acc: 0.441 - ETA: 1s - loss: 8.4707 - acc: 0.439 - ETA: 0s - loss: 8.4689 - acc: 0.438 - ETA: 0s - loss: 8.4752 - acc: 0.437 - ETA: 0s - loss: 8.4786 - acc: 0.437 - ETA: 0s - loss: 8.4920 - acc: 0.436 - ETA: 0s - loss: 8.4651 - acc: 0.437 - ETA: 0s - loss: 8.4421 - acc: 0.439 - ETA: 0s - loss: 8.4364 - acc: 0.439 - ETA: 0s - loss: 8.4233 - acc: 0.439 - ETA: 0s - loss: 8.4089 - acc: 0.440 - ETA: 0s - loss: 8.3937 - acc: 0.441 - ETA: 0s - loss: 8.3927 - acc: 0.442 - ETA: 0s - loss: 8.4207 - acc: 0.440 - ETA: 0s - loss: 8.4118 - acc: 0.441 - ETA: 0s - loss: 8.3988 - acc: 0.441 - ETA: 0s - loss: 8.3896 - acc: 0.442 - ETA: 0s - loss: 8.3831 - acc: 0.442 - ETA: 0s - loss: 8.3800 - acc: 0.442 - ETA: 0s - loss: 8.3790 - acc: 0.4415Epoch 00004: val_loss did not improve\n",
      "6680/6680 [==============================] - 3s - loss: 8.3737 - acc: 0.4415 - val_loss: 8.9443 - val_acc: 0.3689\n",
      "Epoch 6/20\n",
      "6620/6680 [============================>.] - ETA: 2s - loss: 6.7664 - acc: 0.500 - ETA: 2s - loss: 8.0628 - acc: 0.450 - ETA: 2s - loss: 8.5319 - acc: 0.428 - ETA: 2s - loss: 8.5088 - acc: 0.430 - ETA: 2s - loss: 8.5447 - acc: 0.434 - ETA: 2s - loss: 8.6621 - acc: 0.432 - ETA: 2s - loss: 8.3765 - acc: 0.450 - ETA: 2s - loss: 8.3038 - acc: 0.453 - ETA: 2s - loss: 8.2782 - acc: 0.454 - ETA: 2s - loss: 8.3307 - acc: 0.453 - ETA: 2s - loss: 8.3753 - acc: 0.450 - ETA: 2s - loss: 8.3757 - acc: 0.451 - ETA: 2s - loss: 8.3996 - acc: 0.450 - ETA: 2s - loss: 8.3017 - acc: 0.457 - ETA: 2s - loss: 8.3390 - acc: 0.453 - ETA: 1s - loss: 8.3596 - acc: 0.452 - ETA: 1s - loss: 8.3547 - acc: 0.451 - ETA: 1s - loss: 8.3621 - acc: 0.451 - ETA: 1s - loss: 8.2643 - acc: 0.457 - ETA: 1s - loss: 8.2443 - acc: 0.457 - ETA: 1s - loss: 8.3189 - acc: 0.452 - ETA: 1s - loss: 8.3773 - acc: 0.449 - ETA: 1s - loss: 8.3550 - acc: 0.450 - ETA: 1s - loss: 8.3578 - acc: 0.450 - ETA: 1s - loss: 8.3488 - acc: 0.451 - ETA: 1s - loss: 8.3065 - acc: 0.454 - ETA: 1s - loss: 8.3143 - acc: 0.453 - ETA: 1s - loss: 8.3325 - acc: 0.452 - ETA: 1s - loss: 8.3011 - acc: 0.454 - ETA: 1s - loss: 8.3003 - acc: 0.454 - ETA: 1s - loss: 8.3014 - acc: 0.454 - ETA: 1s - loss: 8.3164 - acc: 0.453 - ETA: 1s - loss: 8.3182 - acc: 0.453 - ETA: 1s - loss: 8.3307 - acc: 0.452 - ETA: 1s - loss: 8.3344 - acc: 0.452 - ETA: 1s - loss: 8.3261 - acc: 0.453 - ETA: 0s - loss: 8.3210 - acc: 0.453 - ETA: 0s - loss: 8.3294 - acc: 0.452 - ETA: 0s - loss: 8.3608 - acc: 0.451 - ETA: 0s - loss: 8.3588 - acc: 0.451 - ETA: 0s - loss: 8.3566 - acc: 0.452 - ETA: 0s - loss: 8.3247 - acc: 0.453 - ETA: 0s - loss: 8.3241 - acc: 0.452 - ETA: 0s - loss: 8.3132 - acc: 0.453 - ETA: 0s - loss: 8.3365 - acc: 0.452 - ETA: 0s - loss: 8.3218 - acc: 0.452 - ETA: 0s - loss: 8.2879 - acc: 0.455 - ETA: 0s - loss: 8.2901 - acc: 0.455 - ETA: 0s - loss: 8.2931 - acc: 0.455 - ETA: 0s - loss: 8.2892 - acc: 0.455 - ETA: 0s - loss: 8.2579 - acc: 0.457 - ETA: 0s - loss: 8.2726 - acc: 0.456 - ETA: 0s - loss: 8.2728 - acc: 0.457 - ETA: 0s - loss: 8.2699 - acc: 0.457 - ETA: 0s - loss: 8.2874 - acc: 0.4566Epoch 00005: val_loss improved from 8.87551 to 8.71168, saving model to saved_models/weights.best.VGG16.hdf5\n",
      "6680/6680 [==============================] - 3s - loss: 8.2933 - acc: 0.4564 - val_loss: 8.7117 - val_acc: 0.3916\n",
      "Epoch 7/20\n"
     ]
    },
    {
     "name": "stdout",
     "output_type": "stream",
     "text": [
      "6560/6680 [============================>.] - ETA: 3s - loss: 7.3177 - acc: 0.500 - ETA: 3s - loss: 8.7902 - acc: 0.421 - ETA: 2s - loss: 9.2973 - acc: 0.388 - ETA: 2s - loss: 8.7896 - acc: 0.425 - ETA: 2s - loss: 8.6150 - acc: 0.441 - ETA: 2s - loss: 8.4869 - acc: 0.451 - ETA: 2s - loss: 8.2471 - acc: 0.464 - ETA: 2s - loss: 8.3114 - acc: 0.459 - ETA: 2s - loss: 8.2859 - acc: 0.463 - ETA: 2s - loss: 8.2576 - acc: 0.464 - ETA: 2s - loss: 8.2291 - acc: 0.465 - ETA: 2s - loss: 8.1707 - acc: 0.469 - ETA: 2s - loss: 8.1631 - acc: 0.469 - ETA: 2s - loss: 8.1207 - acc: 0.472 - ETA: 2s - loss: 8.1269 - acc: 0.472 - ETA: 2s - loss: 8.2007 - acc: 0.467 - ETA: 2s - loss: 8.1342 - acc: 0.470 - ETA: 1s - loss: 8.1475 - acc: 0.470 - ETA: 1s - loss: 8.1266 - acc: 0.471 - ETA: 1s - loss: 8.1363 - acc: 0.471 - ETA: 1s - loss: 8.0957 - acc: 0.474 - ETA: 1s - loss: 8.1484 - acc: 0.470 - ETA: 1s - loss: 8.1751 - acc: 0.468 - ETA: 1s - loss: 8.1707 - acc: 0.467 - ETA: 1s - loss: 8.1790 - acc: 0.467 - ETA: 1s - loss: 8.1472 - acc: 0.469 - ETA: 1s - loss: 8.0897 - acc: 0.473 - ETA: 1s - loss: 8.1017 - acc: 0.472 - ETA: 1s - loss: 8.1085 - acc: 0.472 - ETA: 1s - loss: 8.1156 - acc: 0.471 - ETA: 1s - loss: 8.1155 - acc: 0.472 - ETA: 1s - loss: 8.1199 - acc: 0.472 - ETA: 1s - loss: 8.1228 - acc: 0.472 - ETA: 1s - loss: 8.0876 - acc: 0.474 - ETA: 1s - loss: 8.0900 - acc: 0.474 - ETA: 1s - loss: 8.1104 - acc: 0.473 - ETA: 0s - loss: 8.1243 - acc: 0.472 - ETA: 0s - loss: 8.0906 - acc: 0.473 - ETA: 0s - loss: 8.1229 - acc: 0.471 - ETA: 0s - loss: 8.1124 - acc: 0.471 - ETA: 0s - loss: 8.1142 - acc: 0.471 - ETA: 0s - loss: 8.1242 - acc: 0.470 - ETA: 0s - loss: 8.1325 - acc: 0.470 - ETA: 0s - loss: 8.1348 - acc: 0.469 - ETA: 0s - loss: 8.1567 - acc: 0.468 - ETA: 0s - loss: 8.1599 - acc: 0.468 - ETA: 0s - loss: 8.1638 - acc: 0.468 - ETA: 0s - loss: 8.1636 - acc: 0.468 - ETA: 0s - loss: 8.1317 - acc: 0.470 - ETA: 0s - loss: 8.1503 - acc: 0.468 - ETA: 0s - loss: 8.1421 - acc: 0.468 - ETA: 0s - loss: 8.1326 - acc: 0.468 - ETA: 0s - loss: 8.1473 - acc: 0.4681Epoch 00006: val_loss improved from 8.71168 to 8.69161, saving model to saved_models/weights.best.VGG16.hdf5\n",
      "6680/6680 [==============================] - 3s - loss: 8.1615 - acc: 0.4672 - val_loss: 8.6916 - val_acc: 0.3880\n",
      "Epoch 8/20\n",
      "6560/6680 [============================>.] - ETA: 4s - loss: 8.0625 - acc: 0.500 - ETA: 3s - loss: 6.9307 - acc: 0.557 - ETA: 3s - loss: 6.9942 - acc: 0.550 - ETA: 2s - loss: 7.5059 - acc: 0.521 - ETA: 2s - loss: 7.7243 - acc: 0.507 - ETA: 2s - loss: 7.9415 - acc: 0.495 - ETA: 2s - loss: 7.9000 - acc: 0.497 - ETA: 2s - loss: 7.8857 - acc: 0.493 - ETA: 2s - loss: 7.7506 - acc: 0.501 - ETA: 2s - loss: 7.7340 - acc: 0.501 - ETA: 2s - loss: 7.7987 - acc: 0.499 - ETA: 2s - loss: 7.8160 - acc: 0.497 - ETA: 2s - loss: 7.8259 - acc: 0.498 - ETA: 2s - loss: 7.9456 - acc: 0.491 - ETA: 2s - loss: 8.0395 - acc: 0.485 - ETA: 1s - loss: 8.0448 - acc: 0.485 - ETA: 1s - loss: 8.1496 - acc: 0.479 - ETA: 1s - loss: 8.1067 - acc: 0.480 - ETA: 1s - loss: 8.0512 - acc: 0.484 - ETA: 1s - loss: 8.0687 - acc: 0.483 - ETA: 1s - loss: 8.1079 - acc: 0.481 - ETA: 1s - loss: 8.1183 - acc: 0.481 - ETA: 1s - loss: 8.0718 - acc: 0.484 - ETA: 1s - loss: 8.1284 - acc: 0.480 - ETA: 1s - loss: 8.1255 - acc: 0.481 - ETA: 1s - loss: 8.1345 - acc: 0.480 - ETA: 1s - loss: 8.1256 - acc: 0.480 - ETA: 1s - loss: 8.0885 - acc: 0.482 - ETA: 1s - loss: 8.0836 - acc: 0.483 - ETA: 1s - loss: 8.1146 - acc: 0.481 - ETA: 1s - loss: 8.1055 - acc: 0.482 - ETA: 1s - loss: 8.1227 - acc: 0.481 - ETA: 1s - loss: 8.1481 - acc: 0.479 - ETA: 1s - loss: 8.1527 - acc: 0.478 - ETA: 1s - loss: 8.1441 - acc: 0.478 - ETA: 0s - loss: 8.1290 - acc: 0.479 - ETA: 0s - loss: 8.1149 - acc: 0.480 - ETA: 0s - loss: 8.1329 - acc: 0.478 - ETA: 0s - loss: 8.1383 - acc: 0.478 - ETA: 0s - loss: 8.1085 - acc: 0.480 - ETA: 0s - loss: 8.1078 - acc: 0.480 - ETA: 0s - loss: 8.1061 - acc: 0.479 - ETA: 0s - loss: 8.1058 - acc: 0.480 - ETA: 0s - loss: 8.0874 - acc: 0.480 - ETA: 0s - loss: 8.0822 - acc: 0.480 - ETA: 0s - loss: 8.1018 - acc: 0.479 - ETA: 0s - loss: 8.1102 - acc: 0.478 - ETA: 0s - loss: 8.1126 - acc: 0.478 - ETA: 0s - loss: 8.1391 - acc: 0.477 - ETA: 0s - loss: 8.1334 - acc: 0.477 - ETA: 0s - loss: 8.1133 - acc: 0.478 - ETA: 0s - loss: 8.1041 - acc: 0.479 - ETA: 0s - loss: 8.1038 - acc: 0.4791Epoch 00007: val_loss improved from 8.69161 to 8.60822, saving model to saved_models/weights.best.VGG16.hdf5\n",
      "6680/6680 [==============================] - 3s - loss: 8.0902 - acc: 0.4799 - val_loss: 8.6082 - val_acc: 0.4024\n",
      "Epoch 9/20\n",
      "6640/6680 [============================>.] - ETA: 3s - loss: 4.0661 - acc: 0.700 - ETA: 3s - loss: 7.2257 - acc: 0.535 - ETA: 3s - loss: 7.5119 - acc: 0.525 - ETA: 2s - loss: 7.4731 - acc: 0.530 - ETA: 2s - loss: 7.6414 - acc: 0.516 - ETA: 2s - loss: 7.5592 - acc: 0.520 - ETA: 2s - loss: 7.7839 - acc: 0.506 - ETA: 2s - loss: 7.8440 - acc: 0.502 - ETA: 2s - loss: 7.9425 - acc: 0.495 - ETA: 2s - loss: 7.8985 - acc: 0.498 - ETA: 2s - loss: 7.7897 - acc: 0.505 - ETA: 2s - loss: 7.7552 - acc: 0.508 - ETA: 2s - loss: 7.7702 - acc: 0.506 - ETA: 2s - loss: 7.8182 - acc: 0.502 - ETA: 2s - loss: 7.7519 - acc: 0.506 - ETA: 2s - loss: 7.7147 - acc: 0.507 - ETA: 2s - loss: 7.7126 - acc: 0.506 - ETA: 1s - loss: 7.7690 - acc: 0.502 - ETA: 1s - loss: 7.7842 - acc: 0.502 - ETA: 1s - loss: 7.7606 - acc: 0.504 - ETA: 1s - loss: 7.7861 - acc: 0.502 - ETA: 1s - loss: 7.7662 - acc: 0.504 - ETA: 1s - loss: 7.7111 - acc: 0.506 - ETA: 1s - loss: 7.7150 - acc: 0.507 - ETA: 1s - loss: 7.7148 - acc: 0.507 - ETA: 1s - loss: 7.7530 - acc: 0.504 - ETA: 1s - loss: 7.7746 - acc: 0.504 - ETA: 1s - loss: 7.7976 - acc: 0.502 - ETA: 1s - loss: 7.8645 - acc: 0.498 - ETA: 1s - loss: 7.8706 - acc: 0.497 - ETA: 1s - loss: 7.8980 - acc: 0.495 - ETA: 1s - loss: 7.8786 - acc: 0.496 - ETA: 1s - loss: 7.9065 - acc: 0.494 - ETA: 1s - loss: 7.9359 - acc: 0.492 - ETA: 1s - loss: 7.9589 - acc: 0.491 - ETA: 0s - loss: 7.9287 - acc: 0.494 - ETA: 0s - loss: 7.9187 - acc: 0.494 - ETA: 0s - loss: 7.9169 - acc: 0.494 - ETA: 0s - loss: 7.9008 - acc: 0.495 - ETA: 0s - loss: 7.9155 - acc: 0.494 - ETA: 0s - loss: 7.9045 - acc: 0.494 - ETA: 0s - loss: 7.8947 - acc: 0.495 - ETA: 0s - loss: 7.8603 - acc: 0.497 - ETA: 0s - loss: 7.8929 - acc: 0.495 - ETA: 0s - loss: 7.8665 - acc: 0.497 - ETA: 0s - loss: 7.8477 - acc: 0.498 - ETA: 0s - loss: 7.8540 - acc: 0.498 - ETA: 0s - loss: 7.8417 - acc: 0.499 - ETA: 0s - loss: 7.8549 - acc: 0.498 - ETA: 0s - loss: 7.8628 - acc: 0.497 - ETA: 0s - loss: 7.8908 - acc: 0.495 - ETA: 0s - loss: 7.9032 - acc: 0.495 - ETA: 0s - loss: 7.9311 - acc: 0.493 - ETA: 0s - loss: 7.9516 - acc: 0.492 - ETA: 0s - loss: 7.9685 - acc: 0.4913Epoch 00008: val_loss improved from 8.60822 to 8.60318, saving model to saved_models/weights.best.VGG16.hdf5\n",
      "6680/6680 [==============================] - 3s - loss: 7.9671 - acc: 0.4913 - val_loss: 8.6032 - val_acc: 0.3940\n",
      "Epoch 10/20\n",
      "6620/6680 [============================>.] - ETA: 2s - loss: 8.8650 - acc: 0.450 - ETA: 2s - loss: 8.6839 - acc: 0.442 - ETA: 2s - loss: 8.2762 - acc: 0.473 - ETA: 2s - loss: 7.8472 - acc: 0.502 - ETA: 2s - loss: 7.9378 - acc: 0.498 - ETA: 2s - loss: 7.6806 - acc: 0.512 - ETA: 2s - loss: 7.6580 - acc: 0.514 - ETA: 2s - loss: 7.5822 - acc: 0.518 - ETA: 2s - loss: 7.5514 - acc: 0.519 - ETA: 2s - loss: 7.7158 - acc: 0.510 - ETA: 2s - loss: 7.7615 - acc: 0.508 - ETA: 2s - loss: 7.7764 - acc: 0.507 - ETA: 2s - loss: 7.7249 - acc: 0.511 - ETA: 2s - loss: 7.6207 - acc: 0.516 - ETA: 2s - loss: 7.7167 - acc: 0.510 - ETA: 2s - loss: 7.7191 - acc: 0.509 - ETA: 1s - loss: 7.8207 - acc: 0.503 - ETA: 1s - loss: 7.7705 - acc: 0.506 - ETA: 1s - loss: 7.8011 - acc: 0.504 - ETA: 1s - loss: 7.8122 - acc: 0.503 - ETA: 1s - loss: 7.8438 - acc: 0.502 - ETA: 1s - loss: 7.8734 - acc: 0.500 - ETA: 1s - loss: 7.8896 - acc: 0.499 - ETA: 1s - loss: 7.9301 - acc: 0.497 - ETA: 1s - loss: 7.9379 - acc: 0.496 - ETA: 1s - loss: 7.9804 - acc: 0.493 - ETA: 1s - loss: 8.0081 - acc: 0.492 - ETA: 1s - loss: 7.9654 - acc: 0.495 - ETA: 1s - loss: 7.9939 - acc: 0.493 - ETA: 1s - loss: 8.0011 - acc: 0.493 - ETA: 1s - loss: 7.9730 - acc: 0.495 - ETA: 1s - loss: 7.9556 - acc: 0.496 - ETA: 1s - loss: 7.9591 - acc: 0.496 - ETA: 1s - loss: 7.9737 - acc: 0.494 - ETA: 1s - loss: 7.9618 - acc: 0.495 - ETA: 0s - loss: 7.9688 - acc: 0.495 - ETA: 0s - loss: 7.9872 - acc: 0.493 - ETA: 0s - loss: 8.0061 - acc: 0.492 - ETA: 0s - loss: 7.9974 - acc: 0.493 - ETA: 0s - loss: 7.9690 - acc: 0.495 - ETA: 0s - loss: 7.9739 - acc: 0.494 - ETA: 0s - loss: 7.9570 - acc: 0.495 - ETA: 0s - loss: 7.9763 - acc: 0.494 - ETA: 0s - loss: 7.9666 - acc: 0.494 - ETA: 0s - loss: 7.9509 - acc: 0.496 - ETA: 0s - loss: 7.9417 - acc: 0.496 - ETA: 0s - loss: 7.9592 - acc: 0.495 - ETA: 0s - loss: 7.9755 - acc: 0.494 - ETA: 0s - loss: 7.9901 - acc: 0.493 - ETA: 0s - loss: 7.9907 - acc: 0.493 - ETA: 0s - loss: 7.9572 - acc: 0.495 - ETA: 0s - loss: 7.9470 - acc: 0.495 - ETA: 0s - loss: 7.9594 - acc: 0.495 - ETA: 0s - loss: 7.9658 - acc: 0.494 - ETA: 0s - loss: 7.9369 - acc: 0.4961Epoch 00009: val_loss improved from 8.60318 to 8.52814, saving model to saved_models/weights.best.VGG16.hdf5\n",
      "6680/6680 [==============================] - 3s - loss: 7.9284 - acc: 0.4967 - val_loss: 8.5281 - val_acc: 0.4036\n",
      "Epoch 11/20\n",
      "6640/6680 [============================>.] - ETA: 2s - loss: 6.4753 - acc: 0.600 - ETA: 2s - loss: 8.0408 - acc: 0.492 - ETA: 2s - loss: 7.7725 - acc: 0.510 - ETA: 2s - loss: 7.7966 - acc: 0.509 - ETA: 2s - loss: 7.8259 - acc: 0.509 - ETA: 2s - loss: 7.6773 - acc: 0.518 - ETA: 2s - loss: 7.8284 - acc: 0.507 - ETA: 2s - loss: 7.7973 - acc: 0.507 - ETA: 2s - loss: 7.8276 - acc: 0.506 - ETA: 2s - loss: 7.7553 - acc: 0.511 - ETA: 2s - loss: 7.6622 - acc: 0.515 - ETA: 2s - loss: 7.7079 - acc: 0.513 - ETA: 2s - loss: 7.8032 - acc: 0.507 - ETA: 2s - loss: 7.8985 - acc: 0.501 - ETA: 2s - loss: 7.9279 - acc: 0.500 - ETA: 1s - loss: 7.8880 - acc: 0.502 - ETA: 1s - loss: 7.9313 - acc: 0.500 - ETA: 1s - loss: 7.9165 - acc: 0.500 - ETA: 1s - loss: 7.8733 - acc: 0.503 - ETA: 1s - loss: 7.9109 - acc: 0.501 - ETA: 1s - loss: 7.8660 - acc: 0.504 - ETA: 1s - loss: 7.8285 - acc: 0.506 - ETA: 1s - loss: 7.8437 - acc: 0.504 - ETA: 1s - loss: 7.8375 - acc: 0.504 - ETA: 1s - loss: 7.8467 - acc: 0.504 - ETA: 1s - loss: 7.8241 - acc: 0.506 - ETA: 1s - loss: 7.8252 - acc: 0.505 - ETA: 1s - loss: 7.8310 - acc: 0.504 - ETA: 1s - loss: 7.8590 - acc: 0.502 - ETA: 1s - loss: 7.9053 - acc: 0.499 - ETA: 1s - loss: 7.8959 - acc: 0.499 - ETA: 1s - loss: 7.8829 - acc: 0.500 - ETA: 1s - loss: 7.8671 - acc: 0.501 - ETA: 1s - loss: 7.8786 - acc: 0.500 - ETA: 1s - loss: 7.8638 - acc: 0.500 - ETA: 0s - loss: 7.8558 - acc: 0.500 - ETA: 0s - loss: 7.8634 - acc: 0.500 - ETA: 0s - loss: 7.9031 - acc: 0.497 - ETA: 0s - loss: 7.9386 - acc: 0.495 - ETA: 0s - loss: 7.8997 - acc: 0.497 - ETA: 0s - loss: 7.8795 - acc: 0.498 - ETA: 0s - loss: 7.8634 - acc: 0.499 - ETA: 0s - loss: 7.8535 - acc: 0.500 - ETA: 0s - loss: 7.8629 - acc: 0.499 - ETA: 0s - loss: 7.8572 - acc: 0.499 - ETA: 0s - loss: 7.8186 - acc: 0.502 - ETA: 0s - loss: 7.8203 - acc: 0.501 - ETA: 0s - loss: 7.8057 - acc: 0.502 - ETA: 0s - loss: 7.8350 - acc: 0.500 - ETA: 0s - loss: 7.8526 - acc: 0.499 - ETA: 0s - loss: 7.8618 - acc: 0.499 - ETA: 0s - loss: 7.8685 - acc: 0.498 - ETA: 0s - loss: 7.8611 - acc: 0.498 - ETA: 0s - loss: 7.8550 - acc: 0.499 - ETA: 0s - loss: 7.8588 - acc: 0.4995Epoch 00010: val_loss improved from 8.52814 to 8.50432, saving model to saved_models/weights.best.VGG16.hdf5\n",
      "6680/6680 [==============================] - 3s - loss: 7.8737 - acc: 0.4985 - val_loss: 8.5043 - val_acc: 0.4168\n",
      "Epoch 12/20\n",
      "6600/6680 [============================>.] - ETA: 4s - loss: 7.2532 - acc: 0.550 - ETA: 3s - loss: 6.9818 - acc: 0.557 - ETA: 3s - loss: 7.2974 - acc: 0.541 - ETA: 2s - loss: 7.2627 - acc: 0.541 - ETA: 2s - loss: 7.4991 - acc: 0.527 - ETA: 2s - loss: 7.6433 - acc: 0.515 - ETA: 2s - loss: 7.7138 - acc: 0.508 - ETA: 2s - loss: 7.8006 - acc: 0.504 - ETA: 2s - loss: 7.8403 - acc: 0.503 - ETA: 2s - loss: 7.9016 - acc: 0.499 - ETA: 2s - loss: 7.8951 - acc: 0.499 - ETA: 2s - loss: 7.8934 - acc: 0.499 - ETA: 2s - loss: 7.8347 - acc: 0.502 - ETA: 2s - loss: 7.8716 - acc: 0.499 - ETA: 2s - loss: 7.8028 - acc: 0.503 - ETA: 2s - loss: 7.7847 - acc: 0.505 - ETA: 2s - loss: 7.8757 - acc: 0.500 - ETA: 1s - loss: 7.8864 - acc: 0.500 - ETA: 1s - loss: 7.8538 - acc: 0.501 - ETA: 1s - loss: 7.8369 - acc: 0.503 - ETA: 1s - loss: 7.8250 - acc: 0.504 - ETA: 1s - loss: 7.7755 - acc: 0.507 - ETA: 1s - loss: 7.8052 - acc: 0.505 - ETA: 1s - loss: 7.7237 - acc: 0.509 - ETA: 1s - loss: 7.8014 - acc: 0.504 - ETA: 1s - loss: 7.7964 - acc: 0.505 - ETA: 1s - loss: 7.8336 - acc: 0.503 - ETA: 1s - loss: 7.8378 - acc: 0.502 - ETA: 1s - loss: 7.8016 - acc: 0.505 - ETA: 1s - loss: 7.8259 - acc: 0.503 - ETA: 1s - loss: 7.8122 - acc: 0.504 - ETA: 1s - loss: 7.8266 - acc: 0.503 - ETA: 1s - loss: 7.8547 - acc: 0.501 - ETA: 1s - loss: 7.8914 - acc: 0.499 - ETA: 1s - loss: 7.8980 - acc: 0.498 - ETA: 1s - loss: 7.9066 - acc: 0.497 - ETA: 0s - loss: 7.8722 - acc: 0.500 - ETA: 0s - loss: 7.8738 - acc: 0.500 - ETA: 0s - loss: 7.8863 - acc: 0.499 - ETA: 0s - loss: 7.8636 - acc: 0.500 - ETA: 0s - loss: 7.8474 - acc: 0.501 - ETA: 0s - loss: 7.8617 - acc: 0.500 - ETA: 0s - loss: 7.8493 - acc: 0.501 - ETA: 0s - loss: 7.8417 - acc: 0.501 - ETA: 0s - loss: 7.8272 - acc: 0.502 - ETA: 0s - loss: 7.8287 - acc: 0.502 - ETA: 0s - loss: 7.8426 - acc: 0.501 - ETA: 0s - loss: 7.8256 - acc: 0.502 - ETA: 0s - loss: 7.8117 - acc: 0.503 - ETA: 0s - loss: 7.7925 - acc: 0.504 - ETA: 0s - loss: 7.7978 - acc: 0.504 - ETA: 0s - loss: 7.7867 - acc: 0.505 - ETA: 0s - loss: 7.7990 - acc: 0.504 - ETA: 0s - loss: 7.7733 - acc: 0.506 - ETA: 0s - loss: 7.7650 - acc: 0.506 - ETA: 0s - loss: 7.7795 - acc: 0.506 - ETA: 0s - loss: 7.7720 - acc: 0.5065Epoch 00011: val_loss improved from 8.50432 to 8.46542, saving model to saved_models/weights.best.VGG16.hdf5\n",
      "6680/6680 [==============================] - 3s - loss: 7.7925 - acc: 0.5054 - val_loss: 8.4654 - val_acc: 0.4096\n",
      "Epoch 13/20\n"
     ]
    },
    {
     "name": "stdout",
     "output_type": "stream",
     "text": [
      "6540/6680 [============================>.] - ETA: 2s - loss: 6.4495 - acc: 0.600 - ETA: 2s - loss: 7.8594 - acc: 0.512 - ETA: 2s - loss: 8.1359 - acc: 0.492 - ETA: 2s - loss: 7.3457 - acc: 0.535 - ETA: 2s - loss: 7.3331 - acc: 0.534 - ETA: 2s - loss: 7.5548 - acc: 0.518 - ETA: 2s - loss: 7.5526 - acc: 0.518 - ETA: 2s - loss: 7.6068 - acc: 0.515 - ETA: 2s - loss: 7.5039 - acc: 0.523 - ETA: 2s - loss: 7.4838 - acc: 0.525 - ETA: 2s - loss: 7.5669 - acc: 0.521 - ETA: 2s - loss: 7.4369 - acc: 0.529 - ETA: 2s - loss: 7.5020 - acc: 0.526 - ETA: 2s - loss: 7.5402 - acc: 0.523 - ETA: 2s - loss: 7.4798 - acc: 0.526 - ETA: 2s - loss: 7.5529 - acc: 0.522 - ETA: 2s - loss: 7.5918 - acc: 0.520 - ETA: 2s - loss: 7.6391 - acc: 0.517 - ETA: 2s - loss: 7.6866 - acc: 0.514 - ETA: 2s - loss: 7.6370 - acc: 0.517 - ETA: 2s - loss: 7.6614 - acc: 0.516 - ETA: 2s - loss: 7.6722 - acc: 0.515 - ETA: 2s - loss: 7.6665 - acc: 0.515 - ETA: 2s - loss: 7.6485 - acc: 0.516 - ETA: 1s - loss: 7.5695 - acc: 0.521 - ETA: 1s - loss: 7.5502 - acc: 0.523 - ETA: 1s - loss: 7.5639 - acc: 0.522 - ETA: 1s - loss: 7.6171 - acc: 0.518 - ETA: 1s - loss: 7.6392 - acc: 0.517 - ETA: 1s - loss: 7.6815 - acc: 0.515 - ETA: 1s - loss: 7.6905 - acc: 0.514 - ETA: 1s - loss: 7.6745 - acc: 0.515 - ETA: 1s - loss: 7.6859 - acc: 0.514 - ETA: 1s - loss: 7.6618 - acc: 0.515 - ETA: 1s - loss: 7.6856 - acc: 0.514 - ETA: 1s - loss: 7.6521 - acc: 0.516 - ETA: 1s - loss: 7.6623 - acc: 0.515 - ETA: 1s - loss: 7.6947 - acc: 0.514 - ETA: 1s - loss: 7.7066 - acc: 0.513 - ETA: 1s - loss: 7.7163 - acc: 0.513 - ETA: 1s - loss: 7.7202 - acc: 0.513 - ETA: 0s - loss: 7.7373 - acc: 0.512 - ETA: 0s - loss: 7.7484 - acc: 0.511 - ETA: 0s - loss: 7.7246 - acc: 0.512 - ETA: 0s - loss: 7.7433 - acc: 0.511 - ETA: 0s - loss: 7.7160 - acc: 0.513 - ETA: 0s - loss: 7.7529 - acc: 0.511 - ETA: 0s - loss: 7.7435 - acc: 0.511 - ETA: 0s - loss: 7.7257 - acc: 0.512 - ETA: 0s - loss: 7.7210 - acc: 0.512 - ETA: 0s - loss: 7.7143 - acc: 0.512 - ETA: 0s - loss: 7.7229 - acc: 0.512 - ETA: 0s - loss: 7.7514 - acc: 0.510 - ETA: 0s - loss: 7.7648 - acc: 0.509 - ETA: 0s - loss: 7.7822 - acc: 0.508 - ETA: 0s - loss: 7.7880 - acc: 0.508 - ETA: 0s - loss: 7.7783 - acc: 0.5093Epoch 00012: val_loss did not improve\n",
      "6680/6680 [==============================] - 3s - loss: 7.7654 - acc: 0.5100 - val_loss: 8.4743 - val_acc: 0.4036\n",
      "Epoch 14/20\n",
      "6580/6680 [============================>.] - ETA: 3s - loss: 10.4768 - acc: 0.35 - ETA: 2s - loss: 7.3460 - acc: 0.5286 - ETA: 2s - loss: 7.6405 - acc: 0.510 - ETA: 2s - loss: 8.0890 - acc: 0.487 - ETA: 2s - loss: 8.0152 - acc: 0.490 - ETA: 2s - loss: 7.8556 - acc: 0.498 - ETA: 2s - loss: 7.7358 - acc: 0.505 - ETA: 2s - loss: 7.6293 - acc: 0.513 - ETA: 2s - loss: 7.7857 - acc: 0.503 - ETA: 2s - loss: 7.9546 - acc: 0.493 - ETA: 2s - loss: 8.0355 - acc: 0.487 - ETA: 2s - loss: 8.0276 - acc: 0.486 - ETA: 2s - loss: 8.0238 - acc: 0.486 - ETA: 2s - loss: 8.0075 - acc: 0.487 - ETA: 2s - loss: 8.0244 - acc: 0.485 - ETA: 2s - loss: 8.0768 - acc: 0.482 - ETA: 1s - loss: 8.0705 - acc: 0.482 - ETA: 1s - loss: 7.9951 - acc: 0.486 - ETA: 1s - loss: 8.0326 - acc: 0.485 - ETA: 1s - loss: 7.9879 - acc: 0.487 - ETA: 1s - loss: 7.9851 - acc: 0.488 - ETA: 1s - loss: 7.9421 - acc: 0.490 - ETA: 1s - loss: 7.8868 - acc: 0.494 - ETA: 1s - loss: 7.9118 - acc: 0.493 - ETA: 1s - loss: 7.9199 - acc: 0.492 - ETA: 1s - loss: 7.8760 - acc: 0.495 - ETA: 1s - loss: 7.9038 - acc: 0.494 - ETA: 1s - loss: 7.8777 - acc: 0.495 - ETA: 1s - loss: 7.8453 - acc: 0.497 - ETA: 1s - loss: 7.8356 - acc: 0.498 - ETA: 1s - loss: 7.8693 - acc: 0.496 - ETA: 1s - loss: 7.8666 - acc: 0.497 - ETA: 1s - loss: 7.8427 - acc: 0.498 - ETA: 1s - loss: 7.8304 - acc: 0.499 - ETA: 1s - loss: 7.7840 - acc: 0.502 - ETA: 1s - loss: 7.7776 - acc: 0.503 - ETA: 0s - loss: 7.7484 - acc: 0.504 - ETA: 0s - loss: 7.7135 - acc: 0.506 - ETA: 0s - loss: 7.7423 - acc: 0.505 - ETA: 0s - loss: 7.7297 - acc: 0.505 - ETA: 0s - loss: 7.7079 - acc: 0.507 - ETA: 0s - loss: 7.6878 - acc: 0.508 - ETA: 0s - loss: 7.6600 - acc: 0.510 - ETA: 0s - loss: 7.6465 - acc: 0.511 - ETA: 0s - loss: 7.6526 - acc: 0.510 - ETA: 0s - loss: 7.6627 - acc: 0.510 - ETA: 0s - loss: 7.6488 - acc: 0.511 - ETA: 0s - loss: 7.6228 - acc: 0.513 - ETA: 0s - loss: 7.6111 - acc: 0.513 - ETA: 0s - loss: 7.6070 - acc: 0.514 - ETA: 0s - loss: 7.6190 - acc: 0.513 - ETA: 0s - loss: 7.6214 - acc: 0.513 - ETA: 0s - loss: 7.6466 - acc: 0.512 - ETA: 0s - loss: 7.6692 - acc: 0.5111Epoch 00013: val_loss improved from 8.46542 to 8.36962, saving model to saved_models/weights.best.VGG16.hdf5\n",
      "6680/6680 [==============================] - 3s - loss: 7.6757 - acc: 0.5108 - val_loss: 8.3696 - val_acc: 0.4168\n",
      "Epoch 15/20\n",
      "6600/6680 [============================>.] - ETA: 4s - loss: 8.1191 - acc: 0.450 - ETA: 3s - loss: 8.0702 - acc: 0.491 - ETA: 3s - loss: 7.9357 - acc: 0.500 - ETA: 3s - loss: 7.9247 - acc: 0.502 - ETA: 3s - loss: 7.8120 - acc: 0.509 - ETA: 3s - loss: 7.6424 - acc: 0.519 - ETA: 3s - loss: 7.4859 - acc: 0.530 - ETA: 2s - loss: 7.6784 - acc: 0.519 - ETA: 2s - loss: 7.6886 - acc: 0.518 - ETA: 2s - loss: 7.7069 - acc: 0.517 - ETA: 2s - loss: 7.7120 - acc: 0.516 - ETA: 2s - loss: 7.8228 - acc: 0.509 - ETA: 2s - loss: 7.7544 - acc: 0.513 - ETA: 2s - loss: 7.7470 - acc: 0.514 - ETA: 2s - loss: 7.6705 - acc: 0.518 - ETA: 2s - loss: 7.6413 - acc: 0.520 - ETA: 2s - loss: 7.5957 - acc: 0.521 - ETA: 2s - loss: 7.5690 - acc: 0.523 - ETA: 2s - loss: 7.4859 - acc: 0.529 - ETA: 2s - loss: 7.4043 - acc: 0.534 - ETA: 2s - loss: 7.4210 - acc: 0.533 - ETA: 2s - loss: 7.4082 - acc: 0.534 - ETA: 2s - loss: 7.4216 - acc: 0.533 - ETA: 1s - loss: 7.4345 - acc: 0.532 - ETA: 1s - loss: 7.3897 - acc: 0.535 - ETA: 1s - loss: 7.4044 - acc: 0.534 - ETA: 1s - loss: 7.3905 - acc: 0.534 - ETA: 1s - loss: 7.3873 - acc: 0.534 - ETA: 1s - loss: 7.3781 - acc: 0.534 - ETA: 1s - loss: 7.3924 - acc: 0.533 - ETA: 1s - loss: 7.4233 - acc: 0.531 - ETA: 1s - loss: 7.4619 - acc: 0.528 - ETA: 1s - loss: 7.4428 - acc: 0.529 - ETA: 1s - loss: 7.4667 - acc: 0.527 - ETA: 1s - loss: 7.4746 - acc: 0.526 - ETA: 1s - loss: 7.4823 - acc: 0.525 - ETA: 1s - loss: 7.4716 - acc: 0.526 - ETA: 1s - loss: 7.4985 - acc: 0.524 - ETA: 1s - loss: 7.4770 - acc: 0.526 - ETA: 1s - loss: 7.4648 - acc: 0.527 - ETA: 1s - loss: 7.5160 - acc: 0.524 - ETA: 0s - loss: 7.5405 - acc: 0.523 - ETA: 0s - loss: 7.5298 - acc: 0.523 - ETA: 0s - loss: 7.5401 - acc: 0.522 - ETA: 0s - loss: 7.5246 - acc: 0.523 - ETA: 0s - loss: 7.5507 - acc: 0.522 - ETA: 0s - loss: 7.5677 - acc: 0.521 - ETA: 0s - loss: 7.5770 - acc: 0.520 - ETA: 0s - loss: 7.5592 - acc: 0.521 - ETA: 0s - loss: 7.5814 - acc: 0.520 - ETA: 0s - loss: 7.6179 - acc: 0.518 - ETA: 0s - loss: 7.6050 - acc: 0.519 - ETA: 0s - loss: 7.6259 - acc: 0.518 - ETA: 0s - loss: 7.6211 - acc: 0.518 - ETA: 0s - loss: 7.6039 - acc: 0.519 - ETA: 0s - loss: 7.6143 - acc: 0.518 - ETA: 0s - loss: 7.6179 - acc: 0.518 - ETA: 0s - loss: 7.6215 - acc: 0.5186Epoch 00014: val_loss improved from 8.36962 to 8.29462, saving model to saved_models/weights.best.VGG16.hdf5\n",
      "6680/6680 [==============================] - 3s - loss: 7.6171 - acc: 0.5190 - val_loss: 8.2946 - val_acc: 0.4287\n",
      "Epoch 16/20\n",
      "6560/6680 [============================>.] - ETA: 2s - loss: 7.2635 - acc: 0.550 - ETA: 2s - loss: 7.8818 - acc: 0.500 - ETA: 2s - loss: 7.6538 - acc: 0.519 - ETA: 2s - loss: 7.7301 - acc: 0.513 - ETA: 2s - loss: 7.6270 - acc: 0.521 - ETA: 2s - loss: 7.8571 - acc: 0.506 - ETA: 2s - loss: 7.7768 - acc: 0.512 - ETA: 2s - loss: 7.7399 - acc: 0.515 - ETA: 2s - loss: 7.7312 - acc: 0.514 - ETA: 2s - loss: 7.6309 - acc: 0.521 - ETA: 2s - loss: 7.6504 - acc: 0.520 - ETA: 2s - loss: 7.5978 - acc: 0.521 - ETA: 2s - loss: 7.5918 - acc: 0.522 - ETA: 2s - loss: 7.5499 - acc: 0.524 - ETA: 2s - loss: 7.6451 - acc: 0.519 - ETA: 2s - loss: 7.7274 - acc: 0.514 - ETA: 2s - loss: 7.7723 - acc: 0.511 - ETA: 2s - loss: 7.7591 - acc: 0.512 - ETA: 2s - loss: 7.7080 - acc: 0.516 - ETA: 2s - loss: 7.7203 - acc: 0.515 - ETA: 1s - loss: 7.7586 - acc: 0.513 - ETA: 1s - loss: 7.7348 - acc: 0.514 - ETA: 1s - loss: 7.7444 - acc: 0.513 - ETA: 1s - loss: 7.7465 - acc: 0.513 - ETA: 1s - loss: 7.7508 - acc: 0.513 - ETA: 1s - loss: 7.7711 - acc: 0.511 - ETA: 1s - loss: 7.7875 - acc: 0.511 - ETA: 1s - loss: 7.7927 - acc: 0.510 - ETA: 1s - loss: 7.7901 - acc: 0.510 - ETA: 1s - loss: 7.8511 - acc: 0.507 - ETA: 1s - loss: 7.8544 - acc: 0.506 - ETA: 1s - loss: 7.8357 - acc: 0.507 - ETA: 1s - loss: 7.8195 - acc: 0.508 - ETA: 1s - loss: 7.7948 - acc: 0.510 - ETA: 1s - loss: 7.7749 - acc: 0.511 - ETA: 1s - loss: 7.7451 - acc: 0.513 - ETA: 1s - loss: 7.7392 - acc: 0.514 - ETA: 1s - loss: 7.7333 - acc: 0.514 - ETA: 0s - loss: 7.7100 - acc: 0.516 - ETA: 0s - loss: 7.6758 - acc: 0.518 - ETA: 0s - loss: 7.6740 - acc: 0.518 - ETA: 0s - loss: 7.6735 - acc: 0.518 - ETA: 0s - loss: 7.6920 - acc: 0.516 - ETA: 0s - loss: 7.6697 - acc: 0.518 - ETA: 0s - loss: 7.6695 - acc: 0.518 - ETA: 0s - loss: 7.6542 - acc: 0.519 - ETA: 0s - loss: 7.6551 - acc: 0.519 - ETA: 0s - loss: 7.6409 - acc: 0.520 - ETA: 0s - loss: 7.6396 - acc: 0.519 - ETA: 0s - loss: 7.6266 - acc: 0.520 - ETA: 0s - loss: 7.6219 - acc: 0.521 - ETA: 0s - loss: 7.6389 - acc: 0.520 - ETA: 0s - loss: 7.6367 - acc: 0.519 - ETA: 0s - loss: 7.6329 - acc: 0.520 - ETA: 0s - loss: 7.6234 - acc: 0.520 - ETA: 0s - loss: 7.6242 - acc: 0.5207Epoch 00015: val_loss did not improve\n",
      "6680/6680 [==============================] - 3s - loss: 7.6061 - acc: 0.5217 - val_loss: 8.3678 - val_acc: 0.4180\n",
      "Epoch 17/20\n",
      "6620/6680 [============================>.] - ETA: 3s - loss: 7.2603 - acc: 0.550 - ETA: 3s - loss: 7.3919 - acc: 0.541 - ETA: 3s - loss: 7.2556 - acc: 0.550 - ETA: 3s - loss: 7.4446 - acc: 0.538 - ETA: 3s - loss: 7.7097 - acc: 0.521 - ETA: 2s - loss: 7.4213 - acc: 0.539 - ETA: 2s - loss: 7.6229 - acc: 0.527 - ETA: 2s - loss: 7.6053 - acc: 0.528 - ETA: 2s - loss: 7.5328 - acc: 0.530 - ETA: 2s - loss: 7.5453 - acc: 0.527 - ETA: 2s - loss: 7.4494 - acc: 0.532 - ETA: 2s - loss: 7.4969 - acc: 0.527 - ETA: 2s - loss: 7.4867 - acc: 0.528 - ETA: 2s - loss: 7.5227 - acc: 0.526 - ETA: 2s - loss: 7.4745 - acc: 0.530 - ETA: 2s - loss: 7.4288 - acc: 0.532 - ETA: 2s - loss: 7.4533 - acc: 0.529 - ETA: 2s - loss: 7.4586 - acc: 0.528 - ETA: 2s - loss: 7.4895 - acc: 0.526 - ETA: 1s - loss: 7.4453 - acc: 0.529 - ETA: 1s - loss: 7.3830 - acc: 0.533 - ETA: 1s - loss: 7.3776 - acc: 0.533 - ETA: 1s - loss: 7.3054 - acc: 0.538 - ETA: 1s - loss: 7.3171 - acc: 0.537 - ETA: 1s - loss: 7.3206 - acc: 0.537 - ETA: 1s - loss: 7.3628 - acc: 0.535 - ETA: 1s - loss: 7.3986 - acc: 0.532 - ETA: 1s - loss: 7.3544 - acc: 0.534 - ETA: 1s - loss: 7.3540 - acc: 0.534 - ETA: 1s - loss: 7.3563 - acc: 0.534 - ETA: 1s - loss: 7.3580 - acc: 0.533 - ETA: 1s - loss: 7.4031 - acc: 0.530 - ETA: 1s - loss: 7.4518 - acc: 0.527 - ETA: 1s - loss: 7.4404 - acc: 0.528 - ETA: 1s - loss: 7.4320 - acc: 0.528 - ETA: 1s - loss: 7.4322 - acc: 0.528 - ETA: 1s - loss: 7.4380 - acc: 0.527 - ETA: 1s - loss: 7.4436 - acc: 0.527 - ETA: 0s - loss: 7.4739 - acc: 0.525 - ETA: 0s - loss: 7.5068 - acc: 0.524 - ETA: 0s - loss: 7.4910 - acc: 0.525 - ETA: 0s - loss: 7.4882 - acc: 0.525 - ETA: 0s - loss: 7.4994 - acc: 0.524 - ETA: 0s - loss: 7.4936 - acc: 0.524 - ETA: 0s - loss: 7.4997 - acc: 0.524 - ETA: 0s - loss: 7.4827 - acc: 0.525 - ETA: 0s - loss: 7.4998 - acc: 0.524 - ETA: 0s - loss: 7.5014 - acc: 0.524 - ETA: 0s - loss: 7.4827 - acc: 0.525 - ETA: 0s - loss: 7.4958 - acc: 0.524 - ETA: 0s - loss: 7.4885 - acc: 0.524 - ETA: 0s - loss: 7.4867 - acc: 0.524 - ETA: 0s - loss: 7.5016 - acc: 0.523 - ETA: 0s - loss: 7.4819 - acc: 0.524 - ETA: 0s - loss: 7.4759 - acc: 0.525 - ETA: 0s - loss: 7.4787 - acc: 0.524 - ETA: 0s - loss: 7.4916 - acc: 0.5240Epoch 00016: val_loss did not improve\n",
      "6680/6680 [==============================] - 3s - loss: 7.4977 - acc: 0.5237 - val_loss: 8.3458 - val_acc: 0.4180\n",
      "Epoch 18/20\n",
      "6640/6680 [============================>.] - ETA: 4s - loss: 8.0591 - acc: 0.500 - ETA: 2s - loss: 7.0893 - acc: 0.550 - ETA: 2s - loss: 6.9683 - acc: 0.560 - ETA: 2s - loss: 6.9400 - acc: 0.561 - ETA: 2s - loss: 7.1489 - acc: 0.546 - ETA: 2s - loss: 7.1231 - acc: 0.548 - ETA: 2s - loss: 7.2517 - acc: 0.541 - ETA: 2s - loss: 7.2871 - acc: 0.538 - ETA: 2s - loss: 7.3151 - acc: 0.538 - ETA: 2s - loss: 7.2947 - acc: 0.540 - ETA: 2s - loss: 7.2529 - acc: 0.543 - ETA: 2s - loss: 7.2548 - acc: 0.543 - ETA: 2s - loss: 7.2656 - acc: 0.541 - ETA: 2s - loss: 7.2673 - acc: 0.540 - ETA: 2s - loss: 7.2426 - acc: 0.540 - ETA: 2s - loss: 7.2729 - acc: 0.538 - ETA: 2s - loss: 7.3583 - acc: 0.532 - ETA: 1s - loss: 7.2495 - acc: 0.537 - ETA: 1s - loss: 7.2414 - acc: 0.537 - ETA: 1s - loss: 7.2802 - acc: 0.534 - ETA: 1s - loss: 7.2668 - acc: 0.535 - ETA: 1s - loss: 7.3609 - acc: 0.529 - ETA: 1s - loss: 7.3710 - acc: 0.528 - ETA: 1s - loss: 7.4021 - acc: 0.526 - ETA: 1s - loss: 7.3636 - acc: 0.529 - ETA: 1s - loss: 7.3848 - acc: 0.527 - ETA: 1s - loss: 7.4198 - acc: 0.524 - ETA: 1s - loss: 7.3947 - acc: 0.526 - ETA: 1s - loss: 7.3927 - acc: 0.527 - ETA: 1s - loss: 7.3394 - acc: 0.530 - ETA: 1s - loss: 7.3555 - acc: 0.529 - ETA: 1s - loss: 7.3621 - acc: 0.528 - ETA: 1s - loss: 7.3426 - acc: 0.529 - ETA: 1s - loss: 7.3620 - acc: 0.527 - ETA: 1s - loss: 7.3478 - acc: 0.528 - ETA: 1s - loss: 7.2966 - acc: 0.531 - ETA: 1s - loss: 7.3112 - acc: 0.530 - ETA: 0s - loss: 7.3256 - acc: 0.529 - ETA: 0s - loss: 7.3207 - acc: 0.530 - ETA: 0s - loss: 7.2994 - acc: 0.531 - ETA: 0s - loss: 7.2911 - acc: 0.532 - ETA: 0s - loss: 7.2815 - acc: 0.533 - ETA: 0s - loss: 7.2866 - acc: 0.533 - ETA: 0s - loss: 7.2518 - acc: 0.535 - ETA: 0s - loss: 7.2667 - acc: 0.534 - ETA: 0s - loss: 7.2647 - acc: 0.534 - ETA: 0s - loss: 7.2813 - acc: 0.533 - ETA: 0s - loss: 7.2608 - acc: 0.534 - ETA: 0s - loss: 7.2649 - acc: 0.534 - ETA: 0s - loss: 7.2799 - acc: 0.533 - ETA: 0s - loss: 7.2986 - acc: 0.532 - ETA: 0s - loss: 7.3243 - acc: 0.530 - ETA: 0s - loss: 7.3390 - acc: 0.529 - ETA: 0s - loss: 7.3387 - acc: 0.529 - ETA: 0s - loss: 7.3281 - acc: 0.529 - ETA: 0s - loss: 7.3360 - acc: 0.5292Epoch 00017: val_loss improved from 8.29462 to 8.08558, saving model to saved_models/weights.best.VGG16.hdf5\n",
      "6680/6680 [==============================] - 3s - loss: 7.3317 - acc: 0.5295 - val_loss: 8.0856 - val_acc: 0.4335\n",
      "Epoch 19/20\n"
     ]
    },
    {
     "name": "stdout",
     "output_type": "stream",
     "text": [
      "6600/6680 [============================>.] - ETA: 2s - loss: 6.8885 - acc: 0.550 - ETA: 2s - loss: 7.2228 - acc: 0.535 - ETA: 2s - loss: 7.3910 - acc: 0.526 - ETA: 2s - loss: 7.4907 - acc: 0.521 - ETA: 2s - loss: 7.3426 - acc: 0.532 - ETA: 2s - loss: 7.3179 - acc: 0.532 - ETA: 2s - loss: 7.2918 - acc: 0.533 - ETA: 2s - loss: 7.3430 - acc: 0.531 - ETA: 2s - loss: 7.4151 - acc: 0.527 - ETA: 2s - loss: 7.3154 - acc: 0.532 - ETA: 2s - loss: 7.2280 - acc: 0.537 - ETA: 2s - loss: 7.2360 - acc: 0.537 - ETA: 2s - loss: 7.2641 - acc: 0.536 - ETA: 2s - loss: 7.2337 - acc: 0.538 - ETA: 2s - loss: 7.2446 - acc: 0.536 - ETA: 2s - loss: 7.2642 - acc: 0.535 - ETA: 2s - loss: 7.2639 - acc: 0.535 - ETA: 2s - loss: 7.2385 - acc: 0.537 - ETA: 1s - loss: 7.2326 - acc: 0.538 - ETA: 1s - loss: 7.2576 - acc: 0.537 - ETA: 1s - loss: 7.2939 - acc: 0.533 - ETA: 1s - loss: 7.2757 - acc: 0.533 - ETA: 1s - loss: 7.3289 - acc: 0.529 - ETA: 1s - loss: 7.2758 - acc: 0.532 - ETA: 1s - loss: 7.2195 - acc: 0.536 - ETA: 1s - loss: 7.1786 - acc: 0.539 - ETA: 1s - loss: 7.1907 - acc: 0.538 - ETA: 1s - loss: 7.1671 - acc: 0.540 - ETA: 1s - loss: 7.1686 - acc: 0.540 - ETA: 1s - loss: 7.1838 - acc: 0.539 - ETA: 1s - loss: 7.1874 - acc: 0.539 - ETA: 1s - loss: 7.1951 - acc: 0.539 - ETA: 1s - loss: 7.2130 - acc: 0.537 - ETA: 1s - loss: 7.1998 - acc: 0.538 - ETA: 1s - loss: 7.2027 - acc: 0.538 - ETA: 1s - loss: 7.2407 - acc: 0.535 - ETA: 1s - loss: 7.2058 - acc: 0.537 - ETA: 1s - loss: 7.2381 - acc: 0.535 - ETA: 0s - loss: 7.2452 - acc: 0.535 - ETA: 0s - loss: 7.2500 - acc: 0.535 - ETA: 0s - loss: 7.2371 - acc: 0.536 - ETA: 0s - loss: 7.2252 - acc: 0.536 - ETA: 0s - loss: 7.2330 - acc: 0.536 - ETA: 0s - loss: 7.2559 - acc: 0.535 - ETA: 0s - loss: 7.2780 - acc: 0.534 - ETA: 0s - loss: 7.2628 - acc: 0.535 - ETA: 0s - loss: 7.2629 - acc: 0.535 - ETA: 0s - loss: 7.2444 - acc: 0.536 - ETA: 0s - loss: 7.2302 - acc: 0.537 - ETA: 0s - loss: 7.2377 - acc: 0.537 - ETA: 0s - loss: 7.2305 - acc: 0.537 - ETA: 0s - loss: 7.2353 - acc: 0.537 - ETA: 0s - loss: 7.2317 - acc: 0.537 - ETA: 0s - loss: 7.2283 - acc: 0.537 - ETA: 0s - loss: 7.2171 - acc: 0.538 - ETA: 0s - loss: 7.2086 - acc: 0.5388Epoch 00018: val_loss improved from 8.08558 to 8.07654, saving model to saved_models/weights.best.VGG16.hdf5\n",
      "6680/6680 [==============================] - 3s - loss: 7.2070 - acc: 0.5388 - val_loss: 8.0765 - val_acc: 0.4299\n",
      "Epoch 20/20\n",
      "6560/6680 [============================>.] - ETA: 2s - loss: 8.0597 - acc: 0.500 - ETA: 2s - loss: 8.6445 - acc: 0.450 - ETA: 2s - loss: 7.7636 - acc: 0.510 - ETA: 2s - loss: 7.4556 - acc: 0.530 - ETA: 2s - loss: 7.4778 - acc: 0.528 - ETA: 2s - loss: 7.4375 - acc: 0.531 - ETA: 2s - loss: 7.4656 - acc: 0.530 - ETA: 2s - loss: 7.5119 - acc: 0.527 - ETA: 2s - loss: 7.3846 - acc: 0.536 - ETA: 2s - loss: 7.5269 - acc: 0.525 - ETA: 2s - loss: 7.4774 - acc: 0.528 - ETA: 2s - loss: 7.4726 - acc: 0.528 - ETA: 2s - loss: 7.4169 - acc: 0.531 - ETA: 2s - loss: 7.3852 - acc: 0.533 - ETA: 2s - loss: 7.3618 - acc: 0.534 - ETA: 2s - loss: 7.3575 - acc: 0.534 - ETA: 2s - loss: 7.3638 - acc: 0.533 - ETA: 1s - loss: 7.3835 - acc: 0.531 - ETA: 1s - loss: 7.3778 - acc: 0.531 - ETA: 1s - loss: 7.3376 - acc: 0.534 - ETA: 1s - loss: 7.3365 - acc: 0.534 - ETA: 1s - loss: 7.3058 - acc: 0.535 - ETA: 1s - loss: 7.3157 - acc: 0.535 - ETA: 1s - loss: 7.2926 - acc: 0.536 - ETA: 1s - loss: 7.2798 - acc: 0.538 - ETA: 1s - loss: 7.2591 - acc: 0.539 - ETA: 1s - loss: 7.2075 - acc: 0.542 - ETA: 1s - loss: 7.2032 - acc: 0.542 - ETA: 1s - loss: 7.1955 - acc: 0.543 - ETA: 1s - loss: 7.1500 - acc: 0.545 - ETA: 1s - loss: 7.1603 - acc: 0.544 - ETA: 1s - loss: 7.1489 - acc: 0.545 - ETA: 1s - loss: 7.1580 - acc: 0.544 - ETA: 1s - loss: 7.1693 - acc: 0.544 - ETA: 1s - loss: 7.1396 - acc: 0.546 - ETA: 1s - loss: 7.1629 - acc: 0.545 - ETA: 1s - loss: 7.1425 - acc: 0.546 - ETA: 0s - loss: 7.1432 - acc: 0.545 - ETA: 0s - loss: 7.1497 - acc: 0.545 - ETA: 0s - loss: 7.1651 - acc: 0.544 - ETA: 0s - loss: 7.1317 - acc: 0.546 - ETA: 0s - loss: 7.1152 - acc: 0.547 - ETA: 0s - loss: 7.1272 - acc: 0.546 - ETA: 0s - loss: 7.1364 - acc: 0.546 - ETA: 0s - loss: 7.1539 - acc: 0.545 - ETA: 0s - loss: 7.1809 - acc: 0.543 - ETA: 0s - loss: 7.1697 - acc: 0.544 - ETA: 0s - loss: 7.1756 - acc: 0.543 - ETA: 0s - loss: 7.1549 - acc: 0.545 - ETA: 0s - loss: 7.1626 - acc: 0.544 - ETA: 0s - loss: 7.1839 - acc: 0.543 - ETA: 0s - loss: 7.1940 - acc: 0.542 - ETA: 0s - loss: 7.1900 - acc: 0.542 - ETA: 0s - loss: 7.1768 - acc: 0.543 - ETA: 0s - loss: 7.1672 - acc: 0.543 - ETA: 0s - loss: 7.1493 - acc: 0.5442Epoch 00019: val_loss improved from 8.07654 to 8.01932, saving model to saved_models/weights.best.VGG16.hdf5\n",
      "6680/6680 [==============================] - 3s - loss: 7.1519 - acc: 0.5442 - val_loss: 8.0193 - val_acc: 0.4407\n"
     ]
    },
    {
     "data": {
      "text/plain": [
       "<keras.callbacks.History at 0x21b9f5bff98>"
      ]
     },
     "execution_count": 22,
     "metadata": {},
     "output_type": "execute_result"
    }
   ],
   "source": [
    "checkpointer = ModelCheckpoint(filepath='saved_models/weights.best.VGG16.hdf5', \n",
    "                               verbose=1, save_best_only=True)\n",
    "\n",
    "VGG16_model.fit(train_VGG16, train_targets, \n",
    "          validation_data=(valid_VGG16, valid_targets),\n",
    "          epochs=20, batch_size=20, callbacks=[checkpointer], verbose=1)"
   ]
  },
  {
   "cell_type": "markdown",
   "metadata": {
    "hideCode": false,
    "hidePrompt": false
   },
   "source": [
    "### Load the Model with the Best Validation Loss"
   ]
  },
  {
   "cell_type": "code",
   "execution_count": 23,
   "metadata": {
    "collapsed": true,
    "hideCode": false,
    "hidePrompt": false
   },
   "outputs": [],
   "source": [
    "VGG16_model.load_weights('saved_models/weights.best.VGG16.hdf5')"
   ]
  },
  {
   "cell_type": "markdown",
   "metadata": {
    "hideCode": false,
    "hidePrompt": false
   },
   "source": [
    "### Test the Model\n",
    "\n",
    "Now, we can use the CNN to test how well it identifies breed within our test dataset of dog images.  We print the test accuracy below."
   ]
  },
  {
   "cell_type": "code",
   "execution_count": 24,
   "metadata": {
    "hideCode": false,
    "hidePrompt": false
   },
   "outputs": [
    {
     "name": "stdout",
     "output_type": "stream",
     "text": [
      "Test accuracy: 46.5311%\n"
     ]
    }
   ],
   "source": [
    "# get index of predicted dog breed for each image in test set\n",
    "VGG16_predictions = [np.argmax(VGG16_model.predict(np.expand_dims(feature, axis=0))) for feature in test_VGG16]\n",
    "\n",
    "# report test accuracy\n",
    "test_accuracy = 100*np.sum(np.array(VGG16_predictions)==np.argmax(test_targets, axis=1))/len(VGG16_predictions)\n",
    "print('Test accuracy: %.4f%%' % test_accuracy)"
   ]
  },
  {
   "cell_type": "markdown",
   "metadata": {
    "hideCode": false,
    "hidePrompt": false
   },
   "source": [
    "### Predict Dog Breed with the Model"
   ]
  },
  {
   "cell_type": "code",
   "execution_count": 27,
   "metadata": {
    "collapsed": true,
    "hideCode": false,
    "hidePrompt": false
   },
   "outputs": [],
   "source": [
    "from extract_bottleneck_features import *\n",
    "\n",
    "def VGG16_predict_breed(img_path):\n",
    "    # extract bottleneck features\n",
    "    bottleneck_feature = extract_VGG16(path_to_tensor(img_path))\n",
    "    # obtain predicted vector\n",
    "    predicted_vector = VGG16_model.predict(bottleneck_feature)\n",
    "    # return dog breed that is predicted by the model\n",
    "    return dog_names[np.argmax(predicted_vector)]"
   ]
  },
  {
   "cell_type": "markdown",
   "metadata": {
    "hideCode": false,
    "hidePrompt": false
   },
   "source": [
    "---\n",
    "<a id='step5'></a>\n",
    "## Step 5: Create a CNN to Classify Dog Breeds (using Transfer Learning)\n",
    "\n",
    "You will now use transfer learning to create a CNN that can identify dog breed from images.  Your CNN must attain at least 60% accuracy on the test set.\n",
    "\n",
    "In Step 4, we used transfer learning to create a CNN using VGG-16 bottleneck features.  In this section, you must use the bottleneck features from a different pre-trained model.  To make things easier for you, we have pre-computed the features for all of the networks that are currently available in Keras:\n",
    "- [VGG-19](https://s3-us-west-1.amazonaws.com/udacity-aind/dog-project/DogVGG19Data.npz) bottleneck features\n",
    "- [ResNet-50](https://s3-us-west-1.amazonaws.com/udacity-aind/dog-project/DogResnet50Data.npz) bottleneck features\n",
    "- [Inception](https://s3-us-west-1.amazonaws.com/udacity-aind/dog-project/DogInceptionV3Data.npz) bottleneck features\n",
    "- [Xception](https://s3-us-west-1.amazonaws.com/udacity-aind/dog-project/DogXceptionData.npz) bottleneck features\n",
    "\n",
    "The files are encoded as such:\n",
    "\n",
    "    Dog{network}Data.npz\n",
    "    \n",
    "where `{network}`, in the above filename, can be one of `VGG19`, `Resnet50`, `InceptionV3`, or `Xception`.  Pick one of the above architectures, download the corresponding bottleneck features, and store the downloaded file in the `bottleneck_features/` folder in the repository.\n",
    "\n",
    "### (IMPLEMENTATION) Obtain Bottleneck Features\n",
    "\n",
    "In the code block below, extract the bottleneck features corresponding to the train, test, and validation sets by running the following:\n",
    "\n",
    "    bottleneck_features = np.load('bottleneck_features/Dog{network}Data.npz')\n",
    "    train_{network} = bottleneck_features['train']\n",
    "    valid_{network} = bottleneck_features['valid']\n",
    "    test_{network} = bottleneck_features['test']"
   ]
  },
  {
   "cell_type": "code",
   "execution_count": 6,
   "metadata": {
    "collapsed": true,
    "hideCode": false,
    "hidePrompt": false
   },
   "outputs": [],
   "source": [
    "def extract_bottleneck_features(network):\n",
    "    bottleneck_features = np.load('bottleneck_features/Dog{}Data.npz'.format(network))\n",
    "    train_network = bottleneck_features['train']\n",
    "    valid_network = bottleneck_features['valid']\n",
    "    test_network = bottleneck_features['test']\n",
    "    \n",
    "    return train_network, valid_network, test_network"
   ]
  },
  {
   "cell_type": "code",
   "execution_count": 7,
   "metadata": {
    "collapsed": true
   },
   "outputs": [],
   "source": [
    "xception_feature_set = extract_bottleneck_features(\"Xception\")\n",
    "resnet_feature_set = extract_bottleneck_features('Resnet50')\n",
    "inception_feature_set = extract_bottleneck_features('InceptionV3') "
   ]
  },
  {
   "cell_type": "markdown",
   "metadata": {
    "hideCode": false,
    "hidePrompt": false
   },
   "source": [
    "### (IMPLEMENTATION) Model Architecture\n",
    "\n",
    "Create a CNN to classify dog breed.  At the end of your code cell block, summarize the layers of your model by executing the line:\n",
    "    \n",
    "        <your model's name>.summary()\n",
    "   \n",
    "__Question 5:__ Outline the steps you took to get to your final CNN architecture and your reasoning at each step.  Describe why you think the architecture is suitable for the current problem.\n",
    "\n",
    "__Answer:__  My model is the merge model which use all of the bottleneck features extracted with Xception, Resnet50 and InceptionV3. I think each network extracts the different features of an image and it is possible some network extracts the good features for some dog breed but not for another one. Therefore I use the all the features from the three networks and adjust each feature's weight by learning.\n",
    "\n",
    "The architecture is as follows.\n",
    "In the input layer, the bottleneck features are extracted.\n",
    "In next layer, each bottleneck feature is pooled with global averaging to unify the dimensions of the features and to reduce the number of parameters.\n",
    "In the merge layer, the features from each network are concatenated. I select concatenation to merge layers to remain the features distinguished.\n",
    "Then, there is a dense layer before the output layer to adjust each feature's weight.\n",
    "To output for classification, the last layer is a dense layer with softmax acttivation. \n",
    "Dropout Layers are inserted to avoid overfitting."
   ]
  },
  {
   "cell_type": "code",
   "execution_count": 108,
   "metadata": {
    "hideCode": false,
    "hidePrompt": false
   },
   "outputs": [
    {
     "name": "stdout",
     "output_type": "stream",
     "text": [
      "____________________________________________________________________________________________________\n",
      "Layer (type)                     Output Shape          Param #     Connected to                     \n",
      "====================================================================================================\n",
      "input_118 (InputLayer)           (None, 7, 7, 2048)    0                                            \n",
      "____________________________________________________________________________________________________\n",
      "input_119 (InputLayer)           (None, 1, 1, 2048)    0                                            \n",
      "____________________________________________________________________________________________________\n",
      "input_120 (InputLayer)           (None, 5, 5, 2048)    0                                            \n",
      "____________________________________________________________________________________________________\n",
      "global_average_pooling2d_30 (Glo (None, 2048)          0                                            \n",
      "____________________________________________________________________________________________________\n",
      "global_average_pooling2d_31 (Glo (None, 2048)          0                                            \n",
      "____________________________________________________________________________________________________\n",
      "global_average_pooling2d_32 (Glo (None, 2048)          0                                            \n",
      "____________________________________________________________________________________________________\n",
      "concatenate_51 (Concatenate)     (None, 6144)          0                                            \n",
      "____________________________________________________________________________________________________\n",
      "dense_20 (Dense)                 (None, 1024)          6292480                                      \n",
      "____________________________________________________________________________________________________\n",
      "activation_2446 (Activation)     (None, 1024)          0                                            \n",
      "____________________________________________________________________________________________________\n",
      "dropout_12 (Dropout)             (None, 1024)          0                                            \n",
      "____________________________________________________________________________________________________\n",
      "dense_21 (Dense)                 (None, 133)           136325                                       \n",
      "====================================================================================================\n",
      "Total params: 6,428,805.0\n",
      "Trainable params: 6,428,805.0\n",
      "Non-trainable params: 0.0\n",
      "____________________________________________________________________________________________________\n"
     ]
    }
   ],
   "source": [
    "from keras.layers import Merge\n",
    "from keras.models import Sequential\n",
    "from keras.layers import Conv2D, MaxPooling2D, GlobalAveragePooling2D, Input\n",
    "from keras.layers import Dropout, Flatten, Dense, Activation, BatchNormalization, SeparableConv2D\n",
    "from keras.models import Model\n",
    "from keras.callbacks import ModelCheckpoint\n",
    "from keras import layers, regularizers\n",
    "import numpy as np\n",
    "\n",
    "xception_input_data = Input(shape=xception_feature_set[0].shape[1:])\n",
    "#print(xception_input_data.shape)\n",
    "#xception_x = MaxPooling2D(pool_size=(7, 7), padding=\"same\")(xception_input_data)\n",
    "xception_x = GlobalAveragePooling2D()(xception_input_data)\n",
    "\n",
    "resnet_input_data = Input(shape=resnet_feature_set[0].shape[1:])\n",
    "#print(resnet_input_data.shape)\n",
    "#resnet_x = MaxPooling2D(pool_size=(1, 1), padding=\"same\")(resnet_input_data)\n",
    "resnet_x = GlobalAveragePooling2D()(resnet_input_data)\n",
    "\n",
    "inception_input_data = Input(shape=inception_feature_set[0].shape[1:])\n",
    "#print(inception_input_data.shape)\n",
    "#inception_x = MaxPooling2D(pool_size=(5, 5), padding=\"same\")(inception_input_data)\n",
    "inception_x = GlobalAveragePooling2D()(inception_input_data)\n",
    "\n",
    "modules = [xception_x, resnet_x,  inception_x]\n",
    "\n",
    "merged = layers.concatenate(modules, axis=1)\n",
    "\n",
    "ker1, l2_1, dr1 = 1024, 1e-05, 0.5\n",
    "#ker1, l2_1, dr1 = 512, 1e-05, 0.5\n",
    "#ker1, l2_1, dr1 = 1024, 0, 0.5\n",
    "#x = Dropout(0.7)\n",
    "x = Dense(ker1, kernel_initializer='he_normal', kernel_regularizer=regularizers.l2(l2_1))(merged)\n",
    "x = Activation(\"relu\")(x)\n",
    "x = Dropout(dr1)(x)\n",
    "x = Dense(133, activation='softmax')(x)\n",
    "\n",
    "merged_model = Model([xception_input_data, resnet_input_data, inception_input_data], x)\n",
    "merged_model.summary()"
   ]
  },
  {
   "cell_type": "markdown",
   "metadata": {
    "hideCode": false,
    "hidePrompt": false
   },
   "source": [
    "### (IMPLEMENTATION) Compile the Model"
   ]
  },
  {
   "cell_type": "code",
   "execution_count": 104,
   "metadata": {
    "collapsed": true,
    "hideCode": false,
    "hidePrompt": false
   },
   "outputs": [],
   "source": [
    "### TODO: Compile the model.\n",
    "merged_model.compile(loss='categorical_crossentropy', optimizer='rmsprop', metrics=['accuracy'])"
   ]
  },
  {
   "cell_type": "markdown",
   "metadata": {
    "hideCode": false,
    "hidePrompt": false
   },
   "source": [
    "### (IMPLEMENTATION) Train the Model\n",
    "\n",
    "Train your model in the code cell below.  Use model checkpointing to save the model that attains the best validation loss.  \n",
    "\n",
    "You are welcome to [augment the training data](https://blog.keras.io/building-powerful-image-classification-models-using-very-little-data.html), but this is not a requirement. "
   ]
  },
  {
   "cell_type": "code",
   "execution_count": 105,
   "metadata": {
    "hideCode": false,
    "hidePrompt": false,
    "scrolled": true
   },
   "outputs": [
    {
     "name": "stdout",
     "output_type": "stream",
     "text": [
      "Train on 6680 samples, validate on 835 samples\n",
      "Epoch 1/5\n"
     ]
    },
    {
     "name": "stdout",
     "output_type": "stream",
     "text": [
      "6060/6680 [==========================>...] - ETA: 19189s - loss: 5.5486 - acc: 0.033 - ETA: 14227s - loss: 8.7866 - acc: 0.066 - ETA: 10994s - loss: 10.2667 - acc: 0.07 - ETA: 9005s - loss: 11.4576 - acc: 0.0667 - ETA: 8058s - loss: 11.5278 - acc: 0.073 - ETA: 7355s - loss: 11.9793 - acc: 0.066 - ETA: 6806s - loss: 12.0818 - acc: 0.057 - ETA: 6762s - loss: 11.8408 - acc: 0.058 - ETA: 6674s - loss: 11.7356 - acc: 0.066 - ETA: 6340s - loss: 11.8484 - acc: 0.063 - ETA: 6111s - loss: 11.7342 - acc: 0.063 - ETA: 6008s - loss: 11.7492 - acc: 0.061 - ETA: 5980s - loss: 11.6970 - acc: 0.059 - ETA: 5817s - loss: 11.5221 - acc: 0.064 - ETA: 5661s - loss: 11.3670 - acc: 0.071 - ETA: 5733s - loss: 11.0790 - acc: 0.081 - ETA: 6060s - loss: 10.7858 - acc: 0.084 - ETA: 6173s - loss: 10.6052 - acc: 0.085 - ETA: 6346s - loss: 10.4114 - acc: 0.089 - ETA: 6408s - loss: 10.1133 - acc: 0.103 - ETA: 6394s - loss: 9.8958 - acc: 0.101 - ETA: 6529s - loss: 9.6648 - acc: 0.10 - ETA: 6577s - loss: 9.4253 - acc: 0.11 - ETA: 6521s - loss: 9.2257 - acc: 0.11 - ETA: 6401s - loss: 9.0232 - acc: 0.11 - ETA: 6506s - loss: 8.8331 - acc: 0.11 - ETA: 6562s - loss: 8.6640 - acc: 0.12 - ETA: 6464s - loss: 8.4757 - acc: 0.13 - ETA: 6694s - loss: 8.3135 - acc: 0.13 - ETA: 6891s - loss: 8.1668 - acc: 0.14 - ETA: 6878s - loss: 8.0047 - acc: 0.15 - ETA: 6904s - loss: 7.8489 - acc: 0.15 - ETA: 6948s - loss: 7.7311 - acc: 0.16 - ETA: 6952s - loss: 7.5766 - acc: 0.16 - ETA: 6939s - loss: 7.4647 - acc: 0.17 - ETA: 6977s - loss: 7.3373 - acc: 0.17 - ETA: 7065s - loss: 7.2105 - acc: 0.18 - ETA: 7137s - loss: 7.0886 - acc: 0.19 - ETA: 7256s - loss: 7.0041 - acc: 0.19 - ETA: 7266s - loss: 6.8924 - acc: 0.20 - ETA: 7237s - loss: 6.8129 - acc: 0.20 - ETA: 7131s - loss: 6.7246 - acc: 0.20 - ETA: 6999s - loss: 6.6379 - acc: 0.20 - ETA: 6873s - loss: 6.5664 - acc: 0.20 - ETA: 6766s - loss: 6.5080 - acc: 0.20 - ETA: 6662s - loss: 6.4146 - acc: 0.21 - ETA: 6581s - loss: 6.3337 - acc: 0.21 - ETA: 6471s - loss: 6.2387 - acc: 0.22 - ETA: 6371s - loss: 6.1656 - acc: 0.22 - ETA: 6294s - loss: 6.0878 - acc: 0.23 - ETA: 6229s - loss: 6.0191 - acc: 0.23 - ETA: 6197s - loss: 5.9555 - acc: 0.23 - ETA: 6187s - loss: 5.9073 - acc: 0.23 - ETA: 6187s - loss: 5.8304 - acc: 0.24 - ETA: 6124s - loss: 5.7646 - acc: 0.24 - ETA: 6129s - loss: 5.7080 - acc: 0.25 - ETA: 6115s - loss: 5.6491 - acc: 0.25 - ETA: 6079s - loss: 5.5863 - acc: 0.26 - ETA: 6101s - loss: 5.5262 - acc: 0.26 - ETA: 6089s - loss: 5.4745 - acc: 0.26 - ETA: 6027s - loss: 5.4177 - acc: 0.26 - ETA: 5974s - loss: 5.3640 - acc: 0.27 - ETA: 5943s - loss: 5.2998 - acc: 0.27 - ETA: 5896s - loss: 5.2585 - acc: 0.28 - ETA: 5827s - loss: 5.2092 - acc: 0.28 - ETA: 5758s - loss: 5.1587 - acc: 0.28 - ETA: 5696s - loss: 5.1201 - acc: 0.29 - ETA: 5631s - loss: 5.0759 - acc: 0.29 - ETA: 5564s - loss: 5.0268 - acc: 0.29 - ETA: 5522s - loss: 4.9755 - acc: 0.30 - ETA: 5467s - loss: 4.9358 - acc: 0.30 - ETA: 5399s - loss: 4.8905 - acc: 0.30 - ETA: 5310s - loss: 4.8459 - acc: 0.31 - ETA: 5234s - loss: 4.8010 - acc: 0.31 - ETA: 5156s - loss: 4.7590 - acc: 0.32 - ETA: 5081s - loss: 4.7259 - acc: 0.32 - ETA: 5008s - loss: 4.6838 - acc: 0.32 - ETA: 4939s - loss: 4.6463 - acc: 0.33 - ETA: 4872s - loss: 4.6169 - acc: 0.33 - ETA: 4797s - loss: 4.5834 - acc: 0.33 - ETA: 4719s - loss: 4.5537 - acc: 0.33 - ETA: 4648s - loss: 4.5130 - acc: 0.34 - ETA: 4578s - loss: 4.4816 - acc: 0.34 - ETA: 4510s - loss: 4.4533 - acc: 0.34 - ETA: 4440s - loss: 4.4245 - acc: 0.35 - ETA: 4373s - loss: 4.3918 - acc: 0.35 - ETA: 4318s - loss: 4.3704 - acc: 0.35 - ETA: 4257s - loss: 4.3425 - acc: 0.35 - ETA: 4197s - loss: 4.3250 - acc: 0.35 - ETA: 4132s - loss: 4.2933 - acc: 0.36 - ETA: 4071s - loss: 4.2735 - acc: 0.36 - ETA: 4012s - loss: 4.2429 - acc: 0.36 - ETA: 3954s - loss: 4.2193 - acc: 0.36 - ETA: 3897s - loss: 4.2046 - acc: 0.36 - ETA: 3837s - loss: 4.1762 - acc: 0.37 - ETA: 3784s - loss: 4.1489 - acc: 0.37 - ETA: 3729s - loss: 4.1275 - acc: 0.37 - ETA: 3674s - loss: 4.1114 - acc: 0.37 - ETA: 3619s - loss: 4.0846 - acc: 0.37 - ETA: 3567s - loss: 4.0591 - acc: 0.38 - ETA: 3516s - loss: 4.0377 - acc: 0.38 - ETA: 3473s - loss: 4.0134 - acc: 0.38 - ETA: 3425s - loss: 3.9909 - acc: 0.38 - ETA: 3379s - loss: 3.9706 - acc: 0.38 - ETA: 3330s - loss: 3.9521 - acc: 0.38 - ETA: 3284s - loss: 3.9257 - acc: 0.39 - ETA: 3238s - loss: 3.9002 - acc: 0.39 - ETA: 3191s - loss: 3.8794 - acc: 0.39 - ETA: 3147s - loss: 3.8645 - acc: 0.39 - ETA: 3103s - loss: 3.8496 - acc: 0.39 - ETA: 3061s - loss: 3.8275 - acc: 0.40 - ETA: 3016s - loss: 3.8174 - acc: 0.40 - ETA: 2972s - loss: 3.8001 - acc: 0.40 - ETA: 2930s - loss: 3.7801 - acc: 0.40 - ETA: 2885s - loss: 3.7599 - acc: 0.40 - ETA: 2842s - loss: 3.7398 - acc: 0.40 - ETA: 2800s - loss: 3.7245 - acc: 0.40 - ETA: 2760s - loss: 3.7112 - acc: 0.40 - ETA: 2722s - loss: 3.6941 - acc: 0.40 - ETA: 2685s - loss: 3.6780 - acc: 0.40 - ETA: 2646s - loss: 3.6621 - acc: 0.41 - ETA: 2607s - loss: 3.6447 - acc: 0.41 - ETA: 2568s - loss: 3.6338 - acc: 0.41 - ETA: 2535s - loss: 3.6149 - acc: 0.41 - ETA: 2494s - loss: 3.5983 - acc: 0.41 - ETA: 2453s - loss: 3.5781 - acc: 0.41 - ETA: 2413s - loss: 3.5616 - acc: 0.41 - ETA: 2373s - loss: 3.5464 - acc: 0.42 - ETA: 2334s - loss: 3.5308 - acc: 0.42 - ETA: 2295s - loss: 3.5185 - acc: 0.42 - ETA: 2257s - loss: 3.5015 - acc: 0.42 - ETA: 2219s - loss: 3.4828 - acc: 0.42 - ETA: 2182s - loss: 3.4732 - acc: 0.42 - ETA: 2146s - loss: 3.4585 - acc: 0.42 - ETA: 2113s - loss: 3.4461 - acc: 0.42 - ETA: 2079s - loss: 3.4274 - acc: 0.43 - ETA: 2043s - loss: 3.4125 - acc: 0.43 - ETA: 2008s - loss: 3.3960 - acc: 0.43 - ETA: 1973s - loss: 3.3792 - acc: 0.43 - ETA: 1943s - loss: 3.3732 - acc: 0.43 - ETA: 1912s - loss: 3.3587 - acc: 0.43 - ETA: 1882s - loss: 3.3435 - acc: 0.44 - ETA: 1852s - loss: 3.3280 - acc: 0.44 - ETA: 1822s - loss: 3.3182 - acc: 0.44 - ETA: 1791s - loss: 3.3065 - acc: 0.44 - ETA: 1758s - loss: 3.2964 - acc: 0.44 - ETA: 1726s - loss: 3.2830 - acc: 0.44 - ETA: 1694s - loss: 3.2713 - acc: 0.44 - ETA: 1663s - loss: 3.2626 - acc: 0.44 - ETA: 1631s - loss: 3.2539 - acc: 0.44 - ETA: 1600s - loss: 3.2425 - acc: 0.45 - ETA: 1569s - loss: 3.2310 - acc: 0.45 - ETA: 1539s - loss: 3.2226 - acc: 0.45 - ETA: 1509s - loss: 3.2088 - acc: 0.45 - ETA: 1480s - loss: 3.1937 - acc: 0.45 - ETA: 1452s - loss: 3.1809 - acc: 0.45 - ETA: 1430s - loss: 3.1745 - acc: 0.46 - ETA: 1401s - loss: 3.1606 - acc: 0.46 - ETA: 1374s - loss: 3.1557 - acc: 0.46 - ETA: 1346s - loss: 3.1492 - acc: 0.46 - ETA: 1319s - loss: 3.1376 - acc: 0.46 - ETA: 1291s - loss: 3.1288 - acc: 0.46 - ETA: 1264s - loss: 3.1232 - acc: 0.46 - ETA: 1237s - loss: 3.1119 - acc: 0.46 - ETA: 1210s - loss: 3.1030 - acc: 0.46 - ETA: 1183s - loss: 3.0930 - acc: 0.46 - ETA: 1157s - loss: 3.0776 - acc: 0.46 - ETA: 1131s - loss: 3.0697 - acc: 0.47 - ETA: 1104s - loss: 3.0600 - acc: 0.47 - ETA: 1079s - loss: 3.0503 - acc: 0.47 - ETA: 1053s - loss: 3.0396 - acc: 0.47 - ETA: 1028s - loss: 3.0332 - acc: 0.47 - ETA: 1003s - loss: 3.0209 - acc: 0.47 - ETA: 978s - loss: 3.0078 - acc: 0.4776 - ETA: 954s - loss: 2.9989 - acc: 0.478 - ETA: 930s - loss: 2.9938 - acc: 0.479 - ETA: 906s - loss: 2.9844 - acc: 0.480 - ETA: 883s - loss: 2.9757 - acc: 0.481 - ETA: 859s - loss: 2.9646 - acc: 0.483 - ETA: 836s - loss: 2.9550 - acc: 0.484 - ETA: 812s - loss: 2.9466 - acc: 0.485 - ETA: 789s - loss: 2.9353 - acc: 0.487 - ETA: 766s - loss: 2.9302 - acc: 0.488 - ETA: 743s - loss: 2.9229 - acc: 0.488 - ETA: 721s - loss: 2.9155 - acc: 0.489 - ETA: 699s - loss: 2.9065 - acc: 0.490 - ETA: 677s - loss: 2.8995 - acc: 0.491 - ETA: 655s - loss: 2.8894 - acc: 0.492 - ETA: 633s - loss: 2.8814 - acc: 0.493 - ETA: 611s - loss: 2.8758 - acc: 0.493 - ETA: 590s - loss: 2.8706 - acc: 0.493 - ETA: 569s - loss: 2.8616 - acc: 0.495 - ETA: 548s - loss: 2.8538 - acc: 0.496 - ETA: 527s - loss: 2.8468 - acc: 0.496 - ETA: 506s - loss: 2.8394 - acc: 0.497 - ETA: 486s - loss: 2.8340 - acc: 0.498 - ETA: 465s - loss: 2.8270 - acc: 0.498 - ETA: 445s - loss: 2.8211 - acc: 0.499 - ETA: 425s - loss: 2.8170 - acc: 0.499 - ETA: 405s - loss: 2.8122 - acc: 0.500 - ETA: 386s - loss: 2.8069 - acc: 0.500 - ETA: 366s - loss: 2.8023 - acc: 0.5016660/6680 [============================>.] - ETA: 347s - loss: 2.7945 - acc: 0.502 - ETA: 328s - loss: 2.7884 - acc: 0.503 - ETA: 309s - loss: 2.7842 - acc: 0.504 - ETA: 290s - loss: 2.7821 - acc: 0.504 - ETA: 271s - loss: 2.7773 - acc: 0.505 - ETA: 253s - loss: 2.7724 - acc: 0.505 - ETA: 235s - loss: 2.7676 - acc: 0.506 - ETA: 217s - loss: 2.7632 - acc: 0.506 - ETA: 199s - loss: 2.7584 - acc: 0.507 - ETA: 181s - loss: 2.7513 - acc: 0.508 - ETA: 163s - loss: 2.7454 - acc: 0.508 - ETA: 146s - loss: 2.7396 - acc: 0.509 - ETA: 128s - loss: 2.7314 - acc: 0.510 - ETA: 111s - loss: 2.7275 - acc: 0.511 - ETA: 94s - loss: 2.7231 - acc: 0.511 - ETA: 77s - loss: 2.7163 - acc: 0.51 - ETA: 60s - loss: 2.7120 - acc: 0.51 - ETA: 43s - loss: 2.7082 - acc: 0.51 - ETA: 27s - loss: 2.7062 - acc: 0.51 - ETA: 10s - loss: 2.7029 - acc: 0.5143Epoch 00000: val_loss improved from inf to 0.90548, saving model to saved_models/weights.best.Xception_Resnet50_InceptionV3.hdf5\n",
      "6680/6680 [==============================] - 3687s - loss: 2.6981 - acc: 0.5150 - val_loss: 0.9055 - val_acc: 0.7689\n",
      "Epoch 2/5\n"
     ]
    },
    {
     "name": "stdout",
     "output_type": "stream",
     "text": [
      "6210/6680 [==========================>...] - ETA: 481s - loss: 0.8115 - acc: 0.700 - ETA: 297s - loss: 1.3571 - acc: 0.616 - ETA: 264s - loss: 1.3856 - acc: 0.633 - ETA: 241s - loss: 1.2016 - acc: 0.675 - ETA: 228s - loss: 1.2408 - acc: 0.686 - ETA: 209s - loss: 1.3723 - acc: 0.672 - ETA: 235s - loss: 1.3318 - acc: 0.685 - ETA: 224s - loss: 1.3133 - acc: 0.695 - ETA: 218s - loss: 1.3038 - acc: 0.696 - ETA: 232s - loss: 1.3169 - acc: 0.700 - ETA: 236s - loss: 1.3376 - acc: 0.690 - ETA: 242s - loss: 1.3536 - acc: 0.688 - ETA: 242s - loss: 1.4011 - acc: 0.684 - ETA: 235s - loss: 1.3624 - acc: 0.688 - ETA: 243s - loss: 1.3223 - acc: 0.693 - ETA: 264s - loss: 1.3370 - acc: 0.693 - ETA: 255s - loss: 1.3235 - acc: 0.700 - ETA: 263s - loss: 1.3391 - acc: 0.701 - ETA: 260s - loss: 1.3071 - acc: 0.707 - ETA: 262s - loss: 1.2655 - acc: 0.716 - ETA: 257s - loss: 1.2426 - acc: 0.720 - ETA: 250s - loss: 1.2221 - acc: 0.724 - ETA: 245s - loss: 1.2520 - acc: 0.723 - ETA: 248s - loss: 1.2436 - acc: 0.723 - ETA: 242s - loss: 1.2776 - acc: 0.722 - ETA: 249s - loss: 1.3080 - acc: 0.719 - ETA: 247s - loss: 1.3011 - acc: 0.717 - ETA: 241s - loss: 1.2887 - acc: 0.720 - ETA: 241s - loss: 1.2756 - acc: 0.720 - ETA: 244s - loss: 1.2604 - acc: 0.723 - ETA: 240s - loss: 1.2522 - acc: 0.721 - ETA: 237s - loss: 1.2320 - acc: 0.724 - ETA: 233s - loss: 1.2384 - acc: 0.723 - ETA: 232s - loss: 1.2610 - acc: 0.718 - ETA: 237s - loss: 1.2662 - acc: 0.717 - ETA: 235s - loss: 1.2742 - acc: 0.717 - ETA: 233s - loss: 1.2631 - acc: 0.718 - ETA: 233s - loss: 1.2634 - acc: 0.717 - ETA: 236s - loss: 1.2568 - acc: 0.718 - ETA: 232s - loss: 1.2692 - acc: 0.719 - ETA: 234s - loss: 1.2694 - acc: 0.719 - ETA: 232s - loss: 1.2634 - acc: 0.719 - ETA: 233s - loss: 1.2535 - acc: 0.718 - ETA: 233s - loss: 1.2520 - acc: 0.718 - ETA: 231s - loss: 1.2549 - acc: 0.718 - ETA: 227s - loss: 1.2479 - acc: 0.718 - ETA: 225s - loss: 1.2550 - acc: 0.716 - ETA: 226s - loss: 1.2606 - acc: 0.716 - ETA: 226s - loss: 1.2730 - acc: 0.715 - ETA: 224s - loss: 1.2703 - acc: 0.715 - ETA: 223s - loss: 1.2637 - acc: 0.715 - ETA: 224s - loss: 1.2671 - acc: 0.712 - ETA: 222s - loss: 1.2651 - acc: 0.713 - ETA: 222s - loss: 1.2591 - acc: 0.714 - ETA: 220s - loss: 1.2642 - acc: 0.713 - ETA: 222s - loss: 1.2664 - acc: 0.713 - ETA: 220s - loss: 1.2548 - acc: 0.716 - ETA: 217s - loss: 1.2479 - acc: 0.717 - ETA: 215s - loss: 1.2463 - acc: 0.717 - ETA: 213s - loss: 1.2462 - acc: 0.716 - ETA: 214s - loss: 1.2337 - acc: 0.718 - ETA: 212s - loss: 1.2327 - acc: 0.718 - ETA: 210s - loss: 1.2234 - acc: 0.720 - ETA: 209s - loss: 1.2181 - acc: 0.722 - ETA: 209s - loss: 1.2159 - acc: 0.723 - ETA: 207s - loss: 1.2227 - acc: 0.721 - ETA: 205s - loss: 1.2207 - acc: 0.721 - ETA: 205s - loss: 1.2162 - acc: 0.723 - ETA: 207s - loss: 1.2258 - acc: 0.722 - ETA: 206s - loss: 1.2231 - acc: 0.721 - ETA: 206s - loss: 1.2327 - acc: 0.718 - ETA: 207s - loss: 1.2309 - acc: 0.718 - ETA: 205s - loss: 1.2303 - acc: 0.719 - ETA: 204s - loss: 1.2259 - acc: 0.718 - ETA: 205s - loss: 1.2283 - acc: 0.718 - ETA: 202s - loss: 1.2262 - acc: 0.717 - ETA: 201s - loss: 1.2298 - acc: 0.716 - ETA: 199s - loss: 1.2405 - acc: 0.715 - ETA: 196s - loss: 1.2357 - acc: 0.718 - ETA: 197s - loss: 1.2296 - acc: 0.718 - ETA: 195s - loss: 1.2297 - acc: 0.718 - ETA: 193s - loss: 1.2252 - acc: 0.719 - ETA: 191s - loss: 1.2176 - acc: 0.720 - ETA: 192s - loss: 1.2089 - acc: 0.722 - ETA: 191s - loss: 1.2013 - acc: 0.723 - ETA: 188s - loss: 1.2020 - acc: 0.723 - ETA: 186s - loss: 1.1968 - acc: 0.723 - ETA: 185s - loss: 1.2100 - acc: 0.720 - ETA: 185s - loss: 1.2028 - acc: 0.721 - ETA: 183s - loss: 1.2085 - acc: 0.720 - ETA: 183s - loss: 1.2090 - acc: 0.720 - ETA: 182s - loss: 1.2041 - acc: 0.721 - ETA: 181s - loss: 1.1967 - acc: 0.722 - ETA: 179s - loss: 1.1976 - acc: 0.722 - ETA: 177s - loss: 1.1881 - acc: 0.724 - ETA: 175s - loss: 1.1927 - acc: 0.723 - ETA: 173s - loss: 1.1925 - acc: 0.723 - ETA: 171s - loss: 1.1986 - acc: 0.722 - ETA: 170s - loss: 1.1969 - acc: 0.722 - ETA: 171s - loss: 1.1919 - acc: 0.722 - ETA: 170s - loss: 1.1948 - acc: 0.721 - ETA: 169s - loss: 1.1929 - acc: 0.722 - ETA: 168s - loss: 1.1886 - acc: 0.723 - ETA: 167s - loss: 1.1863 - acc: 0.724 - ETA: 165s - loss: 1.1806 - acc: 0.725 - ETA: 164s - loss: 1.1846 - acc: 0.724 - ETA: 162s - loss: 1.1847 - acc: 0.724 - ETA: 160s - loss: 1.1834 - acc: 0.725 - ETA: 159s - loss: 1.1775 - acc: 0.726 - ETA: 157s - loss: 1.1784 - acc: 0.725 - ETA: 156s - loss: 1.1729 - acc: 0.725 - ETA: 155s - loss: 1.1810 - acc: 0.725 - ETA: 153s - loss: 1.1818 - acc: 0.724 - ETA: 152s - loss: 1.1861 - acc: 0.723 - ETA: 151s - loss: 1.1854 - acc: 0.723 - ETA: 149s - loss: 1.1881 - acc: 0.723 - ETA: 148s - loss: 1.1871 - acc: 0.723 - ETA: 147s - loss: 1.1864 - acc: 0.723 - ETA: 146s - loss: 1.1824 - acc: 0.723 - ETA: 144s - loss: 1.1847 - acc: 0.722 - ETA: 143s - loss: 1.1886 - acc: 0.722 - ETA: 141s - loss: 1.1855 - acc: 0.722 - ETA: 141s - loss: 1.1871 - acc: 0.722 - ETA: 140s - loss: 1.1915 - acc: 0.722 - ETA: 138s - loss: 1.1950 - acc: 0.721 - ETA: 137s - loss: 1.1955 - acc: 0.722 - ETA: 136s - loss: 1.1883 - acc: 0.723 - ETA: 135s - loss: 1.1959 - acc: 0.722 - ETA: 134s - loss: 1.1937 - acc: 0.722 - ETA: 133s - loss: 1.1946 - acc: 0.721 - ETA: 132s - loss: 1.1965 - acc: 0.721 - ETA: 131s - loss: 1.2032 - acc: 0.720 - ETA: 129s - loss: 1.2030 - acc: 0.720 - ETA: 128s - loss: 1.1992 - acc: 0.720 - ETA: 127s - loss: 1.1994 - acc: 0.721 - ETA: 126s - loss: 1.2008 - acc: 0.721 - ETA: 124s - loss: 1.1944 - acc: 0.722 - ETA: 122s - loss: 1.1924 - acc: 0.722 - ETA: 122s - loss: 1.1858 - acc: 0.723 - ETA: 120s - loss: 1.1846 - acc: 0.723 - ETA: 118s - loss: 1.1878 - acc: 0.723 - ETA: 117s - loss: 1.1898 - acc: 0.723 - ETA: 116s - loss: 1.1921 - acc: 0.723 - ETA: 114s - loss: 1.1907 - acc: 0.723 - ETA: 112s - loss: 1.1863 - acc: 0.723 - ETA: 111s - loss: 1.1845 - acc: 0.724 - ETA: 110s - loss: 1.1893 - acc: 0.723 - ETA: 108s - loss: 1.1905 - acc: 0.724 - ETA: 106s - loss: 1.1939 - acc: 0.723 - ETA: 105s - loss: 1.1954 - acc: 0.723 - ETA: 103s - loss: 1.1962 - acc: 0.723 - ETA: 102s - loss: 1.1955 - acc: 0.723 - ETA: 100s - loss: 1.1953 - acc: 0.724 - ETA: 99s - loss: 1.1902 - acc: 0.724 - ETA: 98s - loss: 1.1858 - acc: 0.72 - ETA: 97s - loss: 1.1855 - acc: 0.72 - ETA: 95s - loss: 1.1832 - acc: 0.72 - ETA: 94s - loss: 1.1831 - acc: 0.72 - ETA: 93s - loss: 1.1789 - acc: 0.72 - ETA: 91s - loss: 1.1777 - acc: 0.72 - ETA: 89s - loss: 1.1790 - acc: 0.72 - ETA: 88s - loss: 1.1789 - acc: 0.72 - ETA: 87s - loss: 1.1822 - acc: 0.72 - ETA: 85s - loss: 1.1776 - acc: 0.72 - ETA: 84s - loss: 1.1766 - acc: 0.72 - ETA: 82s - loss: 1.1766 - acc: 0.72 - ETA: 81s - loss: 1.1748 - acc: 0.72 - ETA: 80s - loss: 1.1714 - acc: 0.72 - ETA: 78s - loss: 1.1701 - acc: 0.72 - ETA: 77s - loss: 1.1720 - acc: 0.72 - ETA: 75s - loss: 1.1759 - acc: 0.72 - ETA: 74s - loss: 1.1748 - acc: 0.72 - ETA: 72s - loss: 1.1761 - acc: 0.72 - ETA: 70s - loss: 1.1770 - acc: 0.72 - ETA: 69s - loss: 1.1767 - acc: 0.72 - ETA: 67s - loss: 1.1753 - acc: 0.72 - ETA: 66s - loss: 1.1759 - acc: 0.72 - ETA: 65s - loss: 1.1739 - acc: 0.72 - ETA: 63s - loss: 1.1789 - acc: 0.72 - ETA: 62s - loss: 1.1807 - acc: 0.72 - ETA: 60s - loss: 1.1770 - acc: 0.72 - ETA: 59s - loss: 1.1787 - acc: 0.72 - ETA: 57s - loss: 1.1759 - acc: 0.72 - ETA: 56s - loss: 1.1773 - acc: 0.72 - ETA: 54s - loss: 1.1784 - acc: 0.72 - ETA: 53s - loss: 1.1792 - acc: 0.72 - ETA: 51s - loss: 1.1790 - acc: 0.72 - ETA: 50s - loss: 1.1767 - acc: 0.72 - ETA: 48s - loss: 1.1730 - acc: 0.73 - ETA: 47s - loss: 1.1725 - acc: 0.73 - ETA: 45s - loss: 1.1701 - acc: 0.73 - ETA: 44s - loss: 1.1685 - acc: 0.73 - ETA: 42s - loss: 1.1751 - acc: 0.72 - ETA: 41s - loss: 1.1769 - acc: 0.72 - ETA: 40s - loss: 1.1813 - acc: 0.72 - ETA: 38s - loss: 1.1843 - acc: 0.72 - ETA: 37s - loss: 1.1827 - acc: 0.72 - ETA: 35s - loss: 1.1815 - acc: 0.72 - ETA: 34s - loss: 1.1806 - acc: 0.72 - ETA: 32s - loss: 1.1762 - acc: 0.72 - ETA: 31s - loss: 1.1790 - acc: 0.72 - ETA: 30s - loss: 1.1792 - acc: 0.72 - ETA: 28s - loss: 1.1834 - acc: 0.72 - ETA: 27s - loss: 1.1891 - acc: 0.72 - ETA: 25s - loss: 1.1890 - acc: 0.72 - ETA: 24s - loss: 1.1880 - acc: 0.72 - ETA: 22s - loss: 1.1870 - acc: 0.7283"
     ]
    },
    {
     "name": "stdout",
     "output_type": "stream",
     "text": [
      "6660/6680 [============================>.] - ETA: 21s - loss: 1.1843 - acc: 0.72 - ETA: 19s - loss: 1.1871 - acc: 0.72 - ETA: 18s - loss: 1.1876 - acc: 0.72 - ETA: 16s - loss: 1.1901 - acc: 0.72 - ETA: 15s - loss: 1.1880 - acc: 0.72 - ETA: 14s - loss: 1.1883 - acc: 0.72 - ETA: 12s - loss: 1.1880 - acc: 0.72 - ETA: 11s - loss: 1.1873 - acc: 0.72 - ETA: 9s - loss: 1.1861 - acc: 0.7296 - ETA: 8s - loss: 1.1839 - acc: 0.730 - ETA: 6s - loss: 1.1814 - acc: 0.730 - ETA: 5s - loss: 1.1791 - acc: 0.731 - ETA: 3s - loss: 1.1792 - acc: 0.731 - ETA: 2s - loss: 1.1775 - acc: 0.731 - ETA: 0s - loss: 1.1762 - acc: 0.7312Epoch 00001: val_loss improved from 0.90548 to 0.73564, saving model to saved_models/weights.best.Xception_Resnet50_InceptionV3.hdf5\n",
      "6680/6680 [==============================] - 335s - loss: 1.1754 - acc: 0.7311 - val_loss: 0.7356 - val_acc: 0.8084\n",
      "Epoch 3/5\n"
     ]
    },
    {
     "name": "stdout",
     "output_type": "stream",
     "text": [
      "6270/6680 [===========================>..] - ETA: 186s - loss: 1.0239 - acc: 0.733 - ETA: 182s - loss: 0.9756 - acc: 0.766 - ETA: 176s - loss: 0.9668 - acc: 0.788 - ETA: 179s - loss: 1.0441 - acc: 0.775 - ETA: 181s - loss: 1.1165 - acc: 0.773 - ETA: 182s - loss: 1.1040 - acc: 0.761 - ETA: 184s - loss: 1.2268 - acc: 0.757 - ETA: 184s - loss: 1.1991 - acc: 0.762 - ETA: 183s - loss: 1.1345 - acc: 0.770 - ETA: 184s - loss: 1.1606 - acc: 0.770 - ETA: 184s - loss: 1.0928 - acc: 0.772 - ETA: 183s - loss: 1.0503 - acc: 0.775 - ETA: 183s - loss: 0.9925 - acc: 0.787 - ETA: 183s - loss: 1.0280 - acc: 0.785 - ETA: 181s - loss: 1.0338 - acc: 0.782 - ETA: 181s - loss: 1.0346 - acc: 0.781 - ETA: 180s - loss: 1.0603 - acc: 0.772 - ETA: 180s - loss: 1.0755 - acc: 0.770 - ETA: 180s - loss: 1.0882 - acc: 0.763 - ETA: 179s - loss: 1.0898 - acc: 0.763 - ETA: 178s - loss: 1.0881 - acc: 0.760 - ETA: 177s - loss: 1.1179 - acc: 0.754 - ETA: 177s - loss: 1.1143 - acc: 0.755 - ETA: 176s - loss: 1.1248 - acc: 0.752 - ETA: 176s - loss: 1.1055 - acc: 0.756 - ETA: 175s - loss: 1.1041 - acc: 0.756 - ETA: 174s - loss: 1.0767 - acc: 0.761 - ETA: 173s - loss: 1.0734 - acc: 0.765 - ETA: 173s - loss: 1.0887 - acc: 0.764 - ETA: 172s - loss: 1.0693 - acc: 0.767 - ETA: 171s - loss: 1.0788 - acc: 0.763 - ETA: 171s - loss: 1.0705 - acc: 0.764 - ETA: 169s - loss: 1.0574 - acc: 0.765 - ETA: 169s - loss: 1.0620 - acc: 0.764 - ETA: 168s - loss: 1.0448 - acc: 0.766 - ETA: 167s - loss: 1.0554 - acc: 0.763 - ETA: 167s - loss: 1.0610 - acc: 0.761 - ETA: 166s - loss: 1.0736 - acc: 0.760 - ETA: 165s - loss: 1.0785 - acc: 0.761 - ETA: 164s - loss: 1.0671 - acc: 0.764 - ETA: 163s - loss: 1.0505 - acc: 0.766 - ETA: 163s - loss: 1.0437 - acc: 0.769 - ETA: 162s - loss: 1.0455 - acc: 0.769 - ETA: 161s - loss: 1.0575 - acc: 0.768 - ETA: 160s - loss: 1.0557 - acc: 0.768 - ETA: 159s - loss: 1.0507 - acc: 0.769 - ETA: 158s - loss: 1.0448 - acc: 0.769 - ETA: 158s - loss: 1.0430 - acc: 0.768 - ETA: 157s - loss: 1.0420 - acc: 0.767 - ETA: 156s - loss: 1.0387 - acc: 0.767 - ETA: 155s - loss: 1.0320 - acc: 0.768 - ETA: 154s - loss: 1.0216 - acc: 0.769 - ETA: 154s - loss: 1.0284 - acc: 0.767 - ETA: 153s - loss: 1.0163 - acc: 0.770 - ETA: 152s - loss: 1.0266 - acc: 0.768 - ETA: 151s - loss: 1.0204 - acc: 0.769 - ETA: 151s - loss: 1.0295 - acc: 0.768 - ETA: 150s - loss: 1.0321 - acc: 0.769 - ETA: 149s - loss: 1.0349 - acc: 0.768 - ETA: 148s - loss: 1.0236 - acc: 0.769 - ETA: 147s - loss: 1.0223 - acc: 0.769 - ETA: 146s - loss: 1.0162 - acc: 0.770 - ETA: 146s - loss: 1.0108 - acc: 0.770 - ETA: 145s - loss: 1.0069 - acc: 0.770 - ETA: 144s - loss: 1.0104 - acc: 0.770 - ETA: 143s - loss: 1.0226 - acc: 0.769 - ETA: 142s - loss: 1.0271 - acc: 0.770 - ETA: 141s - loss: 1.0263 - acc: 0.770 - ETA: 141s - loss: 1.0340 - acc: 0.769 - ETA: 140s - loss: 1.0257 - acc: 0.770 - ETA: 139s - loss: 1.0297 - acc: 0.769 - ETA: 138s - loss: 1.0238 - acc: 0.769 - ETA: 137s - loss: 1.0196 - acc: 0.769 - ETA: 137s - loss: 1.0189 - acc: 0.770 - ETA: 136s - loss: 1.0176 - acc: 0.770 - ETA: 135s - loss: 1.0173 - acc: 0.769 - ETA: 134s - loss: 1.0174 - acc: 0.770 - ETA: 133s - loss: 1.0171 - acc: 0.770 - ETA: 132s - loss: 1.0077 - acc: 0.771 - ETA: 131s - loss: 1.0069 - acc: 0.772 - ETA: 131s - loss: 1.0009 - acc: 0.773 - ETA: 130s - loss: 1.0125 - acc: 0.771 - ETA: 129s - loss: 1.0143 - acc: 0.771 - ETA: 128s - loss: 1.0095 - acc: 0.773 - ETA: 127s - loss: 1.0037 - acc: 0.774 - ETA: 126s - loss: 0.9962 - acc: 0.776 - ETA: 126s - loss: 0.9938 - acc: 0.777 - ETA: 125s - loss: 0.9867 - acc: 0.779 - ETA: 124s - loss: 0.9860 - acc: 0.779 - ETA: 123s - loss: 0.9860 - acc: 0.779 - ETA: 122s - loss: 0.9927 - acc: 0.778 - ETA: 121s - loss: 0.9943 - acc: 0.776 - ETA: 121s - loss: 0.9922 - acc: 0.777 - ETA: 120s - loss: 0.9938 - acc: 0.777 - ETA: 119s - loss: 1.0014 - acc: 0.775 - ETA: 118s - loss: 1.0001 - acc: 0.775 - ETA: 117s - loss: 0.9970 - acc: 0.775 - ETA: 116s - loss: 0.9990 - acc: 0.774 - ETA: 115s - loss: 1.0000 - acc: 0.775 - ETA: 114s - loss: 0.9970 - acc: 0.776 - ETA: 114s - loss: 0.9928 - acc: 0.777 - ETA: 113s - loss: 0.9991 - acc: 0.777 - ETA: 112s - loss: 1.0023 - acc: 0.777 - ETA: 111s - loss: 0.9998 - acc: 0.777 - ETA: 110s - loss: 1.0004 - acc: 0.777 - ETA: 109s - loss: 0.9967 - acc: 0.778 - ETA: 108s - loss: 0.9962 - acc: 0.777 - ETA: 107s - loss: 0.9992 - acc: 0.776 - ETA: 107s - loss: 1.0029 - acc: 0.776 - ETA: 106s - loss: 0.9984 - acc: 0.777 - ETA: 105s - loss: 0.9975 - acc: 0.777 - ETA: 104s - loss: 1.0014 - acc: 0.777 - ETA: 103s - loss: 0.9970 - acc: 0.777 - ETA: 102s - loss: 0.9939 - acc: 0.778 - ETA: 101s - loss: 0.9874 - acc: 0.779 - ETA: 100s - loss: 0.9821 - acc: 0.779 - ETA: 99s - loss: 0.9784 - acc: 0.781 - ETA: 99s - loss: 0.9788 - acc: 0.78 - ETA: 98s - loss: 0.9768 - acc: 0.78 - ETA: 97s - loss: 0.9756 - acc: 0.78 - ETA: 96s - loss: 0.9701 - acc: 0.78 - ETA: 95s - loss: 0.9707 - acc: 0.78 - ETA: 94s - loss: 0.9724 - acc: 0.78 - ETA: 93s - loss: 0.9693 - acc: 0.78 - ETA: 92s - loss: 0.9720 - acc: 0.78 - ETA: 91s - loss: 0.9779 - acc: 0.78 - ETA: 91s - loss: 0.9721 - acc: 0.78 - ETA: 90s - loss: 0.9770 - acc: 0.78 - ETA: 89s - loss: 0.9766 - acc: 0.78 - ETA: 88s - loss: 0.9790 - acc: 0.78 - ETA: 87s - loss: 0.9744 - acc: 0.78 - ETA: 86s - loss: 0.9736 - acc: 0.78 - ETA: 85s - loss: 0.9721 - acc: 0.78 - ETA: 84s - loss: 0.9696 - acc: 0.78 - ETA: 83s - loss: 0.9680 - acc: 0.78 - ETA: 82s - loss: 0.9689 - acc: 0.78 - ETA: 81s - loss: 0.9720 - acc: 0.78 - ETA: 80s - loss: 0.9725 - acc: 0.78 - ETA: 80s - loss: 0.9721 - acc: 0.78 - ETA: 79s - loss: 0.9756 - acc: 0.78 - ETA: 78s - loss: 0.9771 - acc: 0.78 - ETA: 77s - loss: 0.9728 - acc: 0.78 - ETA: 76s - loss: 0.9694 - acc: 0.78 - ETA: 75s - loss: 0.9719 - acc: 0.78 - ETA: 74s - loss: 0.9722 - acc: 0.78 - ETA: 73s - loss: 0.9713 - acc: 0.78 - ETA: 72s - loss: 0.9707 - acc: 0.78 - ETA: 71s - loss: 0.9752 - acc: 0.78 - ETA: 70s - loss: 0.9799 - acc: 0.78 - ETA: 69s - loss: 0.9751 - acc: 0.78 - ETA: 68s - loss: 0.9747 - acc: 0.78 - ETA: 67s - loss: 0.9722 - acc: 0.78 - ETA: 67s - loss: 0.9773 - acc: 0.78 - ETA: 66s - loss: 0.9828 - acc: 0.78 - ETA: 65s - loss: 0.9799 - acc: 0.78 - ETA: 64s - loss: 0.9788 - acc: 0.78 - ETA: 63s - loss: 0.9781 - acc: 0.78 - ETA: 62s - loss: 0.9752 - acc: 0.78 - ETA: 61s - loss: 0.9752 - acc: 0.78 - ETA: 60s - loss: 0.9722 - acc: 0.78 - ETA: 59s - loss: 0.9752 - acc: 0.78 - ETA: 58s - loss: 0.9757 - acc: 0.78 - ETA: 57s - loss: 0.9765 - acc: 0.78 - ETA: 56s - loss: 0.9754 - acc: 0.78 - ETA: 55s - loss: 0.9745 - acc: 0.78 - ETA: 54s - loss: 0.9767 - acc: 0.78 - ETA: 53s - loss: 0.9775 - acc: 0.78 - ETA: 52s - loss: 0.9850 - acc: 0.78 - ETA: 51s - loss: 0.9845 - acc: 0.78 - ETA: 50s - loss: 0.9841 - acc: 0.78 - ETA: 50s - loss: 0.9875 - acc: 0.78 - ETA: 49s - loss: 0.9872 - acc: 0.78 - ETA: 48s - loss: 0.9831 - acc: 0.78 - ETA: 47s - loss: 0.9846 - acc: 0.78 - ETA: 46s - loss: 0.9821 - acc: 0.78 - ETA: 45s - loss: 0.9800 - acc: 0.78 - ETA: 44s - loss: 0.9781 - acc: 0.78 - ETA: 43s - loss: 0.9788 - acc: 0.78 - ETA: 42s - loss: 0.9785 - acc: 0.78 - ETA: 41s - loss: 0.9766 - acc: 0.78 - ETA: 40s - loss: 0.9775 - acc: 0.78 - ETA: 39s - loss: 0.9792 - acc: 0.78 - ETA: 38s - loss: 0.9799 - acc: 0.78 - ETA: 37s - loss: 0.9768 - acc: 0.78 - ETA: 36s - loss: 0.9755 - acc: 0.78 - ETA: 35s - loss: 0.9808 - acc: 0.78 - ETA: 34s - loss: 0.9810 - acc: 0.78 - ETA: 33s - loss: 0.9826 - acc: 0.78 - ETA: 32s - loss: 0.9789 - acc: 0.78 - ETA: 31s - loss: 0.9816 - acc: 0.78 - ETA: 30s - loss: 0.9845 - acc: 0.78 - ETA: 29s - loss: 0.9844 - acc: 0.78 - ETA: 28s - loss: 0.9842 - acc: 0.78 - ETA: 27s - loss: 0.9836 - acc: 0.78 - ETA: 26s - loss: 0.9847 - acc: 0.78 - ETA: 25s - loss: 0.9831 - acc: 0.78 - ETA: 24s - loss: 0.9827 - acc: 0.78 - ETA: 24s - loss: 0.9803 - acc: 0.78 - ETA: 23s - loss: 0.9805 - acc: 0.78 - ETA: 22s - loss: 0.9824 - acc: 0.78 - ETA: 21s - loss: 0.9802 - acc: 0.78 - ETA: 20s - loss: 0.9768 - acc: 0.78 - ETA: 19s - loss: 0.9782 - acc: 0.78 - ETA: 18s - loss: 0.9773 - acc: 0.78 - ETA: 17s - loss: 0.9767 - acc: 0.78 - ETA: 16s - loss: 0.9778 - acc: 0.78 - ETA: 15s - loss: 0.9753 - acc: 0.78 - ETA: 14s - loss: 0.9723 - acc: 0.78 - ETA: 13s - loss: 0.9720 - acc: 0.78186660/6680 [============================>.] - ETA: 12s - loss: 0.9685 - acc: 0.78 - ETA: 11s - loss: 0.9680 - acc: 0.78 - ETA: 10s - loss: 0.9681 - acc: 0.78 - ETA: 9s - loss: 0.9669 - acc: 0.7833 - ETA: 8s - loss: 0.9705 - acc: 0.782 - ETA: 7s - loss: 0.9747 - acc: 0.782 - ETA: 6s - loss: 0.9736 - acc: 0.782 - ETA: 5s - loss: 0.9736 - acc: 0.782 - ETA: 4s - loss: 0.9741 - acc: 0.782 - ETA: 3s - loss: 0.9762 - acc: 0.781 - ETA: 2s - loss: 0.9740 - acc: 0.782 - ETA: 1s - loss: 0.9710 - acc: 0.782 - ETA: 0s - loss: 0.9695 - acc: 0.7827Epoch 00002: val_loss did not improve\n",
      "6680/6680 [==============================] - 230s - loss: 0.9708 - acc: 0.7825 - val_loss: 0.8274 - val_acc: 0.8168\n",
      "Epoch 4/5\n"
     ]
    },
    {
     "name": "stdout",
     "output_type": "stream",
     "text": [
      "6270/6680 [===========================>..] - ETA: 198s - loss: 0.9567 - acc: 0.833 - ETA: 200s - loss: 1.3373 - acc: 0.733 - ETA: 200s - loss: 1.1018 - acc: 0.733 - ETA: 199s - loss: 0.9539 - acc: 0.766 - ETA: 199s - loss: 0.9217 - acc: 0.780 - ETA: 199s - loss: 0.9017 - acc: 0.777 - ETA: 198s - loss: 0.9632 - acc: 0.771 - ETA: 198s - loss: 0.9907 - acc: 0.758 - ETA: 197s - loss: 1.0211 - acc: 0.766 - ETA: 196s - loss: 0.9935 - acc: 0.770 - ETA: 195s - loss: 0.9961 - acc: 0.772 - ETA: 195s - loss: 0.9774 - acc: 0.769 - ETA: 194s - loss: 0.9635 - acc: 0.771 - ETA: 194s - loss: 0.9582 - acc: 0.771 - ETA: 193s - loss: 0.9302 - acc: 0.777 - ETA: 193s - loss: 0.9082 - acc: 0.785 - ETA: 192s - loss: 0.9029 - acc: 0.790 - ETA: 191s - loss: 0.8827 - acc: 0.796 - ETA: 190s - loss: 0.8480 - acc: 0.805 - ETA: 190s - loss: 0.8490 - acc: 0.805 - ETA: 190s - loss: 0.8520 - acc: 0.801 - ETA: 189s - loss: 0.8446 - acc: 0.806 - ETA: 188s - loss: 0.8580 - acc: 0.805 - ETA: 187s - loss: 0.8460 - acc: 0.806 - ETA: 185s - loss: 0.8272 - acc: 0.810 - ETA: 184s - loss: 0.8637 - acc: 0.803 - ETA: 183s - loss: 0.8853 - acc: 0.801 - ETA: 183s - loss: 0.8726 - acc: 0.806 - ETA: 183s - loss: 0.8807 - acc: 0.808 - ETA: 182s - loss: 0.8621 - acc: 0.812 - ETA: 181s - loss: 0.8737 - acc: 0.809 - ETA: 180s - loss: 0.8811 - acc: 0.806 - ETA: 179s - loss: 0.8905 - acc: 0.803 - ETA: 179s - loss: 0.8843 - acc: 0.804 - ETA: 180s - loss: 0.8680 - acc: 0.807 - ETA: 180s - loss: 0.8539 - acc: 0.808 - ETA: 179s - loss: 0.8539 - acc: 0.808 - ETA: 178s - loss: 0.8522 - acc: 0.808 - ETA: 177s - loss: 0.8407 - acc: 0.810 - ETA: 176s - loss: 0.8310 - acc: 0.812 - ETA: 175s - loss: 0.8353 - acc: 0.811 - ETA: 174s - loss: 0.8247 - acc: 0.812 - ETA: 172s - loss: 0.8202 - acc: 0.811 - ETA: 171s - loss: 0.8138 - acc: 0.812 - ETA: 170s - loss: 0.8161 - acc: 0.811 - ETA: 169s - loss: 0.8107 - acc: 0.812 - ETA: 168s - loss: 0.8176 - acc: 0.812 - ETA: 167s - loss: 0.8110 - acc: 0.812 - ETA: 167s - loss: 0.8121 - acc: 0.812 - ETA: 166s - loss: 0.8114 - acc: 0.812 - ETA: 165s - loss: 0.8086 - acc: 0.811 - ETA: 164s - loss: 0.8139 - acc: 0.811 - ETA: 163s - loss: 0.8108 - acc: 0.811 - ETA: 162s - loss: 0.8217 - acc: 0.811 - ETA: 161s - loss: 0.8336 - acc: 0.810 - ETA: 160s - loss: 0.8249 - acc: 0.812 - ETA: 159s - loss: 0.8184 - acc: 0.814 - ETA: 158s - loss: 0.8089 - acc: 0.814 - ETA: 157s - loss: 0.8013 - acc: 0.816 - ETA: 156s - loss: 0.8082 - acc: 0.814 - ETA: 155s - loss: 0.7974 - acc: 0.816 - ETA: 154s - loss: 0.7958 - acc: 0.816 - ETA: 153s - loss: 0.7978 - acc: 0.815 - ETA: 152s - loss: 0.7929 - acc: 0.815 - ETA: 151s - loss: 0.7892 - acc: 0.815 - ETA: 150s - loss: 0.7889 - acc: 0.816 - ETA: 149s - loss: 0.7902 - acc: 0.816 - ETA: 148s - loss: 0.7904 - acc: 0.817 - ETA: 147s - loss: 0.8020 - acc: 0.815 - ETA: 146s - loss: 0.8035 - acc: 0.813 - ETA: 145s - loss: 0.7985 - acc: 0.815 - ETA: 144s - loss: 0.7980 - acc: 0.814 - ETA: 143s - loss: 0.7930 - acc: 0.816 - ETA: 142s - loss: 0.7955 - acc: 0.815 - ETA: 141s - loss: 0.7978 - acc: 0.816 - ETA: 141s - loss: 0.7963 - acc: 0.816 - ETA: 140s - loss: 0.7997 - acc: 0.816 - ETA: 139s - loss: 0.8057 - acc: 0.815 - ETA: 138s - loss: 0.7972 - acc: 0.817 - ETA: 137s - loss: 0.7955 - acc: 0.817 - ETA: 136s - loss: 0.7952 - acc: 0.817 - ETA: 135s - loss: 0.7925 - acc: 0.817 - ETA: 134s - loss: 0.7888 - acc: 0.818 - ETA: 133s - loss: 0.7898 - acc: 0.818 - ETA: 132s - loss: 0.7948 - acc: 0.818 - ETA: 131s - loss: 0.7996 - acc: 0.816 - ETA: 130s - loss: 0.7947 - acc: 0.817 - ETA: 129s - loss: 0.7957 - acc: 0.817 - ETA: 129s - loss: 0.8033 - acc: 0.816 - ETA: 128s - loss: 0.8040 - acc: 0.815 - ETA: 127s - loss: 0.8034 - acc: 0.816 - ETA: 126s - loss: 0.7976 - acc: 0.817 - ETA: 125s - loss: 0.7901 - acc: 0.819 - ETA: 124s - loss: 0.7904 - acc: 0.818 - ETA: 123s - loss: 0.7899 - acc: 0.819 - ETA: 122s - loss: 0.7831 - acc: 0.820 - ETA: 121s - loss: 0.7846 - acc: 0.821 - ETA: 120s - loss: 0.7889 - acc: 0.821 - ETA: 119s - loss: 0.8052 - acc: 0.818 - ETA: 118s - loss: 0.8006 - acc: 0.819 - ETA: 117s - loss: 0.8053 - acc: 0.817 - ETA: 116s - loss: 0.8146 - acc: 0.817 - ETA: 115s - loss: 0.8174 - acc: 0.817 - ETA: 114s - loss: 0.8127 - acc: 0.818 - ETA: 113s - loss: 0.8137 - acc: 0.817 - ETA: 112s - loss: 0.8231 - acc: 0.815 - ETA: 111s - loss: 0.8185 - acc: 0.816 - ETA: 110s - loss: 0.8200 - acc: 0.816 - ETA: 109s - loss: 0.8240 - acc: 0.815 - ETA: 108s - loss: 0.8221 - acc: 0.815 - ETA: 107s - loss: 0.8223 - acc: 0.815 - ETA: 107s - loss: 0.8190 - acc: 0.815 - ETA: 106s - loss: 0.8165 - acc: 0.815 - ETA: 105s - loss: 0.8175 - acc: 0.815 - ETA: 104s - loss: 0.8164 - acc: 0.815 - ETA: 103s - loss: 0.8163 - acc: 0.816 - ETA: 102s - loss: 0.8146 - acc: 0.816 - ETA: 102s - loss: 0.8133 - acc: 0.817 - ETA: 101s - loss: 0.8175 - acc: 0.816 - ETA: 100s - loss: 0.8180 - acc: 0.816 - ETA: 99s - loss: 0.8210 - acc: 0.815 - ETA: 98s - loss: 0.8189 - acc: 0.81 - ETA: 97s - loss: 0.8211 - acc: 0.81 - ETA: 96s - loss: 0.8200 - acc: 0.81 - ETA: 95s - loss: 0.8213 - acc: 0.81 - ETA: 95s - loss: 0.8248 - acc: 0.81 - ETA: 94s - loss: 0.8297 - acc: 0.81 - ETA: 93s - loss: 0.8304 - acc: 0.81 - ETA: 92s - loss: 0.8375 - acc: 0.81 - ETA: 91s - loss: 0.8404 - acc: 0.81 - ETA: 90s - loss: 0.8371 - acc: 0.81 - ETA: 89s - loss: 0.8384 - acc: 0.81 - ETA: 88s - loss: 0.8356 - acc: 0.81 - ETA: 87s - loss: 0.8390 - acc: 0.81 - ETA: 86s - loss: 0.8379 - acc: 0.81 - ETA: 85s - loss: 0.8377 - acc: 0.81 - ETA: 84s - loss: 0.8370 - acc: 0.81 - ETA: 84s - loss: 0.8370 - acc: 0.81 - ETA: 83s - loss: 0.8353 - acc: 0.81 - ETA: 82s - loss: 0.8376 - acc: 0.81 - ETA: 81s - loss: 0.8342 - acc: 0.81 - ETA: 80s - loss: 0.8410 - acc: 0.81 - ETA: 79s - loss: 0.8362 - acc: 0.81 - ETA: 78s - loss: 0.8409 - acc: 0.81 - ETA: 77s - loss: 0.8376 - acc: 0.81 - ETA: 76s - loss: 0.8361 - acc: 0.81 - ETA: 75s - loss: 0.8323 - acc: 0.81 - ETA: 74s - loss: 0.8357 - acc: 0.81 - ETA: 73s - loss: 0.8345 - acc: 0.81 - ETA: 72s - loss: 0.8347 - acc: 0.81 - ETA: 71s - loss: 0.8323 - acc: 0.81 - ETA: 70s - loss: 0.8297 - acc: 0.81 - ETA: 69s - loss: 0.8281 - acc: 0.81 - ETA: 68s - loss: 0.8294 - acc: 0.81 - ETA: 67s - loss: 0.8311 - acc: 0.81 - ETA: 67s - loss: 0.8298 - acc: 0.81 - ETA: 66s - loss: 0.8273 - acc: 0.81 - ETA: 65s - loss: 0.8331 - acc: 0.81 - ETA: 64s - loss: 0.8303 - acc: 0.81 - ETA: 63s - loss: 0.8342 - acc: 0.81 - ETA: 62s - loss: 0.8370 - acc: 0.81 - ETA: 61s - loss: 0.8391 - acc: 0.81 - ETA: 60s - loss: 0.8375 - acc: 0.81 - ETA: 59s - loss: 0.8355 - acc: 0.81 - ETA: 58s - loss: 0.8362 - acc: 0.81 - ETA: 57s - loss: 0.8339 - acc: 0.81 - ETA: 56s - loss: 0.8372 - acc: 0.81 - ETA: 55s - loss: 0.8349 - acc: 0.81 - ETA: 54s - loss: 0.8333 - acc: 0.81 - ETA: 53s - loss: 0.8349 - acc: 0.81 - ETA: 52s - loss: 0.8359 - acc: 0.81 - ETA: 51s - loss: 0.8368 - acc: 0.81 - ETA: 50s - loss: 0.8368 - acc: 0.81 - ETA: 49s - loss: 0.8355 - acc: 0.81 - ETA: 48s - loss: 0.8374 - acc: 0.81 - ETA: 47s - loss: 0.8343 - acc: 0.81 - ETA: 46s - loss: 0.8349 - acc: 0.81 - ETA: 45s - loss: 0.8338 - acc: 0.81 - ETA: 44s - loss: 0.8373 - acc: 0.81 - ETA: 43s - loss: 0.8347 - acc: 0.81 - ETA: 42s - loss: 0.8339 - acc: 0.81 - ETA: 41s - loss: 0.8326 - acc: 0.81 - ETA: 40s - loss: 0.8330 - acc: 0.81 - ETA: 39s - loss: 0.8309 - acc: 0.81 - ETA: 38s - loss: 0.8298 - acc: 0.81 - ETA: 37s - loss: 0.8310 - acc: 0.81 - ETA: 36s - loss: 0.8349 - acc: 0.81 - ETA: 35s - loss: 0.8370 - acc: 0.81 - ETA: 34s - loss: 0.8360 - acc: 0.81 - ETA: 33s - loss: 0.8348 - acc: 0.81 - ETA: 32s - loss: 0.8353 - acc: 0.81 - ETA: 31s - loss: 0.8335 - acc: 0.81 - ETA: 30s - loss: 0.8333 - acc: 0.81 - ETA: 29s - loss: 0.8369 - acc: 0.81 - ETA: 28s - loss: 0.8352 - acc: 0.81 - ETA: 27s - loss: 0.8358 - acc: 0.81 - ETA: 26s - loss: 0.8348 - acc: 0.81 - ETA: 25s - loss: 0.8344 - acc: 0.81 - ETA: 24s - loss: 0.8334 - acc: 0.81 - ETA: 23s - loss: 0.8315 - acc: 0.81 - ETA: 22s - loss: 0.8327 - acc: 0.81 - ETA: 21s - loss: 0.8308 - acc: 0.81 - ETA: 20s - loss: 0.8335 - acc: 0.81 - ETA: 19s - loss: 0.8307 - acc: 0.81 - ETA: 18s - loss: 0.8319 - acc: 0.81 - ETA: 17s - loss: 0.8315 - acc: 0.81 - ETA: 16s - loss: 0.8303 - acc: 0.81 - ETA: 15s - loss: 0.8300 - acc: 0.81 - ETA: 14s - loss: 0.8327 - acc: 0.8171"
     ]
    },
    {
     "name": "stdout",
     "output_type": "stream",
     "text": [
      "6660/6680 [============================>.] - ETA: 13s - loss: 0.8328 - acc: 0.81 - ETA: 12s - loss: 0.8318 - acc: 0.81 - ETA: 11s - loss: 0.8298 - acc: 0.81 - ETA: 10s - loss: 0.8284 - acc: 0.81 - ETA: 9s - loss: 0.8295 - acc: 0.8171 - ETA: 7s - loss: 0.8286 - acc: 0.817 - ETA: 6s - loss: 0.8271 - acc: 0.817 - ETA: 5s - loss: 0.8255 - acc: 0.817 - ETA: 4s - loss: 0.8240 - acc: 0.817 - ETA: 3s - loss: 0.8243 - acc: 0.817 - ETA: 2s - loss: 0.8240 - acc: 0.817 - ETA: 1s - loss: 0.8231 - acc: 0.817 - ETA: 0s - loss: 0.8213 - acc: 0.8179Epoch 00003: val_loss improved from 0.73564 to 0.69103, saving model to saved_models/weights.best.Xception_Resnet50_InceptionV3.hdf5\n",
      "6680/6680 [==============================] - 250s - loss: 0.8208 - acc: 0.8180 - val_loss: 0.6910 - val_acc: 0.8551\n",
      "Epoch 5/5\n"
     ]
    },
    {
     "name": "stdout",
     "output_type": "stream",
     "text": [
      "6240/6680 [===========================>..] - ETA: 412s - loss: 0.5327 - acc: 0.933 - ETA: 322s - loss: 0.5988 - acc: 0.916 - ETA: 293s - loss: 0.5582 - acc: 0.922 - ETA: 281s - loss: 0.7661 - acc: 0.891 - ETA: 272s - loss: 0.7286 - acc: 0.886 - ETA: 265s - loss: 0.7238 - acc: 0.866 - ETA: 260s - loss: 0.7036 - acc: 0.842 - ETA: 257s - loss: 0.7269 - acc: 0.833 - ETA: 254s - loss: 0.6592 - acc: 0.848 - ETA: 252s - loss: 0.6676 - acc: 0.843 - ETA: 250s - loss: 0.6554 - acc: 0.842 - ETA: 247s - loss: 0.6885 - acc: 0.841 - ETA: 244s - loss: 0.6488 - acc: 0.851 - ETA: 243s - loss: 0.6159 - acc: 0.857 - ETA: 241s - loss: 0.6223 - acc: 0.853 - ETA: 240s - loss: 0.5923 - acc: 0.858 - ETA: 238s - loss: 0.5891 - acc: 0.860 - ETA: 237s - loss: 0.5850 - acc: 0.861 - ETA: 236s - loss: 0.5757 - acc: 0.861 - ETA: 235s - loss: 0.5968 - acc: 0.861 - ETA: 234s - loss: 0.5792 - acc: 0.865 - ETA: 232s - loss: 0.5932 - acc: 0.862 - ETA: 231s - loss: 0.6003 - acc: 0.860 - ETA: 229s - loss: 0.6446 - acc: 0.858 - ETA: 228s - loss: 0.6252 - acc: 0.860 - ETA: 227s - loss: 0.6146 - acc: 0.859 - ETA: 225s - loss: 0.6200 - acc: 0.853 - ETA: 224s - loss: 0.6183 - acc: 0.854 - ETA: 223s - loss: 0.6326 - acc: 0.851 - ETA: 222s - loss: 0.6390 - acc: 0.850 - ETA: 221s - loss: 0.6351 - acc: 0.852 - ETA: 220s - loss: 0.6623 - acc: 0.850 - ETA: 219s - loss: 0.6564 - acc: 0.850 - ETA: 217s - loss: 0.6569 - acc: 0.850 - ETA: 216s - loss: 0.6543 - acc: 0.849 - ETA: 215s - loss: 0.6461 - acc: 0.851 - ETA: 214s - loss: 0.6568 - acc: 0.850 - ETA: 213s - loss: 0.6518 - acc: 0.850 - ETA: 212s - loss: 0.6504 - acc: 0.849 - ETA: 210s - loss: 0.6547 - acc: 0.847 - ETA: 209s - loss: 0.6528 - acc: 0.846 - ETA: 208s - loss: 0.6495 - acc: 0.846 - ETA: 207s - loss: 0.6416 - acc: 0.848 - ETA: 206s - loss: 0.6333 - acc: 0.850 - ETA: 205s - loss: 0.6450 - acc: 0.846 - ETA: 203s - loss: 0.6446 - acc: 0.847 - ETA: 202s - loss: 0.6495 - acc: 0.847 - ETA: 201s - loss: 0.6611 - acc: 0.847 - ETA: 200s - loss: 0.6582 - acc: 0.848 - ETA: 199s - loss: 0.6671 - acc: 0.846 - ETA: 198s - loss: 0.6576 - acc: 0.847 - ETA: 196s - loss: 0.6636 - acc: 0.848 - ETA: 195s - loss: 0.6615 - acc: 0.845 - ETA: 194s - loss: 0.6561 - acc: 0.846 - ETA: 193s - loss: 0.6728 - acc: 0.844 - ETA: 192s - loss: 0.6707 - acc: 0.844 - ETA: 191s - loss: 0.6811 - acc: 0.843 - ETA: 190s - loss: 0.6872 - acc: 0.842 - ETA: 189s - loss: 0.6937 - acc: 0.842 - ETA: 188s - loss: 0.6958 - acc: 0.842 - ETA: 187s - loss: 0.7026 - acc: 0.840 - ETA: 186s - loss: 0.7128 - acc: 0.839 - ETA: 185s - loss: 0.7100 - acc: 0.840 - ETA: 184s - loss: 0.7053 - acc: 0.841 - ETA: 183s - loss: 0.7023 - acc: 0.842 - ETA: 182s - loss: 0.6970 - acc: 0.843 - ETA: 180s - loss: 0.6947 - acc: 0.843 - ETA: 179s - loss: 0.6999 - acc: 0.844 - ETA: 178s - loss: 0.6995 - acc: 0.844 - ETA: 176s - loss: 0.6952 - acc: 0.844 - ETA: 175s - loss: 0.6928 - acc: 0.845 - ETA: 174s - loss: 0.6944 - acc: 0.845 - ETA: 172s - loss: 0.6938 - acc: 0.845 - ETA: 171s - loss: 0.6954 - acc: 0.845 - ETA: 170s - loss: 0.6938 - acc: 0.845 - ETA: 168s - loss: 0.6875 - acc: 0.846 - ETA: 167s - loss: 0.6921 - acc: 0.845 - ETA: 166s - loss: 0.6911 - acc: 0.846 - ETA: 165s - loss: 0.6935 - acc: 0.845 - ETA: 163s - loss: 0.6904 - acc: 0.846 - ETA: 162s - loss: 0.6869 - acc: 0.846 - ETA: 161s - loss: 0.6874 - acc: 0.846 - ETA: 159s - loss: 0.6838 - acc: 0.846 - ETA: 158s - loss: 0.6798 - acc: 0.847 - ETA: 157s - loss: 0.6840 - acc: 0.846 - ETA: 156s - loss: 0.6825 - acc: 0.846 - ETA: 154s - loss: 0.6790 - acc: 0.847 - ETA: 153s - loss: 0.6857 - acc: 0.846 - ETA: 152s - loss: 0.6924 - acc: 0.844 - ETA: 151s - loss: 0.6945 - acc: 0.844 - ETA: 150s - loss: 0.6907 - acc: 0.845 - ETA: 148s - loss: 0.6945 - acc: 0.845 - ETA: 147s - loss: 0.6991 - acc: 0.845 - ETA: 146s - loss: 0.6967 - acc: 0.846 - ETA: 145s - loss: 0.6938 - acc: 0.846 - ETA: 144s - loss: 0.6960 - acc: 0.845 - ETA: 143s - loss: 0.6971 - acc: 0.845 - ETA: 141s - loss: 0.6962 - acc: 0.846 - ETA: 140s - loss: 0.7035 - acc: 0.845 - ETA: 139s - loss: 0.7022 - acc: 0.845 - ETA: 138s - loss: 0.7031 - acc: 0.845 - ETA: 137s - loss: 0.7021 - acc: 0.845 - ETA: 136s - loss: 0.7010 - acc: 0.845 - ETA: 135s - loss: 0.6984 - acc: 0.845 - ETA: 134s - loss: 0.6933 - acc: 0.846 - ETA: 133s - loss: 0.6996 - acc: 0.846 - ETA: 132s - loss: 0.6988 - acc: 0.845 - ETA: 131s - loss: 0.6964 - acc: 0.846 - ETA: 130s - loss: 0.7007 - acc: 0.845 - ETA: 129s - loss: 0.7010 - acc: 0.845 - ETA: 128s - loss: 0.7068 - acc: 0.844 - ETA: 127s - loss: 0.7064 - acc: 0.844 - ETA: 126s - loss: 0.7096 - acc: 0.843 - ETA: 125s - loss: 0.7144 - acc: 0.842 - ETA: 124s - loss: 0.7108 - acc: 0.842 - ETA: 122s - loss: 0.7103 - acc: 0.842 - ETA: 121s - loss: 0.7092 - acc: 0.843 - ETA: 120s - loss: 0.7076 - acc: 0.842 - ETA: 119s - loss: 0.7058 - acc: 0.842 - ETA: 118s - loss: 0.7028 - acc: 0.842 - ETA: 117s - loss: 0.6976 - acc: 0.843 - ETA: 115s - loss: 0.6977 - acc: 0.842 - ETA: 114s - loss: 0.7030 - acc: 0.842 - ETA: 113s - loss: 0.7039 - acc: 0.842 - ETA: 112s - loss: 0.7012 - acc: 0.842 - ETA: 111s - loss: 0.7003 - acc: 0.842 - ETA: 109s - loss: 0.7037 - acc: 0.841 - ETA: 108s - loss: 0.7028 - acc: 0.840 - ETA: 107s - loss: 0.7023 - acc: 0.841 - ETA: 106s - loss: 0.6986 - acc: 0.842 - ETA: 105s - loss: 0.6964 - acc: 0.842 - ETA: 104s - loss: 0.6941 - acc: 0.842 - ETA: 102s - loss: 0.6936 - acc: 0.843 - ETA: 101s - loss: 0.6904 - acc: 0.843 - ETA: 100s - loss: 0.6900 - acc: 0.843 - ETA: 99s - loss: 0.6927 - acc: 0.843 - ETA: 98s - loss: 0.6916 - acc: 0.84 - ETA: 96s - loss: 0.6889 - acc: 0.84 - ETA: 95s - loss: 0.6892 - acc: 0.84 - ETA: 94s - loss: 0.6868 - acc: 0.84 - ETA: 93s - loss: 0.6842 - acc: 0.84 - ETA: 92s - loss: 0.6846 - acc: 0.84 - ETA: 90s - loss: 0.6833 - acc: 0.84 - ETA: 89s - loss: 0.6810 - acc: 0.84 - ETA: 88s - loss: 0.6838 - acc: 0.84 - ETA: 87s - loss: 0.6835 - acc: 0.84 - ETA: 86s - loss: 0.6791 - acc: 0.84 - ETA: 85s - loss: 0.6777 - acc: 0.84 - ETA: 84s - loss: 0.6780 - acc: 0.84 - ETA: 82s - loss: 0.6874 - acc: 0.84 - ETA: 81s - loss: 0.6869 - acc: 0.84 - ETA: 80s - loss: 0.6896 - acc: 0.84 - ETA: 79s - loss: 0.6868 - acc: 0.84 - ETA: 78s - loss: 0.6843 - acc: 0.84 - ETA: 77s - loss: 0.6868 - acc: 0.84 - ETA: 76s - loss: 0.6837 - acc: 0.84 - ETA: 74s - loss: 0.6845 - acc: 0.84 - ETA: 73s - loss: 0.6840 - acc: 0.84 - ETA: 72s - loss: 0.6835 - acc: 0.84 - ETA: 71s - loss: 0.6837 - acc: 0.84 - ETA: 70s - loss: 0.6836 - acc: 0.84 - ETA: 69s - loss: 0.6824 - acc: 0.84 - ETA: 68s - loss: 0.6846 - acc: 0.84 - ETA: 67s - loss: 0.6859 - acc: 0.84 - ETA: 65s - loss: 0.6867 - acc: 0.84 - ETA: 64s - loss: 0.6890 - acc: 0.84 - ETA: 63s - loss: 0.6907 - acc: 0.84 - ETA: 62s - loss: 0.6895 - acc: 0.84 - ETA: 61s - loss: 0.6911 - acc: 0.84 - ETA: 60s - loss: 0.6893 - acc: 0.84 - ETA: 58s - loss: 0.6916 - acc: 0.84 - ETA: 57s - loss: 0.6935 - acc: 0.84 - ETA: 56s - loss: 0.6936 - acc: 0.84 - ETA: 55s - loss: 0.6979 - acc: 0.84 - ETA: 54s - loss: 0.6995 - acc: 0.84 - ETA: 53s - loss: 0.7000 - acc: 0.84 - ETA: 52s - loss: 0.6986 - acc: 0.84 - ETA: 50s - loss: 0.6976 - acc: 0.84 - ETA: 49s - loss: 0.7006 - acc: 0.84 - ETA: 48s - loss: 0.7038 - acc: 0.84 - ETA: 47s - loss: 0.7022 - acc: 0.84 - ETA: 46s - loss: 0.7017 - acc: 0.84 - ETA: 45s - loss: 0.6991 - acc: 0.84 - ETA: 43s - loss: 0.7006 - acc: 0.84 - ETA: 42s - loss: 0.6999 - acc: 0.84 - ETA: 41s - loss: 0.6997 - acc: 0.84 - ETA: 40s - loss: 0.7007 - acc: 0.84 - ETA: 39s - loss: 0.7004 - acc: 0.84 - ETA: 38s - loss: 0.6982 - acc: 0.84 - ETA: 36s - loss: 0.7004 - acc: 0.84 - ETA: 35s - loss: 0.6977 - acc: 0.84 - ETA: 34s - loss: 0.7009 - acc: 0.84 - ETA: 33s - loss: 0.7002 - acc: 0.84 - ETA: 32s - loss: 0.6976 - acc: 0.84 - ETA: 31s - loss: 0.6991 - acc: 0.84 - ETA: 30s - loss: 0.6995 - acc: 0.84 - ETA: 29s - loss: 0.7006 - acc: 0.84 - ETA: 27s - loss: 0.7005 - acc: 0.84 - ETA: 26s - loss: 0.7010 - acc: 0.84 - ETA: 25s - loss: 0.6999 - acc: 0.84 - ETA: 24s - loss: 0.7012 - acc: 0.84 - ETA: 23s - loss: 0.7018 - acc: 0.84 - ETA: 22s - loss: 0.6992 - acc: 0.84 - ETA: 21s - loss: 0.6999 - acc: 0.84 - ETA: 19s - loss: 0.6980 - acc: 0.84 - ETA: 18s - loss: 0.6975 - acc: 0.84 - ETA: 17s - loss: 0.6965 - acc: 0.84 - ETA: 16s - loss: 0.6954 - acc: 0.84466660/6680 [============================>.] - ETA: 15s - loss: 0.6924 - acc: 0.84 - ETA: 14s - loss: 0.6928 - acc: 0.84 - ETA: 13s - loss: 0.6913 - acc: 0.84 - ETA: 12s - loss: 0.6925 - acc: 0.84 - ETA: 10s - loss: 0.6917 - acc: 0.84 - ETA: 9s - loss: 0.6949 - acc: 0.8445 - ETA: 8s - loss: 0.6940 - acc: 0.844 - ETA: 7s - loss: 0.6947 - acc: 0.844 - ETA: 6s - loss: 0.6952 - acc: 0.844 - ETA: 5s - loss: 0.6953 - acc: 0.843 - ETA: 4s - loss: 0.6940 - acc: 0.844 - ETA: 3s - loss: 0.6981 - acc: 0.843 - ETA: 1s - loss: 0.6986 - acc: 0.843 - ETA: 0s - loss: 0.6985 - acc: 0.8431Epoch 00004: val_loss did not improve\n",
      "6680/6680 [==============================] - 268s - loss: 0.6979 - acc: 0.8433 - val_loss: 0.7270 - val_acc: 0.8491\n"
     ]
    },
    {
     "data": {
      "text/plain": [
       "<keras.callbacks.History at 0x1c02473eeb8>"
      ]
     },
     "execution_count": 105,
     "metadata": {},
     "output_type": "execute_result"
    }
   ],
   "source": [
    "### TODO: Train the model.\n",
    "epochs = 5\n",
    "batch_size = 30\n",
    "model_file = 'saved_models/weights.best.{}.hdf5'.format(\"_\".join([\"Xception\", \"Resnet50\", \"InceptionV3\"]))\n",
    "checkpointer = ModelCheckpoint(filepath=model_file, \n",
    "                                   verbose=1, save_best_only=True)\n",
    "merged_model.fit([xception_feature_set[0], resnet_feature_set[0], inception_feature_set[0]], train_targets, \n",
    "              validation_data=([xception_feature_set[1], resnet_feature_set[1], inception_feature_set[1]], valid_targets),\n",
    "              epochs=epochs, batch_size=batch_size, callbacks=[checkpointer], verbose=1)"
   ]
  },
  {
   "cell_type": "markdown",
   "metadata": {
    "hideCode": false,
    "hidePrompt": false
   },
   "source": [
    "### (IMPLEMENTATION) Load the Model with the Best Validation Loss"
   ]
  },
  {
   "cell_type": "code",
   "execution_count": 106,
   "metadata": {
    "collapsed": true,
    "hideCode": false,
    "hidePrompt": false
   },
   "outputs": [],
   "source": [
    "### TODO: Load the model weights with the best validation loss.\n",
    "merged_model.load_weights(model_file)"
   ]
  },
  {
   "cell_type": "markdown",
   "metadata": {
    "hideCode": false,
    "hidePrompt": false
   },
   "source": [
    "### (IMPLEMENTATION) Test the Model\n",
    "\n",
    "Try out your model on the test dataset of dog images. Ensure that your test accuracy is greater than 60%."
   ]
  },
  {
   "cell_type": "code",
   "execution_count": 107,
   "metadata": {
    "hideCode": false,
    "hidePrompt": false
   },
   "outputs": [
    {
     "name": "stdout",
     "output_type": "stream",
     "text": [
      "test accuracy : 84.21052631578948 %\n"
     ]
    }
   ],
   "source": [
    "### TODO: Calculate classification accuracy on the test dataset.\n",
    "# get index of predicted dog breed for each image in test set\n",
    "test_input = zip(xception_feature_set[2], resnet_feature_set[2], inception_feature_set[2]) \n",
    "to_test_feature = lambda features: [np.expand_dims(feature, axis=0) for feature in features]\n",
    "merged_predictions = [np.argmax(merged_model.predict(to_test_feature(features))) for features in test_input]\n",
    "\n",
    "# report test accuracy\n",
    "test_accuracy = 100*np.sum(np.array(merged_predictions)==np.argmax(test_targets, axis=1))/len(merged_predictions)\n",
    "print(\"test accuracy : {} %\".format(test_accuracy))    "
   ]
  },
  {
   "cell_type": "code",
   "execution_count": 29,
   "metadata": {
    "collapsed": true
   },
   "outputs": [],
   "source": [
    "l2_var = [0.01, 0.001, 0.0001, 0.00001]"
   ]
  },
  {
   "cell_type": "code",
   "execution_count": 30,
   "metadata": {
    "collapsed": true
   },
   "outputs": [],
   "source": [
    "dr_var = [0.8, 0.5, 0.3, 0.1, 0.01]"
   ]
  },
  {
   "cell_type": "code",
   "execution_count": 31,
   "metadata": {
    "collapsed": true
   },
   "outputs": [],
   "source": [
    "ker_var = [4096, 2048, 1024, 512, 256]"
   ]
  },
  {
   "cell_type": "code",
   "execution_count": 34,
   "metadata": {
    "collapsed": true
   },
   "outputs": [],
   "source": [
    "var_prouct = list(itertools.product(ker_var, l2_var, dr_var, ker_var, l2_var, dr_var))"
   ]
  },
  {
   "cell_type": "code",
   "execution_count": 35,
   "metadata": {
    "collapsed": true
   },
   "outputs": [],
   "source": [
    "rand_ver_product = [var_prouct[np.random.randint(len(var_prouct))] for _ in range(10)]"
   ]
  },
  {
   "cell_type": "code",
   "execution_count": 36,
   "metadata": {},
   "outputs": [
    {
     "name": "stdout",
     "output_type": "stream",
     "text": [
      "[(1024, 1e-05, 0.8, 1024, 0.01, 0.1), (1024, 1e-05, 0.1, 2048, 0.01, 0.1), (2048, 0.01, 0.01, 1024, 1e-05, 0.3), (2048, 0.0001, 0.8, 1024, 1e-05, 0.5), (1024, 0.001, 0.8, 2048, 0.01, 0.5), (256, 0.0001, 0.1, 512, 0.0001, 0.3), (256, 1e-05, 0.5, 4096, 0.01, 0.01), (256, 0.0001, 0.3, 2048, 0.001, 0.8), (1024, 0.01, 0.5, 1024, 0.001, 0.01), (512, 0.01, 0.3, 1024, 0.01, 0.5)]\n"
     ]
    }
   ],
   "source": [
    "print(rand_ver_product)"
   ]
  },
  {
   "cell_type": "code",
   "execution_count": 40,
   "metadata": {},
   "outputs": [
    {
     "name": "stdout",
     "output_type": "stream",
     "text": [
      "==========models with ['Resnet50', 'InceptionV3', 'Xception'] fileters1 1024 l2 1e-05 Dropout1 0.8 \n",
      " filters2 1024 l2 0.01 Dropout2 0.1\n",
      "____________________________________________________________________________________________________\n",
      "Layer (type)                     Output Shape          Param #     Connected to                     \n",
      "====================================================================================================\n",
      "input_49 (InputLayer)            (None, 1, 1, 2048)    0                                            \n",
      "____________________________________________________________________________________________________\n",
      "input_50 (InputLayer)            (None, 5, 5, 2048)    0                                            \n",
      "____________________________________________________________________________________________________\n",
      "input_51 (InputLayer)            (None, 7, 7, 2048)    0                                            \n",
      "____________________________________________________________________________________________________\n",
      "global_average_pooling2d_51 (Glo (None, 2048)          0           input_49[0][0]                   \n",
      "____________________________________________________________________________________________________\n",
      "global_average_pooling2d_52 (Glo (None, 2048)          0           input_50[0][0]                   \n",
      "____________________________________________________________________________________________________\n",
      "global_average_pooling2d_53 (Glo (None, 2048)          0           input_51[0][0]                   \n",
      "____________________________________________________________________________________________________\n",
      "concatenate_18 (Concatenate)     (None, 6144)          0           global_average_pooling2d_51[0][0]\n",
      "                                                                   global_average_pooling2d_52[0][0]\n",
      "                                                                   global_average_pooling2d_53[0][0]\n",
      "____________________________________________________________________________________________________\n",
      "dense_48 (Dense)                 (None, 1024)          6292480     concatenate_18[0][0]             \n",
      "____________________________________________________________________________________________________\n",
      "activation_30 (Activation)       (None, 1024)          0           dense_48[0][0]                   \n",
      "____________________________________________________________________________________________________\n",
      "dropout_31 (Dropout)             (None, 1024)          0           activation_30[0][0]              \n",
      "____________________________________________________________________________________________________\n",
      "dense_49 (Dense)                 (None, 133)           136325      dropout_31[0][0]                 \n",
      "====================================================================================================\n",
      "Total params: 6,428,805\n",
      "Trainable params: 6,428,805\n",
      "Non-trainable params: 0\n",
      "____________________________________________________________________________________________________\n",
      "Train on 6680 samples, validate on 835 samples\n",
      "Epoch 1/15\n",
      "6630/6680 [============================>.] - ETA: 0s - loss: 7.3577 - acc: 0.1716Epoch 00000: val_loss improved from inf to 1.74129, saving model to saved_models/weights.best.Resnet50_InceptionV3_Xception.hdf5\n",
      "6680/6680 [==============================] - 7s - loss: 7.3330 - acc: 0.1722 - val_loss: 1.7413 - val_acc: 0.5605\n",
      "Epoch 2/15\n",
      "6630/6680 [============================>.] - ETA: 0s - loss: 2.5635 - acc: 0.4477Epoch 00001: val_loss improved from 1.74129 to 0.77915, saving model to saved_models/weights.best.Resnet50_InceptionV3_Xception.hdf5\n",
      "6680/6680 [==============================] - 7s - loss: 2.5583 - acc: 0.4488 - val_loss: 0.7792 - val_acc: 0.7808\n",
      "Epoch 3/15\n",
      "6630/6680 [============================>.] - ETA: 0s - loss: 1.9991 - acc: 0.5548Epoch 00002: val_loss improved from 0.77915 to 0.71690, saving model to saved_models/weights.best.Resnet50_InceptionV3_Xception.hdf5\n",
      "6680/6680 [==============================] - 7s - loss: 2.0009 - acc: 0.5543 - val_loss: 0.7169 - val_acc: 0.7749\n",
      "Epoch 4/15\n",
      "6630/6680 [============================>.] - ETA: 0s - loss: 1.7910 - acc: 0.5938Epoch 00003: val_loss improved from 0.71690 to 0.58400, saving model to saved_models/weights.best.Resnet50_InceptionV3_Xception.hdf5\n",
      "6680/6680 [==============================] - 7s - loss: 1.7877 - acc: 0.5942 - val_loss: 0.5840 - val_acc: 0.8251\n",
      "Epoch 5/15\n",
      "6630/6680 [============================>.] - ETA: 0s - loss: 1.6430 - acc: 0.6371Epoch 00004: val_loss did not improve\n",
      "6680/6680 [==============================] - 6s - loss: 1.6427 - acc: 0.6364 - val_loss: 0.5879 - val_acc: 0.8323\n",
      "Epoch 6/15\n",
      "6630/6680 [============================>.] - ETA: 0s - loss: 1.5126 - acc: 0.6597Epoch 00005: val_loss improved from 0.58400 to 0.56279, saving model to saved_models/weights.best.Resnet50_InceptionV3_Xception.hdf5\n",
      "6680/6680 [==============================] - 7s - loss: 1.5132 - acc: 0.6593 - val_loss: 0.5628 - val_acc: 0.8467\n",
      "Epoch 7/15\n",
      "6630/6680 [============================>.] - ETA: 0s - loss: 1.5124 - acc: 0.6680Epoch 00006: val_loss did not improve\n",
      "6680/6680 [==============================] - 6s - loss: 1.5153 - acc: 0.6678 - val_loss: 0.5753 - val_acc: 0.8515\n",
      "Epoch 8/15\n",
      "6630/6680 [============================>.] - ETA: 0s - loss: 1.4658 - acc: 0.6843Epoch 00007: val_loss improved from 0.56279 to 0.54858, saving model to saved_models/weights.best.Resnet50_InceptionV3_Xception.hdf5\n",
      "6680/6680 [==============================] - 7s - loss: 1.4686 - acc: 0.6835 - val_loss: 0.5486 - val_acc: 0.8539\n",
      "Epoch 9/15\n",
      "6630/6680 [============================>.] - ETA: 0s - loss: 1.4191 - acc: 0.6991Epoch 00008: val_loss improved from 0.54858 to 0.51689, saving model to saved_models/weights.best.Resnet50_InceptionV3_Xception.hdf5\n",
      "6680/6680 [==============================] - 7s - loss: 1.4231 - acc: 0.6985 - val_loss: 0.5169 - val_acc: 0.8479\n",
      "Epoch 10/15\n",
      "6630/6680 [============================>.] - ETA: 0s - loss: 1.4131 - acc: 0.6941Epoch 00009: val_loss did not improve\n",
      "6680/6680 [==============================] - 6s - loss: 1.4137 - acc: 0.6942 - val_loss: 0.5463 - val_acc: 0.8611\n",
      "Epoch 11/15\n",
      "6630/6680 [============================>.] - ETA: 0s - loss: 1.4041 - acc: 0.7074Epoch 00010: val_loss did not improve\n",
      "6680/6680 [==============================] - 6s - loss: 1.4083 - acc: 0.7070 - val_loss: 0.5749 - val_acc: 0.8575\n",
      "Epoch 12/15\n",
      "6630/6680 [============================>.] - ETA: 0s - loss: 1.3958 - acc: 0.7098Epoch 00011: val_loss did not improve\n",
      "6680/6680 [==============================] - 6s - loss: 1.3985 - acc: 0.7091 - val_loss: 0.6152 - val_acc: 0.8575\n",
      "Epoch 13/15\n",
      "6630/6680 [============================>.] - ETA: 0s - loss: 1.3719 - acc: 0.7186Epoch 00012: val_loss did not improve\n",
      "6680/6680 [==============================] - 6s - loss: 1.3678 - acc: 0.7189 - val_loss: 0.5321 - val_acc: 0.8743\n",
      "Epoch 14/15\n",
      "6630/6680 [============================>.] - ETA: 0s - loss: 1.2932 - acc: 0.7296Epoch 00013: val_loss did not improve\n",
      "6680/6680 [==============================] - 6s - loss: 1.2929 - acc: 0.7292 - val_loss: 0.5870 - val_acc: 0.8623\n",
      "Epoch 15/15\n",
      "6630/6680 [============================>.] - ETA: 0s - loss: 1.3335 - acc: 0.7264Epoch 00014: val_loss did not improve\n",
      "6680/6680 [==============================] - 6s - loss: 1.3326 - acc: 0.7269 - val_loss: 0.6241 - val_acc: 0.8635\n",
      "==========models with ['Resnet50', 'InceptionV3', 'Xception'] fileters1 1024 l2 1e-05 Dropout1 0.1 \n",
      " filters2 2048 l2 0.01 Dropout2 0.1\n",
      "____________________________________________________________________________________________________\n",
      "Layer (type)                     Output Shape          Param #     Connected to                     \n",
      "====================================================================================================\n",
      "input_52 (InputLayer)            (None, 1, 1, 2048)    0                                            \n",
      "____________________________________________________________________________________________________\n",
      "input_53 (InputLayer)            (None, 5, 5, 2048)    0                                            \n",
      "____________________________________________________________________________________________________\n",
      "input_54 (InputLayer)            (None, 7, 7, 2048)    0                                            \n",
      "____________________________________________________________________________________________________\n",
      "global_average_pooling2d_54 (Glo (None, 2048)          0           input_52[0][0]                   \n",
      "____________________________________________________________________________________________________\n",
      "global_average_pooling2d_55 (Glo (None, 2048)          0           input_53[0][0]                   \n",
      "____________________________________________________________________________________________________\n",
      "global_average_pooling2d_56 (Glo (None, 2048)          0           input_54[0][0]                   \n",
      "____________________________________________________________________________________________________\n",
      "concatenate_19 (Concatenate)     (None, 6144)          0           global_average_pooling2d_54[0][0]\n",
      "                                                                   global_average_pooling2d_55[0][0]\n",
      "                                                                   global_average_pooling2d_56[0][0]\n",
      "____________________________________________________________________________________________________\n",
      "dense_50 (Dense)                 (None, 1024)          6292480     concatenate_19[0][0]             \n",
      "____________________________________________________________________________________________________\n",
      "activation_31 (Activation)       (None, 1024)          0           dense_50[0][0]                   \n",
      "____________________________________________________________________________________________________\n",
      "dropout_32 (Dropout)             (None, 1024)          0           activation_31[0][0]              \n",
      "____________________________________________________________________________________________________\n",
      "dense_51 (Dense)                 (None, 133)           136325      dropout_32[0][0]                 \n",
      "====================================================================================================\n",
      "Total params: 6,428,805\n",
      "Trainable params: 6,428,805\n",
      "Non-trainable params: 0\n",
      "____________________________________________________________________________________________________\n"
     ]
    },
    {
     "name": "stdout",
     "output_type": "stream",
     "text": [
      "Train on 6680 samples, validate on 835 samples\n",
      "Epoch 1/15\n",
      "6630/6680 [============================>.] - ETA: 0s - loss: 3.9148 - acc: 0.5317Epoch 00000: val_loss improved from inf to 1.65565, saving model to saved_models/weights.best.Resnet50_InceptionV3_Xception.hdf5\n",
      "6680/6680 [==============================] - 7s - loss: 3.8970 - acc: 0.5328 - val_loss: 1.6557 - val_acc: 0.6419\n",
      "Epoch 2/15\n",
      "6630/6680 [============================>.] - ETA: 0s - loss: 0.8370 - acc: 0.7956Epoch 00001: val_loss improved from 1.65565 to 1.01342, saving model to saved_models/weights.best.Resnet50_InceptionV3_Xception.hdf5\n",
      "6680/6680 [==============================] - 7s - loss: 0.8359 - acc: 0.7958 - val_loss: 1.0134 - val_acc: 0.7725\n",
      "Epoch 3/15\n",
      "6630/6680 [============================>.] - ETA: 0s - loss: 0.5795 - acc: 0.8637Epoch 00002: val_loss improved from 1.01342 to 0.93692, saving model to saved_models/weights.best.Resnet50_InceptionV3_Xception.hdf5\n",
      "6680/6680 [==============================] - 7s - loss: 0.5774 - acc: 0.8642 - val_loss: 0.9369 - val_acc: 0.8120\n",
      "Epoch 4/15\n",
      "6630/6680 [============================>.] - ETA: 0s - loss: 0.4595 - acc: 0.8897Epoch 00003: val_loss improved from 0.93692 to 0.84680, saving model to saved_models/weights.best.Resnet50_InceptionV3_Xception.hdf5\n",
      "6680/6680 [==============================] - 7s - loss: 0.4576 - acc: 0.8898 - val_loss: 0.8468 - val_acc: 0.8419\n",
      "Epoch 5/15\n",
      "6630/6680 [============================>.] - ETA: 0s - loss: 0.3596 - acc: 0.9155Epoch 00004: val_loss did not improve\n",
      "6680/6680 [==============================] - 6s - loss: 0.3586 - acc: 0.9157 - val_loss: 0.9428 - val_acc: 0.8491\n",
      "Epoch 6/15\n",
      "6630/6680 [============================>.] - ETA: 0s - loss: 0.2877 - acc: 0.9333Epoch 00005: val_loss did not improve\n",
      "6680/6680 [==============================] - 6s - loss: 0.2875 - acc: 0.9335 - val_loss: 0.9826 - val_acc: 0.8383\n",
      "Epoch 7/15\n",
      "6630/6680 [============================>.] - ETA: 0s - loss: 0.2619 - acc: 0.9425Epoch 00006: val_loss did not improve\n",
      "6680/6680 [==============================] - 6s - loss: 0.2624 - acc: 0.9424 - val_loss: 1.0347 - val_acc: 0.8443\n",
      "Epoch 8/15\n",
      "6630/6680 [============================>.] - ETA: 0s - loss: 0.2403 - acc: 0.9471Epoch 00007: val_loss did not improve\n",
      "6680/6680 [==============================] - 6s - loss: 0.2395 - acc: 0.9472 - val_loss: 0.9884 - val_acc: 0.8527\n",
      "Epoch 9/15\n",
      "6630/6680 [============================>.] - ETA: 0s - loss: 0.1990 - acc: 0.9585Epoch 00008: val_loss did not improve\n",
      "6680/6680 [==============================] - 6s - loss: 0.1984 - acc: 0.9585 - val_loss: 1.0780 - val_acc: 0.8527\n",
      "Epoch 10/15\n",
      "6630/6680 [============================>.] - ETA: 0s - loss: 0.2046 - acc: 0.9611Epoch 00009: val_loss did not improve\n",
      "6680/6680 [==============================] - 6s - loss: 0.2046 - acc: 0.9612 - val_loss: 1.1641 - val_acc: 0.8443\n",
      "Epoch 11/15\n",
      "6630/6680 [============================>.] - ETA: 0s - loss: 0.1762 - acc: 0.9635Epoch 00010: val_loss did not improve\n",
      "6680/6680 [==============================] - 6s - loss: 0.1755 - acc: 0.9635 - val_loss: 1.2208 - val_acc: 0.8503\n",
      "Epoch 12/15\n",
      "6630/6680 [============================>.] - ETA: 0s - loss: 0.1642 - acc: 0.9683Epoch 00011: val_loss did not improve\n",
      "6680/6680 [==============================] - 6s - loss: 0.1642 - acc: 0.9681 - val_loss: 1.1722 - val_acc: 0.8491\n",
      "Epoch 13/15\n",
      "6630/6680 [============================>.] - ETA: 0s - loss: 0.1745 - acc: 0.9659Epoch 00012: val_loss did not improve\n",
      "6680/6680 [==============================] - 6s - loss: 0.1750 - acc: 0.9657 - val_loss: 1.2688 - val_acc: 0.8323\n",
      "Epoch 14/15\n",
      "6630/6680 [============================>.] - ETA: 0s - loss: 0.1857 - acc: 0.9665Epoch 00013: val_loss did not improve\n",
      "6680/6680 [==============================] - 6s - loss: 0.1852 - acc: 0.9665 - val_loss: 1.1957 - val_acc: 0.8419\n",
      "Epoch 15/15\n",
      "6630/6680 [============================>.] - ETA: 0s - loss: 0.1424 - acc: 0.9733Epoch 00014: val_loss did not improve\n",
      "6680/6680 [==============================] - 6s - loss: 0.1435 - acc: 0.9729 - val_loss: 1.1655 - val_acc: 0.8395\n",
      "==========models with ['Resnet50', 'InceptionV3', 'Xception'] fileters1 2048 l2 0.01 Dropout1 0.01 \n",
      " filters2 1024 l2 1e-05 Dropout2 0.3\n",
      "____________________________________________________________________________________________________\n",
      "Layer (type)                     Output Shape          Param #     Connected to                     \n",
      "====================================================================================================\n",
      "input_55 (InputLayer)            (None, 1, 1, 2048)    0                                            \n",
      "____________________________________________________________________________________________________\n",
      "input_56 (InputLayer)            (None, 5, 5, 2048)    0                                            \n",
      "____________________________________________________________________________________________________\n",
      "input_57 (InputLayer)            (None, 7, 7, 2048)    0                                            \n",
      "____________________________________________________________________________________________________\n",
      "global_average_pooling2d_57 (Glo (None, 2048)          0           input_55[0][0]                   \n",
      "____________________________________________________________________________________________________\n",
      "global_average_pooling2d_58 (Glo (None, 2048)          0           input_56[0][0]                   \n",
      "____________________________________________________________________________________________________\n",
      "global_average_pooling2d_59 (Glo (None, 2048)          0           input_57[0][0]                   \n",
      "____________________________________________________________________________________________________\n",
      "concatenate_20 (Concatenate)     (None, 6144)          0           global_average_pooling2d_57[0][0]\n",
      "                                                                   global_average_pooling2d_58[0][0]\n",
      "                                                                   global_average_pooling2d_59[0][0]\n",
      "____________________________________________________________________________________________________\n",
      "dense_52 (Dense)                 (None, 2048)          12584960    concatenate_20[0][0]             \n",
      "____________________________________________________________________________________________________\n",
      "activation_32 (Activation)       (None, 2048)          0           dense_52[0][0]                   \n",
      "____________________________________________________________________________________________________\n",
      "dropout_33 (Dropout)             (None, 2048)          0           activation_32[0][0]              \n",
      "____________________________________________________________________________________________________\n",
      "dense_53 (Dense)                 (None, 133)           272517      dropout_33[0][0]                 \n",
      "====================================================================================================\n",
      "Total params: 12,857,477\n",
      "Trainable params: 12,857,477\n",
      "Non-trainable params: 0\n",
      "____________________________________________________________________________________________________\n",
      "Train on 6680 samples, validate on 835 samples\n",
      "Epoch 1/15\n",
      "6630/6680 [============================>.] - ETA: 0s - loss: 10.4318 - acc: 0.3190Epoch 00000: val_loss improved from inf to 4.43211, saving model to saved_models/weights.best.Resnet50_InceptionV3_Xception.hdf5\n",
      "6680/6680 [==============================] - 9s - loss: 10.3925 - acc: 0.3204 - val_loss: 4.4321 - val_acc: 0.6335\n",
      "Epoch 2/15\n",
      "6630/6680 [============================>.] - ETA: 0s - loss: 3.9697 - acc: 0.6024Epoch 00001: val_loss improved from 4.43211 to 3.86219, saving model to saved_models/weights.best.Resnet50_InceptionV3_Xception.hdf5\n",
      "6680/6680 [==============================] - 8s - loss: 3.9710 - acc: 0.6024 - val_loss: 3.8622 - val_acc: 0.5952\n",
      "Epoch 3/15\n",
      "6630/6680 [============================>.] - ETA: 0s - loss: 3.4520 - acc: 0.6389Epoch 00002: val_loss did not improve\n",
      "6680/6680 [==============================] - 7s - loss: 3.4491 - acc: 0.6394 - val_loss: 4.1148 - val_acc: 0.5725\n",
      "Epoch 4/15\n",
      "6630/6680 [============================>.] - ETA: 0s - loss: 3.1445 - acc: 0.6665Epoch 00003: val_loss improved from 3.86219 to 3.39953, saving model to saved_models/weights.best.Resnet50_InceptionV3_Xception.hdf5\n"
     ]
    },
    {
     "name": "stdout",
     "output_type": "stream",
     "text": [
      "6680/6680 [==============================] - 8s - loss: 3.1489 - acc: 0.6653 - val_loss: 3.3995 - val_acc: 0.6419\n",
      "Epoch 5/15\n",
      "6630/6680 [============================>.] - ETA: 0s - loss: 3.0811 - acc: 0.6775- ETA: 0s - loss: 3.0843Epoch 00004: val_loss did not improve\n",
      "6680/6680 [==============================] - 7s - loss: 3.0917 - acc: 0.6763 - val_loss: 4.1267 - val_acc: 0.5317\n",
      "Epoch 6/15\n",
      "6630/6680 [============================>.] - ETA: 0s - loss: 2.9026 - acc: 0.6973- ETA: 1s - loEpoch 00005: val_loss improved from 3.39953 to 2.87478, saving model to saved_models/weights.best.Resnet50_InceptionV3_Xception.hdf5\n",
      "6680/6680 [==============================] - 8s - loss: 2.9006 - acc: 0.6978 - val_loss: 2.8748 - val_acc: 0.6790\n",
      "Epoch 7/15\n",
      "6630/6680 [============================>.] - ETA: 0s - loss: 2.7580 - acc: 0.6991Epoch 00006: val_loss did not improve\n",
      "6680/6680 [==============================] - 8s - loss: 2.7571 - acc: 0.6991 - val_loss: 2.9062 - val_acc: 0.6934\n",
      "Epoch 8/15\n",
      "6630/6680 [============================>.] - ETA: 0s - loss: 2.6513 - acc: 0.7161Epoch 00007: val_loss did not improve\n",
      "6680/6680 [==============================] - 7s - loss: 2.6508 - acc: 0.7159 - val_loss: 3.1201 - val_acc: 0.6323\n",
      "Epoch 9/15\n",
      "6630/6680 [============================>.] - ETA: 0s - loss: 2.5738 - acc: 0.7181Epoch 00008: val_loss improved from 2.87478 to 2.81971, saving model to saved_models/weights.best.Resnet50_InceptionV3_Xception.hdf5\n",
      "6680/6680 [==============================] - 8s - loss: 2.5795 - acc: 0.7171 - val_loss: 2.8197 - val_acc: 0.6802\n",
      "Epoch 10/15\n",
      "6630/6680 [============================>.] - ETA: 0s - loss: 2.4761 - acc: 0.7336Epoch 00009: val_loss did not improve\n",
      "6680/6680 [==============================] - 7s - loss: 2.4704 - acc: 0.7346 - val_loss: 2.8879 - val_acc: 0.6802\n",
      "Epoch 11/15\n",
      "6630/6680 [============================>.] - ETA: 0s - loss: 2.3877 - acc: 0.7351Epoch 00010: val_loss improved from 2.81971 to 2.63747, saving model to saved_models/weights.best.Resnet50_InceptionV3_Xception.hdf5\n",
      "6680/6680 [==============================] - 8s - loss: 2.3822 - acc: 0.7358 - val_loss: 2.6375 - val_acc: 0.6874\n",
      "Epoch 12/15\n",
      "6630/6680 [============================>.] - ETA: 0s - loss: 2.3093 - acc: 0.7428- ETA: 1s -Epoch 00011: val_loss did not improve\n",
      "6680/6680 [==============================] - 8s - loss: 2.3091 - acc: 0.7425 - val_loss: 3.2330 - val_acc: 0.6108\n",
      "Epoch 13/15\n",
      "6630/6680 [============================>.] - ETA: 0s - loss: 2.1266 - acc: 0.7535Epoch 00012: val_loss improved from 2.63747 to 2.46404, saving model to saved_models/weights.best.Resnet50_InceptionV3_Xception.hdf5\n",
      "6680/6680 [==============================] - 8s - loss: 2.1257 - acc: 0.7543 - val_loss: 2.4640 - val_acc: 0.7138\n",
      "Epoch 14/15\n",
      "6630/6680 [============================>.] - ETA: 0s - loss: 2.0035 - acc: 0.7667Epoch 00013: val_loss improved from 2.46404 to 2.23329, saving model to saved_models/weights.best.Resnet50_InceptionV3_Xception.hdf5\n",
      "6680/6680 [==============================] - 8s - loss: 1.9991 - acc: 0.7671 - val_loss: 2.2333 - val_acc: 0.7150\n",
      "Epoch 15/15\n",
      "6630/6680 [============================>.] - ETA: 0s - loss: 1.9172 - acc: 0.7665Epoch 00014: val_loss improved from 2.23329 to 2.06659, saving model to saved_models/weights.best.Resnet50_InceptionV3_Xception.hdf5\n",
      "6680/6680 [==============================] - 8s - loss: 1.9220 - acc: 0.7659 - val_loss: 2.0666 - val_acc: 0.7473\n",
      "==========models with ['Resnet50', 'InceptionV3', 'Xception'] fileters1 2048 l2 0.0001 Dropout1 0.8 \n",
      " filters2 1024 l2 1e-05 Dropout2 0.5\n",
      "____________________________________________________________________________________________________\n",
      "Layer (type)                     Output Shape          Param #     Connected to                     \n",
      "====================================================================================================\n",
      "input_58 (InputLayer)            (None, 1, 1, 2048)    0                                            \n",
      "____________________________________________________________________________________________________\n",
      "input_59 (InputLayer)            (None, 5, 5, 2048)    0                                            \n",
      "____________________________________________________________________________________________________\n",
      "input_60 (InputLayer)            (None, 7, 7, 2048)    0                                            \n",
      "____________________________________________________________________________________________________\n",
      "global_average_pooling2d_60 (Glo (None, 2048)          0           input_58[0][0]                   \n",
      "____________________________________________________________________________________________________\n",
      "global_average_pooling2d_61 (Glo (None, 2048)          0           input_59[0][0]                   \n",
      "____________________________________________________________________________________________________\n",
      "global_average_pooling2d_62 (Glo (None, 2048)          0           input_60[0][0]                   \n",
      "____________________________________________________________________________________________________\n",
      "concatenate_21 (Concatenate)     (None, 6144)          0           global_average_pooling2d_60[0][0]\n",
      "                                                                   global_average_pooling2d_61[0][0]\n",
      "                                                                   global_average_pooling2d_62[0][0]\n",
      "____________________________________________________________________________________________________\n",
      "dense_54 (Dense)                 (None, 2048)          12584960    concatenate_21[0][0]             \n",
      "____________________________________________________________________________________________________\n",
      "activation_33 (Activation)       (None, 2048)          0           dense_54[0][0]                   \n",
      "____________________________________________________________________________________________________\n",
      "dropout_34 (Dropout)             (None, 2048)          0           activation_33[0][0]              \n",
      "____________________________________________________________________________________________________\n",
      "dense_55 (Dense)                 (None, 133)           272517      dropout_34[0][0]                 \n",
      "====================================================================================================\n",
      "Total params: 12,857,477\n",
      "Trainable params: 12,857,477\n",
      "Non-trainable params: 0\n",
      "____________________________________________________________________________________________________\n",
      "Train on 6680 samples, validate on 835 samples\n",
      "Epoch 1/15\n",
      "6630/6680 [============================>.] - ETA: 0s - loss: 14.5424 - acc: 0.0673Epoch 00000: val_loss improved from inf to 12.52506, saving model to saved_models/weights.best.Resnet50_InceptionV3_Xception.hdf5\n",
      "6680/6680 [==============================] - 9s - loss: 14.5358 - acc: 0.0675 - val_loss: 12.5251 - val_acc: 0.2060\n",
      "Epoch 2/15\n",
      "6630/6680 [============================>.] - ETA: 0s - loss: 13.2256 - acc: 0.1569Epoch 00001: val_loss improved from 12.52506 to 11.02990, saving model to saved_models/weights.best.Resnet50_InceptionV3_Xception.hdf5\n",
      "6680/6680 [==============================] - 8s - loss: 13.2244 - acc: 0.1570 - val_loss: 11.0299 - val_acc: 0.3042\n",
      "Epoch 3/15\n",
      "6630/6680 [============================>.] - ETA: 0s - loss: 12.2135 - acc: 0.2261Epoch 00002: val_loss improved from 11.02990 to 10.81168, saving model to saved_models/weights.best.Resnet50_InceptionV3_Xception.hdf5\n",
      "6680/6680 [==============================] - 8s - loss: 12.1977 - acc: 0.2269 - val_loss: 10.8117 - val_acc: 0.3305\n",
      "Epoch 4/15\n",
      "6630/6680 [============================>.] - ETA: 0s - loss: 11.4813 - acc: 0.2735Epoch 00003: val_loss improved from 10.81168 to 10.21103, saving model to saved_models/weights.best.Resnet50_InceptionV3_Xception.hdf5\n",
      "6680/6680 [==============================] - 8s - loss: 11.4785 - acc: 0.2737 - val_loss: 10.2110 - val_acc: 0.3701\n",
      "Epoch 5/15\n",
      "6630/6680 [============================>.] - ETA: 0s - loss: 11.2255 - acc: 0.2968Epoch 00004: val_loss improved from 10.21103 to 10.01307, saving model to saved_models/weights.best.Resnet50_InceptionV3_Xception.hdf5\n",
      "6680/6680 [==============================] - 8s - loss: 11.2111 - acc: 0.2976 - val_loss: 10.0131 - val_acc: 0.3880\n",
      "Epoch 6/15\n",
      "6630/6680 [============================>.] - ETA: 0s - loss: 10.9829 - acc: 0.3106Epoch 00005: val_loss improved from 10.01307 to 9.86549, saving model to saved_models/weights.best.Resnet50_InceptionV3_Xception.hdf5\n",
      "6680/6680 [==============================] - 8s - loss: 10.9749 - acc: 0.3112 - val_loss: 9.8655 - val_acc: 0.3952\n",
      "Epoch 7/15\n",
      "6630/6680 [============================>.] - ETA: 0s - loss: 10.9587 - acc: 0.3139Epoch 00006: val_loss improved from 9.86549 to 9.68901, saving model to saved_models/weights.best.Resnet50_InceptionV3_Xception.hdf5\n",
      "6680/6680 [==============================] - 8s - loss: 10.9754 - acc: 0.3130 - val_loss: 9.6890 - val_acc: 0.4048\n",
      "Epoch 8/15\n",
      "6630/6680 [============================>.] - ETA: 0s - loss: 10.7662 - acc: 0.3300Epoch 00007: val_loss improved from 9.68901 to 9.65490, saving model to saved_models/weights.best.Resnet50_InceptionV3_Xception.hdf5\n",
      "6680/6680 [==============================] - 8s - loss: 10.7667 - acc: 0.3301 - val_loss: 9.6549 - val_acc: 0.4120\n",
      "Epoch 9/15\n",
      "6630/6680 [============================>.] - ETA: 0s - loss: 10.7091 - acc: 0.3297Epoch 00008: val_loss did not improve\n",
      "6680/6680 [==============================] - 8s - loss: 10.7069 - acc: 0.3298 - val_loss: 9.8334 - val_acc: 0.3964\n",
      "Epoch 10/15\n",
      "6630/6680 [============================>.] - ETA: 0s - loss: 10.6412 - acc: 0.3391Epoch 00009: val_loss improved from 9.65490 to 9.65273, saving model to saved_models/weights.best.Resnet50_InceptionV3_Xception.hdf5\n",
      "6680/6680 [==============================] - 8s - loss: 10.6256 - acc: 0.3401 - val_loss: 9.6527 - val_acc: 0.4132\n",
      "Epoch 11/15\n",
      "6630/6680 [============================>.] - ETA: 0s - loss: 10.6582 - acc: 0.3359 ETA: 0s - loss: 10.6790 - acc - ETA: 0s - loss: 10.6750 - accEpoch 00010: val_loss did not improve\n",
      "6680/6680 [==============================] - 7s - loss: 10.6604 - acc: 0.3358 - val_loss: 9.6695 - val_acc: 0.4096\n",
      "Epoch 12/15\n",
      "6630/6680 [============================>.] - ETA: 0s - loss: 10.5729 - acc: 0.3410Epoch 00011: val_loss did not improve\n",
      "6680/6680 [==============================] - 8s - loss: 10.5765 - acc: 0.3409 - val_loss: 9.7754 - val_acc: 0.4012\n",
      "Epoch 13/15\n",
      "6630/6680 [============================>.] - ETA: 0s - loss: 10.5763 - acc: 0.3424Epoch 00012: val_loss did not improve\n",
      "6680/6680 [==============================] - 7s - loss: 10.5587 - acc: 0.3436 - val_loss: 9.6575 - val_acc: 0.4108\n",
      "Epoch 14/15\n",
      "6630/6680 [============================>.] - ETA: 0s - loss: 10.4717 - acc: 0.3484Epoch 00013: val_loss did not improve\n",
      "6680/6680 [==============================] - 7s - loss: 10.4687 - acc: 0.3485 - val_loss: 9.9933 - val_acc: 0.3892\n",
      "Epoch 15/15\n",
      "6630/6680 [============================>.] - ETA: 0s - loss: 10.5567 - acc: 0.3428Epoch 00014: val_loss improved from 9.65273 to 9.62009, saving model to saved_models/weights.best.Resnet50_InceptionV3_Xception.hdf5\n",
      "6680/6680 [==============================] - 8s - loss: 10.5548 - acc: 0.3430 - val_loss: 9.6201 - val_acc: 0.4120\n",
      "==========models with ['Resnet50', 'InceptionV3', 'Xception'] fileters1 1024 l2 0.001 Dropout1 0.8 \n",
      " filters2 2048 l2 0.01 Dropout2 0.5\n",
      "____________________________________________________________________________________________________\n",
      "Layer (type)                     Output Shape          Param #     Connected to                     \n",
      "====================================================================================================\n",
      "input_61 (InputLayer)            (None, 1, 1, 2048)    0                                            \n",
      "____________________________________________________________________________________________________\n",
      "input_62 (InputLayer)            (None, 5, 5, 2048)    0                                            \n",
      "____________________________________________________________________________________________________\n",
      "input_63 (InputLayer)            (None, 7, 7, 2048)    0                                            \n",
      "____________________________________________________________________________________________________\n",
      "global_average_pooling2d_63 (Glo (None, 2048)          0           input_61[0][0]                   \n",
      "____________________________________________________________________________________________________\n",
      "global_average_pooling2d_64 (Glo (None, 2048)          0           input_62[0][0]                   \n",
      "____________________________________________________________________________________________________\n",
      "global_average_pooling2d_65 (Glo (None, 2048)          0           input_63[0][0]                   \n",
      "____________________________________________________________________________________________________\n",
      "concatenate_22 (Concatenate)     (None, 6144)          0           global_average_pooling2d_63[0][0]\n",
      "                                                                   global_average_pooling2d_64[0][0]\n",
      "                                                                   global_average_pooling2d_65[0][0]\n",
      "____________________________________________________________________________________________________\n",
      "dense_56 (Dense)                 (None, 1024)          6292480     concatenate_22[0][0]             \n",
      "____________________________________________________________________________________________________\n",
      "activation_34 (Activation)       (None, 1024)          0           dense_56[0][0]                   \n",
      "____________________________________________________________________________________________________\n",
      "dropout_35 (Dropout)             (None, 1024)          0           activation_34[0][0]              \n",
      "____________________________________________________________________________________________________\n",
      "dense_57 (Dense)                 (None, 133)           136325      dropout_35[0][0]                 \n",
      "====================================================================================================\n",
      "Total params: 6,428,805\n",
      "Trainable params: 6,428,805\n",
      "Non-trainable params: 0\n",
      "____________________________________________________________________________________________________\n",
      "Train on 6680 samples, validate on 835 samples\n",
      "Epoch 1/15\n",
      "6630/6680 [============================>.] - ETA: 0s - loss: 7.2409 - acc: 0.1732Epoch 00000: val_loss improved from inf to 1.94713, saving model to saved_models/weights.best.Resnet50_InceptionV3_Xception.hdf5\n",
      "6680/6680 [==============================] - 8s - loss: 7.2164 - acc: 0.1744 - val_loss: 1.9471 - val_acc: 0.6395\n",
      "Epoch 2/15\n",
      "6630/6680 [============================>.] - ETA: 0s - loss: 3.3619 - acc: 0.4196Epoch 00001: val_loss improved from 1.94713 to 1.40740, saving model to saved_models/weights.best.Resnet50_InceptionV3_Xception.hdf5\n",
      "6680/6680 [==============================] - 7s - loss: 3.3596 - acc: 0.4201 - val_loss: 1.4074 - val_acc: 0.7353\n",
      "Epoch 3/15\n",
      "6630/6680 [============================>.] - ETA: 0s - loss: 3.0168 - acc: 0.5006Epoch 00002: val_loss improved from 1.40740 to 1.19659, saving model to saved_models/weights.best.Resnet50_InceptionV3_Xception.hdf5\n",
      "6680/6680 [==============================] - 7s - loss: 3.0142 - acc: 0.5006 - val_loss: 1.1966 - val_acc: 0.8048\n",
      "Epoch 4/15\n",
      "6630/6680 [============================>.] - ETA: 0s - loss: 2.8972 - acc: 0.5371Epoch 00003: val_loss improved from 1.19659 to 1.19115, saving model to saved_models/weights.best.Resnet50_InceptionV3_Xception.hdf5\n",
      "6680/6680 [==============================] - 7s - loss: 2.8965 - acc: 0.5371 - val_loss: 1.1911 - val_acc: 0.8204\n",
      "Epoch 5/15\n",
      "6630/6680 [============================>.] - ETA: 0s - loss: 2.8250 - acc: 0.5626Epoch 00004: val_loss did not improve\n",
      "6680/6680 [==============================] - 6s - loss: 2.8213 - acc: 0.5629 - val_loss: 1.2372 - val_acc: 0.8012\n",
      "Epoch 6/15\n",
      "6630/6680 [============================>.] - ETA: 0s - loss: 2.8470 - acc: 0.5745Epoch 00005: val_loss improved from 1.19115 to 1.17878, saving model to saved_models/weights.best.Resnet50_InceptionV3_Xception.hdf5\n",
      "6680/6680 [==============================] - 7s - loss: 2.8481 - acc: 0.5746 - val_loss: 1.1788 - val_acc: 0.8156\n",
      "Epoch 7/15\n"
     ]
    },
    {
     "name": "stdout",
     "output_type": "stream",
     "text": [
      "6630/6680 [============================>.] - ETA: 0s - loss: 2.7223 - acc: 0.5872Epoch 00006: val_loss did not improve\n",
      "6680/6680 [==============================] - 6s - loss: 2.7277 - acc: 0.5858 - val_loss: 1.1798 - val_acc: 0.8323\n",
      "Epoch 8/15\n",
      "6630/6680 [============================>.] - ETA: 0s - loss: 2.7698 - acc: 0.5952Epoch 00007: val_loss did not improve\n",
      "6680/6680 [==============================] - 6s - loss: 2.7723 - acc: 0.5955 - val_loss: 1.2908 - val_acc: 0.8311\n",
      "Epoch 9/15\n",
      "6630/6680 [============================>.] - ETA: 0s - loss: 2.6397 - acc: 0.6145Epoch 00008: val_loss improved from 1.17878 to 1.16438, saving model to saved_models/weights.best.Resnet50_InceptionV3_Xception.hdf5\n",
      "6680/6680 [==============================] - 7s - loss: 2.6316 - acc: 0.6156 - val_loss: 1.1644 - val_acc: 0.8395\n",
      "Epoch 10/15\n",
      "6630/6680 [============================>.] - ETA: 0s - loss: 2.7203 - acc: 0.6017Epoch 00009: val_loss did not improve\n",
      "6680/6680 [==============================] - 6s - loss: 2.7275 - acc: 0.6009 - val_loss: 1.2538 - val_acc: 0.8419\n",
      "Epoch 11/15\n",
      "6630/6680 [============================>.] - ETA: 0s - loss: 2.7256 - acc: 0.6179Epoch 00010: val_loss did not improve\n",
      "6680/6680 [==============================] - 6s - loss: 2.7249 - acc: 0.6187 - val_loss: 1.2336 - val_acc: 0.8359\n",
      "Epoch 12/15\n",
      "6630/6680 [============================>.] - ETA: 0s - loss: 2.6399 - acc: 0.6107Epoch 00011: val_loss improved from 1.16438 to 1.13106, saving model to saved_models/weights.best.Resnet50_InceptionV3_Xception.hdf5\n",
      "6680/6680 [==============================] - 7s - loss: 2.6356 - acc: 0.6109 - val_loss: 1.1311 - val_acc: 0.8455\n",
      "Epoch 13/15\n",
      "6630/6680 [============================>.] - ETA: 0s - loss: 2.5943 - acc: 0.6222Epoch 00012: val_loss did not improve\n",
      "6680/6680 [==============================] - 6s - loss: 2.5987 - acc: 0.6219 - val_loss: 1.2598 - val_acc: 0.8180\n",
      "Epoch 14/15\n",
      "6630/6680 [============================>.] - ETA: 0s - loss: 2.6367 - acc: 0.6228Epoch 00013: val_loss improved from 1.13106 to 1.11448, saving model to saved_models/weights.best.Resnet50_InceptionV3_Xception.hdf5\n",
      "6680/6680 [==============================] - 7s - loss: 2.6382 - acc: 0.6231 - val_loss: 1.1145 - val_acc: 0.8479\n",
      "Epoch 15/15\n",
      "6630/6680 [============================>.] - ETA: 0s - loss: 2.5406 - acc: 0.6249Epoch 00014: val_loss improved from 1.11448 to 1.07862, saving model to saved_models/weights.best.Resnet50_InceptionV3_Xception.hdf5\n",
      "6680/6680 [==============================] - 7s - loss: 2.5373 - acc: 0.6250 - val_loss: 1.0786 - val_acc: 0.8527\n",
      "==========models with ['Resnet50', 'InceptionV3', 'Xception'] fileters1 256 l2 0.0001 Dropout1 0.1 \n",
      " filters2 512 l2 0.0001 Dropout2 0.3\n",
      "____________________________________________________________________________________________________\n",
      "Layer (type)                     Output Shape          Param #     Connected to                     \n",
      "====================================================================================================\n",
      "input_64 (InputLayer)            (None, 1, 1, 2048)    0                                            \n",
      "____________________________________________________________________________________________________\n",
      "input_65 (InputLayer)            (None, 5, 5, 2048)    0                                            \n",
      "____________________________________________________________________________________________________\n",
      "input_66 (InputLayer)            (None, 7, 7, 2048)    0                                            \n",
      "____________________________________________________________________________________________________\n",
      "global_average_pooling2d_66 (Glo (None, 2048)          0           input_64[0][0]                   \n",
      "____________________________________________________________________________________________________\n",
      "global_average_pooling2d_67 (Glo (None, 2048)          0           input_65[0][0]                   \n",
      "____________________________________________________________________________________________________\n",
      "global_average_pooling2d_68 (Glo (None, 2048)          0           input_66[0][0]                   \n",
      "____________________________________________________________________________________________________\n",
      "concatenate_23 (Concatenate)     (None, 6144)          0           global_average_pooling2d_66[0][0]\n",
      "                                                                   global_average_pooling2d_67[0][0]\n",
      "                                                                   global_average_pooling2d_68[0][0]\n",
      "____________________________________________________________________________________________________\n",
      "dense_58 (Dense)                 (None, 256)           1573120     concatenate_23[0][0]             \n",
      "____________________________________________________________________________________________________\n",
      "activation_35 (Activation)       (None, 256)           0           dense_58[0][0]                   \n",
      "____________________________________________________________________________________________________\n",
      "dropout_36 (Dropout)             (None, 256)           0           activation_35[0][0]              \n",
      "____________________________________________________________________________________________________\n",
      "dense_59 (Dense)                 (None, 133)           34181       dropout_36[0][0]                 \n",
      "====================================================================================================\n",
      "Total params: 1,607,301\n",
      "Trainable params: 1,607,301\n",
      "Non-trainable params: 0\n",
      "____________________________________________________________________________________________________\n",
      "Train on 6680 samples, validate on 835 samples\n",
      "Epoch 1/15\n",
      "6600/6680 [============================>.] - ETA: 0s - loss: 1.7181 - acc: 0.6077Epoch 00000: val_loss improved from inf to 0.74406, saving model to saved_models/weights.best.Resnet50_InceptionV3_Xception.hdf5\n",
      "6680/6680 [==============================] - 5s - loss: 1.7145 - acc: 0.6079 - val_loss: 0.7441 - val_acc: 0.7856\n",
      "Epoch 2/15\n",
      "6600/6680 [============================>.] - ETA: 0s - loss: 0.6434 - acc: 0.8221Epoch 00001: val_loss did not improve\n",
      "6680/6680 [==============================] - 5s - loss: 0.6429 - acc: 0.8225 - val_loss: 0.7455 - val_acc: 0.7964\n",
      "Epoch 3/15\n",
      "6600/6680 [============================>.] - ETA: 0s - loss: 0.4787 - acc: 0.8727Epoch 00002: val_loss did not improve\n",
      "6680/6680 [==============================] - 5s - loss: 0.4776 - acc: 0.8729 - val_loss: 0.8240 - val_acc: 0.8120\n",
      "Epoch 4/15\n",
      "6600/6680 [============================>.] - ETA: 0s - loss: 0.3860 - acc: 0.8970Epoch 00003: val_loss did not improve\n",
      "6680/6680 [==============================] - 5s - loss: 0.3862 - acc: 0.8972 - val_loss: 0.7558 - val_acc: 0.8168\n",
      "Epoch 5/15\n",
      "6600/6680 [============================>.] - ETA: 0s - loss: 0.3327 - acc: 0.9168Epoch 00004: val_loss improved from 0.74406 to 0.69155, saving model to saved_models/weights.best.Resnet50_InceptionV3_Xception.hdf5\n",
      "6680/6680 [==============================] - 5s - loss: 0.3324 - acc: 0.9169 - val_loss: 0.6915 - val_acc: 0.8599\n",
      "Epoch 6/15\n",
      "6600/6680 [============================>.] - ETA: 0s - loss: 0.3161 - acc: 0.9239Epoch 00005: val_loss did not improve\n",
      "6680/6680 [==============================] - 4s - loss: 0.3169 - acc: 0.9235 - val_loss: 0.8649 - val_acc: 0.8419\n",
      "Epoch 7/15\n",
      "6600/6680 [============================>.] - ETA: 0s - loss: 0.2730 - acc: 0.9435Epoch 00006: val_loss did not improve\n",
      "6680/6680 [==============================] - 4s - loss: 0.2784 - acc: 0.9425 - val_loss: 0.9183 - val_acc: 0.8419\n",
      "Epoch 8/15\n",
      "6600/6680 [============================>.] - ETA: 0s - loss: 0.2609 - acc: 0.9503Epoch 00007: val_loss did not improve\n",
      "6680/6680 [==============================] - 4s - loss: 0.2606 - acc: 0.9503 - val_loss: 0.8732 - val_acc: 0.8527\n",
      "Epoch 9/15\n",
      "6600/6680 [============================>.] - ETA: 0s - loss: 0.2611 - acc: 0.9508Epoch 00008: val_loss did not improve\n",
      "6680/6680 [==============================] - 4s - loss: 0.2593 - acc: 0.9513 - val_loss: 0.9081 - val_acc: 0.8503\n",
      "Epoch 10/15\n",
      "6600/6680 [============================>.] - ETA: 0s - loss: 0.2398 - acc: 0.9555Epoch 00009: val_loss did not improve\n",
      "6680/6680 [==============================] - 4s - loss: 0.2399 - acc: 0.9552 - val_loss: 0.9621 - val_acc: 0.8431\n",
      "Epoch 11/15\n",
      "6600/6680 [============================>.] - ETA: 0s - loss: 0.2395 - acc: 0.9583Epoch 00010: val_loss did not improve\n",
      "6680/6680 [==============================] - 5s - loss: 0.2385 - acc: 0.9582 - val_loss: 0.9588 - val_acc: 0.8479\n",
      "Epoch 12/15\n",
      "6600/6680 [============================>.] - ETA: 0s - loss: 0.2469 - acc: 0.9594Epoch 00011: val_loss did not improve\n",
      "6680/6680 [==============================] - 5s - loss: 0.2465 - acc: 0.9596 - val_loss: 0.9935 - val_acc: 0.8383\n",
      "Epoch 13/15\n",
      "6600/6680 [============================>.] - ETA: 0s - loss: 0.2390 - acc: 0.9617Epoch 00012: val_loss did not improve\n",
      "6680/6680 [==============================] - 5s - loss: 0.2392 - acc: 0.9618 - val_loss: 1.0856 - val_acc: 0.8359\n",
      "Epoch 14/15\n",
      "6600/6680 [============================>.] - ETA: 0s - loss: 0.2267 - acc: 0.9636Epoch 00013: val_loss did not improve\n",
      "6680/6680 [==============================] - 5s - loss: 0.2265 - acc: 0.9639 - val_loss: 1.0267 - val_acc: 0.8575\n",
      "Epoch 15/15\n",
      "6600/6680 [============================>.] - ETA: 0s - loss: 0.2362 - acc: 0.9626Epoch 00014: val_loss did not improve\n",
      "6680/6680 [==============================] - 5s - loss: 0.2390 - acc: 0.9621 - val_loss: 1.2573 - val_acc: 0.8287\n",
      "==========models with ['Resnet50', 'InceptionV3', 'Xception'] fileters1 256 l2 1e-05 Dropout1 0.5 \n",
      " filters2 4096 l2 0.01 Dropout2 0.01\n",
      "____________________________________________________________________________________________________\n",
      "Layer (type)                     Output Shape          Param #     Connected to                     \n",
      "====================================================================================================\n",
      "input_67 (InputLayer)            (None, 1, 1, 2048)    0                                            \n",
      "____________________________________________________________________________________________________\n",
      "input_68 (InputLayer)            (None, 5, 5, 2048)    0                                            \n",
      "____________________________________________________________________________________________________\n",
      "input_69 (InputLayer)            (None, 7, 7, 2048)    0                                            \n",
      "____________________________________________________________________________________________________\n",
      "global_average_pooling2d_69 (Glo (None, 2048)          0           input_67[0][0]                   \n",
      "____________________________________________________________________________________________________\n",
      "global_average_pooling2d_70 (Glo (None, 2048)          0           input_68[0][0]                   \n",
      "____________________________________________________________________________________________________\n",
      "global_average_pooling2d_71 (Glo (None, 2048)          0           input_69[0][0]                   \n",
      "____________________________________________________________________________________________________\n",
      "concatenate_24 (Concatenate)     (None, 6144)          0           global_average_pooling2d_69[0][0]\n",
      "                                                                   global_average_pooling2d_70[0][0]\n",
      "                                                                   global_average_pooling2d_71[0][0]\n",
      "____________________________________________________________________________________________________\n",
      "dense_60 (Dense)                 (None, 256)           1573120     concatenate_24[0][0]             \n",
      "____________________________________________________________________________________________________\n",
      "activation_36 (Activation)       (None, 256)           0           dense_60[0][0]                   \n",
      "____________________________________________________________________________________________________\n",
      "dropout_37 (Dropout)             (None, 256)           0           activation_36[0][0]              \n",
      "____________________________________________________________________________________________________\n",
      "dense_61 (Dense)                 (None, 133)           34181       dropout_37[0][0]                 \n",
      "====================================================================================================\n",
      "Total params: 1,607,301\n",
      "Trainable params: 1,607,301\n",
      "Non-trainable params: 0\n",
      "____________________________________________________________________________________________________\n",
      "Train on 6680 samples, validate on 835 samples\n",
      "Epoch 1/15\n",
      "6600/6680 [============================>.] - ETA: 0s - loss: 2.7580 - acc: 0.4033Epoch 00000: val_loss improved from inf to 0.76667, saving model to saved_models/weights.best.Resnet50_InceptionV3_Xception.hdf5\n",
      "6680/6680 [==============================] - 5s - loss: 2.7435 - acc: 0.4051 - val_loss: 0.7667 - val_acc: 0.7641\n",
      "Epoch 2/15\n",
      "6600/6680 [============================>.] - ETA: 0s - loss: 1.1685 - acc: 0.6845Epoch 00001: val_loss improved from 0.76667 to 0.59458, saving model to saved_models/weights.best.Resnet50_InceptionV3_Xception.hdf5\n",
      "6680/6680 [==============================] - 5s - loss: 1.1644 - acc: 0.6859 - val_loss: 0.5946 - val_acc: 0.8240\n",
      "Epoch 3/15\n",
      "6600/6680 [============================>.] - ETA: 0s - loss: 0.8607 - acc: 0.7653Epoch 00002: val_loss improved from 0.59458 to 0.57576, saving model to saved_models/weights.best.Resnet50_InceptionV3_Xception.hdf5\n",
      "6680/6680 [==============================] - 5s - loss: 0.8654 - acc: 0.7647 - val_loss: 0.5758 - val_acc: 0.8275\n",
      "Epoch 4/15\n",
      "6600/6680 [============================>.] - ETA: 0s - loss: 0.7138 - acc: 0.7964Epoch 00003: val_loss improved from 0.57576 to 0.50511, saving model to saved_models/weights.best.Resnet50_InceptionV3_Xception.hdf5\n",
      "6680/6680 [==============================] - 4s - loss: 0.7134 - acc: 0.7964 - val_loss: 0.5051 - val_acc: 0.8695\n",
      "Epoch 5/15\n",
      "6600/6680 [============================>.] - ETA: 0s - loss: 0.6442 - acc: 0.8153Epoch 00004: val_loss improved from 0.50511 to 0.48371, saving model to saved_models/weights.best.Resnet50_InceptionV3_Xception.hdf5\n",
      "6680/6680 [==============================] - 4s - loss: 0.6418 - acc: 0.8157 - val_loss: 0.4837 - val_acc: 0.8503\n",
      "Epoch 6/15\n",
      "6600/6680 [============================>.] - ETA: 0s - loss: 0.5418 - acc: 0.8421Epoch 00005: val_loss did not improve\n",
      "6680/6680 [==============================] - 4s - loss: 0.5457 - acc: 0.8416 - val_loss: 0.5041 - val_acc: 0.8683\n",
      "Epoch 7/15\n",
      "6600/6680 [============================>.] - ETA: 0s - loss: 0.5170 - acc: 0.8555Epoch 00006: val_loss did not improve\n",
      "6680/6680 [==============================] - 4s - loss: 0.5173 - acc: 0.8549 - val_loss: 0.5303 - val_acc: 0.8599\n",
      "Epoch 8/15\n",
      "6600/6680 [============================>.] - ETA: 0s - loss: 0.4609 - acc: 0.8638Epoch 00007: val_loss did not improve\n",
      "6680/6680 [==============================] - 4s - loss: 0.4641 - acc: 0.8632 - val_loss: 0.5366 - val_acc: 0.8659\n",
      "Epoch 9/15\n",
      "6600/6680 [============================>.] - ETA: 0s - loss: 0.4442 - acc: 0.8712Epoch 00008: val_loss did not improve\n",
      "6680/6680 [==============================] - 5s - loss: 0.4466 - acc: 0.8708 - val_loss: 0.4871 - val_acc: 0.8743\n",
      "Epoch 10/15\n",
      "6600/6680 [============================>.] - ETA: 0s - loss: 0.4083 - acc: 0.8841Epoch 00009: val_loss did not improve\n",
      "6680/6680 [==============================] - 4s - loss: 0.4127 - acc: 0.8831 - val_loss: 0.6162 - val_acc: 0.8671\n",
      "Epoch 11/15\n",
      "6600/6680 [============================>.] - ETA: 0s - loss: 0.4088 - acc: 0.8848Epoch 00010: val_loss did not improve\n",
      "6680/6680 [==============================] - 5s - loss: 0.4112 - acc: 0.8850 - val_loss: 0.6304 - val_acc: 0.8647\n",
      "Epoch 12/15\n",
      "6600/6680 [============================>.] - ETA: 0s - loss: 0.3785 - acc: 0.8920Epoch 00011: val_loss did not improve\n",
      "6680/6680 [==============================] - 5s - loss: 0.3827 - acc: 0.8906 - val_loss: 0.5493 - val_acc: 0.8802\n",
      "Epoch 13/15\n",
      "6600/6680 [============================>.] - ETA: 0s - loss: 0.3497 - acc: 0.9089Epoch 00012: val_loss did not improve\n",
      "6680/6680 [==============================] - 5s - loss: 0.3515 - acc: 0.9081 - val_loss: 0.6849 - val_acc: 0.8539\n",
      "Epoch 14/15\n",
      "6600/6680 [============================>.] - ETA: 0s - loss: 0.3496 - acc: 0.9047Epoch 00013: val_loss did not improve\n"
     ]
    },
    {
     "name": "stdout",
     "output_type": "stream",
     "text": [
      "6680/6680 [==============================] - 4s - loss: 0.3495 - acc: 0.9045 - val_loss: 0.6030 - val_acc: 0.8731\n",
      "Epoch 15/15\n",
      "6600/6680 [============================>.] - ETA: 0s - loss: 0.3444 - acc: 0.9097Epoch 00014: val_loss did not improve\n",
      "6680/6680 [==============================] - 5s - loss: 0.3475 - acc: 0.9091 - val_loss: 0.6627 - val_acc: 0.8778\n",
      "==========models with ['Resnet50', 'InceptionV3', 'Xception'] fileters1 256 l2 0.0001 Dropout1 0.3 \n",
      " filters2 2048 l2 0.001 Dropout2 0.8\n",
      "____________________________________________________________________________________________________\n",
      "Layer (type)                     Output Shape          Param #     Connected to                     \n",
      "====================================================================================================\n",
      "input_70 (InputLayer)            (None, 1, 1, 2048)    0                                            \n",
      "____________________________________________________________________________________________________\n",
      "input_71 (InputLayer)            (None, 5, 5, 2048)    0                                            \n",
      "____________________________________________________________________________________________________\n",
      "input_72 (InputLayer)            (None, 7, 7, 2048)    0                                            \n",
      "____________________________________________________________________________________________________\n",
      "global_average_pooling2d_72 (Glo (None, 2048)          0           input_70[0][0]                   \n",
      "____________________________________________________________________________________________________\n",
      "global_average_pooling2d_73 (Glo (None, 2048)          0           input_71[0][0]                   \n",
      "____________________________________________________________________________________________________\n",
      "global_average_pooling2d_74 (Glo (None, 2048)          0           input_72[0][0]                   \n",
      "____________________________________________________________________________________________________\n",
      "concatenate_25 (Concatenate)     (None, 6144)          0           global_average_pooling2d_72[0][0]\n",
      "                                                                   global_average_pooling2d_73[0][0]\n",
      "                                                                   global_average_pooling2d_74[0][0]\n",
      "____________________________________________________________________________________________________\n",
      "dense_62 (Dense)                 (None, 256)           1573120     concatenate_25[0][0]             \n",
      "____________________________________________________________________________________________________\n",
      "activation_37 (Activation)       (None, 256)           0           dense_62[0][0]                   \n",
      "____________________________________________________________________________________________________\n",
      "dropout_38 (Dropout)             (None, 256)           0           activation_37[0][0]              \n",
      "____________________________________________________________________________________________________\n",
      "dense_63 (Dense)                 (None, 133)           34181       dropout_38[0][0]                 \n",
      "====================================================================================================\n",
      "Total params: 1,607,301\n",
      "Trainable params: 1,607,301\n",
      "Non-trainable params: 0\n",
      "____________________________________________________________________________________________________\n",
      "Train on 6680 samples, validate on 835 samples\n",
      "Epoch 1/15\n",
      "6600/6680 [============================>.] - ETA: 0s - loss: 2.0120 - acc: 0.5541Epoch 00000: val_loss improved from inf to 0.79505, saving model to saved_models/weights.best.Resnet50_InceptionV3_Xception.hdf5\n",
      "6680/6680 [==============================] - 5s - loss: 2.0024 - acc: 0.5551 - val_loss: 0.7950 - val_acc: 0.7820\n",
      "Epoch 2/15\n",
      "6600/6680 [============================>.] - ETA: 0s - loss: 0.8188 - acc: 0.7779Epoch 00001: val_loss improved from 0.79505 to 0.65269, saving model to saved_models/weights.best.Resnet50_InceptionV3_Xception.hdf5\n",
      "6680/6680 [==============================] - 4s - loss: 0.8189 - acc: 0.7777 - val_loss: 0.6527 - val_acc: 0.8084\n",
      "Epoch 3/15\n",
      "6600/6680 [============================>.] - ETA: 0s - loss: 0.6414 - acc: 0.8303Epoch 00002: val_loss did not improve\n",
      "6680/6680 [==============================] - 4s - loss: 0.6464 - acc: 0.8296 - val_loss: 0.6995 - val_acc: 0.8323\n",
      "Epoch 4/15\n",
      "6600/6680 [============================>.] - ETA: 0s - loss: 0.5272 - acc: 0.8615Epoch 00003: val_loss did not improve\n",
      "6680/6680 [==============================] - 5s - loss: 0.5306 - acc: 0.8606 - val_loss: 0.8258 - val_acc: 0.8120\n",
      "Epoch 5/15\n",
      "6600/6680 [============================>.] - ETA: 0s - loss: 0.4799 - acc: 0.8782Epoch 00004: val_loss did not improve\n",
      "6680/6680 [==============================] - 5s - loss: 0.4796 - acc: 0.8777 - val_loss: 0.6654 - val_acc: 0.8527\n",
      "Epoch 6/15\n",
      "6600/6680 [============================>.] - ETA: 0s - loss: 0.4474 - acc: 0.8923Epoch 00005: val_loss did not improve\n",
      "6680/6680 [==============================] - 4s - loss: 0.4461 - acc: 0.8927 - val_loss: 0.7375 - val_acc: 0.8527\n",
      "Epoch 7/15\n",
      "6600/6680 [============================>.] - ETA: 0s - loss: 0.4116 - acc: 0.9033Epoch 00006: val_loss did not improve\n",
      "6680/6680 [==============================] - 5s - loss: 0.4148 - acc: 0.9025 - val_loss: 0.6975 - val_acc: 0.8563\n",
      "Epoch 8/15\n",
      "6600/6680 [============================>.] - ETA: 0s - loss: 0.3977 - acc: 0.9130Epoch 00007: val_loss did not improve\n",
      "6680/6680 [==============================] - 5s - loss: 0.3975 - acc: 0.9124 - val_loss: 0.7876 - val_acc: 0.8491\n",
      "Epoch 9/15\n",
      "6600/6680 [============================>.] - ETA: 0s - loss: 0.3664 - acc: 0.9202Epoch 00008: val_loss did not improve\n",
      "6680/6680 [==============================] - 5s - loss: 0.3677 - acc: 0.9198 - val_loss: 0.8019 - val_acc: 0.8491\n",
      "Epoch 10/15\n",
      "6600/6680 [============================>.] - ETA: 0s - loss: 0.3284 - acc: 0.9262Epoch 00009: val_loss did not improve\n",
      "6680/6680 [==============================] - 5s - loss: 0.3294 - acc: 0.9254 - val_loss: 0.8139 - val_acc: 0.8515\n",
      "Epoch 11/15\n",
      "6600/6680 [============================>.] - ETA: 0s - loss: 0.3363 - acc: 0.9333Epoch 00010: val_loss did not improve\n",
      "6680/6680 [==============================] - 4s - loss: 0.3352 - acc: 0.9335 - val_loss: 0.7610 - val_acc: 0.8671\n",
      "Epoch 12/15\n",
      "6600/6680 [============================>.] - ETA: 0s - loss: 0.3465 - acc: 0.9323Epoch 00011: val_loss did not improve\n",
      "6680/6680 [==============================] - 5s - loss: 0.3475 - acc: 0.9320 - val_loss: 0.8896 - val_acc: 0.8503\n",
      "Epoch 13/15\n",
      "6600/6680 [============================>.] - ETA: 0s - loss: 0.3427 - acc: 0.9347Epoch 00012: val_loss did not improve\n",
      "6680/6680 [==============================] - 5s - loss: 0.3438 - acc: 0.9343 - val_loss: 0.9100 - val_acc: 0.8503\n",
      "Epoch 14/15\n",
      "6600/6680 [============================>.] - ETA: 0s - loss: 0.3105 - acc: 0.9402Epoch 00013: val_loss did not improve\n",
      "6680/6680 [==============================] - 5s - loss: 0.3129 - acc: 0.9395 - val_loss: 0.8023 - val_acc: 0.8671\n",
      "Epoch 15/15\n",
      "6600/6680 [============================>.] - ETA: 0s - loss: 0.3256 - acc: 0.9385Epoch 00014: val_loss did not improve\n",
      "6680/6680 [==============================] - 5s - loss: 0.3242 - acc: 0.9388 - val_loss: 0.9591 - val_acc: 0.8659\n",
      "==========models with ['Resnet50', 'InceptionV3', 'Xception'] fileters1 1024 l2 0.01 Dropout1 0.5 \n",
      " filters2 1024 l2 0.001 Dropout2 0.01\n",
      "____________________________________________________________________________________________________\n",
      "Layer (type)                     Output Shape          Param #     Connected to                     \n",
      "====================================================================================================\n",
      "input_73 (InputLayer)            (None, 1, 1, 2048)    0                                            \n",
      "____________________________________________________________________________________________________\n",
      "input_74 (InputLayer)            (None, 5, 5, 2048)    0                                            \n",
      "____________________________________________________________________________________________________\n",
      "input_75 (InputLayer)            (None, 7, 7, 2048)    0                                            \n",
      "____________________________________________________________________________________________________\n",
      "global_average_pooling2d_75 (Glo (None, 2048)          0           input_73[0][0]                   \n",
      "____________________________________________________________________________________________________\n",
      "global_average_pooling2d_76 (Glo (None, 2048)          0           input_74[0][0]                   \n",
      "____________________________________________________________________________________________________\n",
      "global_average_pooling2d_77 (Glo (None, 2048)          0           input_75[0][0]                   \n",
      "____________________________________________________________________________________________________\n",
      "concatenate_26 (Concatenate)     (None, 6144)          0           global_average_pooling2d_75[0][0]\n",
      "                                                                   global_average_pooling2d_76[0][0]\n",
      "                                                                   global_average_pooling2d_77[0][0]\n",
      "____________________________________________________________________________________________________\n",
      "dense_64 (Dense)                 (None, 1024)          6292480     concatenate_26[0][0]             \n",
      "____________________________________________________________________________________________________\n",
      "activation_38 (Activation)       (None, 1024)          0           dense_64[0][0]                   \n",
      "____________________________________________________________________________________________________\n",
      "dropout_39 (Dropout)             (None, 1024)          0           activation_38[0][0]              \n",
      "____________________________________________________________________________________________________\n",
      "dense_65 (Dense)                 (None, 133)           136325      dropout_39[0][0]                 \n",
      "====================================================================================================\n",
      "Total params: 6,428,805\n",
      "Trainable params: 6,428,805\n",
      "Non-trainable params: 0\n",
      "____________________________________________________________________________________________________\n"
     ]
    },
    {
     "name": "stdout",
     "output_type": "stream",
     "text": [
      "Train on 6680 samples, validate on 835 samples\n",
      "Epoch 1/15\n",
      "6630/6680 [============================>.] - ETA: 0s - loss: 6.8735 - acc: 0.4362Epoch 00000: val_loss improved from inf to 3.08689, saving model to saved_models/weights.best.Resnet50_InceptionV3_Xception.hdf5\n",
      "6680/6680 [==============================] - 8s - loss: 6.8457 - acc: 0.4374 - val_loss: 3.0869 - val_acc: 0.6934\n",
      "Epoch 2/15\n",
      "6630/6680 [============================>.] - ETA: 0s - loss: 3.4593 - acc: 0.5919Epoch 00001: val_loss improved from 3.08689 to 2.69905, saving model to saved_models/weights.best.Resnet50_InceptionV3_Xception.hdf5\n",
      "6680/6680 [==============================] - 7s - loss: 3.4579 - acc: 0.5916 - val_loss: 2.6991 - val_acc: 0.6778\n",
      "Epoch 3/15\n",
      "6630/6680 [============================>.] - ETA: 0s - loss: 3.0576 - acc: 0.6258Epoch 00002: val_loss improved from 2.69905 to 2.42455, saving model to saved_models/weights.best.Resnet50_InceptionV3_Xception.hdf5\n",
      "6680/6680 [==============================] - 7s - loss: 3.0575 - acc: 0.6254 - val_loss: 2.4245 - val_acc: 0.7090\n",
      "Epoch 4/15\n",
      "6630/6680 [============================>.] - ETA: 0s - loss: 2.9800 - acc: 0.6353Epoch 00003: val_loss improved from 2.42455 to 2.32077, saving model to saved_models/weights.best.Resnet50_InceptionV3_Xception.hdf5\n",
      "6680/6680 [==============================] - 7s - loss: 2.9867 - acc: 0.6338 - val_loss: 2.3208 - val_acc: 0.7377\n",
      "Epoch 5/15\n",
      "6630/6680 [============================>.] - ETA: 0s - loss: 2.8227 - acc: 0.6483Epoch 00004: val_loss improved from 2.32077 to 1.96411, saving model to saved_models/weights.best.Resnet50_InceptionV3_Xception.hdf5\n",
      "6680/6680 [==============================] - 7s - loss: 2.8213 - acc: 0.6493 - val_loss: 1.9641 - val_acc: 0.8024\n",
      "Epoch 6/15\n",
      "6630/6680 [============================>.] - ETA: 0s - loss: 2.6496 - acc: 0.6618Epoch 00005: val_loss did not improve\n",
      "6680/6680 [==============================] - 6s - loss: 2.6531 - acc: 0.6614 - val_loss: 2.0456 - val_acc: 0.7593\n",
      "Epoch 7/15\n",
      "6630/6680 [============================>.] - ETA: 0s - loss: 2.6377 - acc: 0.6602Epoch 00006: val_loss did not improve\n",
      "6680/6680 [==============================] - 6s - loss: 2.6407 - acc: 0.6594 - val_loss: 2.1363 - val_acc: 0.7509\n",
      "Epoch 8/15\n",
      "6630/6680 [============================>.] - ETA: 0s - loss: 2.5568 - acc: 0.6674Epoch 00007: val_loss did not improve\n",
      "6680/6680 [==============================] - 6s - loss: 2.5640 - acc: 0.6668 - val_loss: 2.2292 - val_acc: 0.7138\n",
      "Epoch 9/15\n",
      "6630/6680 [============================>.] - ETA: 0s - loss: 2.5322 - acc: 0.6689Epoch 00008: val_loss did not improve\n",
      "6680/6680 [==============================] - 6s - loss: 2.5335 - acc: 0.6695 - val_loss: 1.9996 - val_acc: 0.7665\n",
      "Epoch 10/15\n",
      "6630/6680 [============================>.] - ETA: 0s - loss: 2.4412 - acc: 0.6790Epoch 00009: val_loss improved from 1.96411 to 1.93914, saving model to saved_models/weights.best.Resnet50_InceptionV3_Xception.hdf5\n",
      "6680/6680 [==============================] - 7s - loss: 2.4392 - acc: 0.6793 - val_loss: 1.9391 - val_acc: 0.7737\n",
      "Epoch 11/15\n",
      "6630/6680 [============================>.] - ETA: 0s - loss: 2.4002 - acc: 0.6753Epoch 00010: val_loss improved from 1.93914 to 1.91448, saving model to saved_models/weights.best.Resnet50_InceptionV3_Xception.hdf5\n",
      "6680/6680 [==============================] - 7s - loss: 2.3990 - acc: 0.6756 - val_loss: 1.9145 - val_acc: 0.7749\n",
      "Epoch 12/15\n",
      "6630/6680 [============================>.] - ETA: 0s - loss: 2.3052 - acc: 0.6968Epoch 00011: val_loss did not improve\n",
      "6680/6680 [==============================] - 6s - loss: 2.3086 - acc: 0.6957 - val_loss: 1.9362 - val_acc: 0.7749\n",
      "Epoch 13/15\n",
      "6630/6680 [============================>.] - ETA: 0s - loss: 2.2366 - acc: 0.6947Epoch 00012: val_loss improved from 1.91448 to 1.81238, saving model to saved_models/weights.best.Resnet50_InceptionV3_Xception.hdf5\n",
      "6680/6680 [==============================] - 7s - loss: 2.2347 - acc: 0.6948 - val_loss: 1.8124 - val_acc: 0.7629\n",
      "Epoch 14/15\n",
      "6630/6680 [============================>.] - ETA: 0s - loss: 2.1765 - acc: 0.6902Epoch 00013: val_loss improved from 1.81238 to 1.71082, saving model to saved_models/weights.best.Resnet50_InceptionV3_Xception.hdf5\n",
      "6680/6680 [==============================] - 7s - loss: 2.1799 - acc: 0.6900 - val_loss: 1.7108 - val_acc: 0.7916\n",
      "Epoch 15/15\n",
      "6630/6680 [============================>.] - ETA: 0s - loss: 2.1013 - acc: 0.7012Epoch 00014: val_loss did not improve\n",
      "6680/6680 [==============================] - 6s - loss: 2.0994 - acc: 0.7013 - val_loss: 1.9551 - val_acc: 0.7174\n",
      "==========models with ['Resnet50', 'InceptionV3', 'Xception'] fileters1 512 l2 0.01 Dropout1 0.3 \n",
      " filters2 1024 l2 0.01 Dropout2 0.5\n",
      "____________________________________________________________________________________________________\n",
      "Layer (type)                     Output Shape          Param #     Connected to                     \n",
      "====================================================================================================\n",
      "input_76 (InputLayer)            (None, 1, 1, 2048)    0                                            \n",
      "____________________________________________________________________________________________________\n",
      "input_77 (InputLayer)            (None, 5, 5, 2048)    0                                            \n",
      "____________________________________________________________________________________________________\n",
      "input_78 (InputLayer)            (None, 7, 7, 2048)    0                                            \n",
      "____________________________________________________________________________________________________\n",
      "global_average_pooling2d_78 (Glo (None, 2048)          0           input_76[0][0]                   \n",
      "____________________________________________________________________________________________________\n",
      "global_average_pooling2d_79 (Glo (None, 2048)          0           input_77[0][0]                   \n",
      "____________________________________________________________________________________________________\n",
      "global_average_pooling2d_80 (Glo (None, 2048)          0           input_78[0][0]                   \n",
      "____________________________________________________________________________________________________\n",
      "concatenate_27 (Concatenate)     (None, 6144)          0           global_average_pooling2d_78[0][0]\n",
      "                                                                   global_average_pooling2d_79[0][0]\n",
      "                                                                   global_average_pooling2d_80[0][0]\n",
      "____________________________________________________________________________________________________\n",
      "dense_66 (Dense)                 (None, 512)           3146240     concatenate_27[0][0]             \n",
      "____________________________________________________________________________________________________\n",
      "activation_39 (Activation)       (None, 512)           0           dense_66[0][0]                   \n",
      "____________________________________________________________________________________________________\n",
      "dropout_40 (Dropout)             (None, 512)           0           activation_39[0][0]              \n",
      "____________________________________________________________________________________________________\n",
      "dense_67 (Dense)                 (None, 133)           68229       dropout_40[0][0]                 \n",
      "====================================================================================================\n",
      "Total params: 3,214,469\n",
      "Trainable params: 3,214,469\n",
      "Non-trainable params: 0\n",
      "____________________________________________________________________________________________________\n",
      "Train on 6680 samples, validate on 835 samples\n",
      "Epoch 1/15\n",
      "6600/6680 [============================>.] - ETA: 0s - loss: 4.4501 - acc: 0.5208Epoch 00000: val_loss improved from inf to 2.21937, saving model to saved_models/weights.best.Resnet50_InceptionV3_Xception.hdf5\n",
      "6680/6680 [==============================] - 6s - loss: 4.4302 - acc: 0.5217 - val_loss: 2.2194 - val_acc: 0.6982\n",
      "Epoch 2/15\n",
      "6660/6680 [============================>.] - ETA: 0s - loss: 2.2780 - acc: 0.6829Epoch 00001: val_loss improved from 2.21937 to 2.08154, saving model to saved_models/weights.best.Resnet50_InceptionV3_Xception.hdf5\n"
     ]
    },
    {
     "name": "stdout",
     "output_type": "stream",
     "text": [
      "6680/6680 [==============================] - 5s - loss: 2.2775 - acc: 0.6828 - val_loss: 2.0815 - val_acc: 0.7102\n",
      "Epoch 3/15\n",
      "6600/6680 [============================>.] - ETA: 0s - loss: 1.9979 - acc: 0.7171Epoch 00002: val_loss improved from 2.08154 to 1.86843, saving model to saved_models/weights.best.Resnet50_InceptionV3_Xception.hdf5\n",
      "6680/6680 [==============================] - 5s - loss: 1.9974 - acc: 0.7166 - val_loss: 1.8684 - val_acc: 0.7389\n",
      "Epoch 4/15\n",
      "6600/6680 [============================>.] - ETA: 0s - loss: 1.9117 - acc: 0.7179Epoch 00003: val_loss improved from 1.86843 to 1.70168, saving model to saved_models/weights.best.Resnet50_InceptionV3_Xception.hdf5\n",
      "6680/6680 [==============================] - 5s - loss: 1.9144 - acc: 0.7174 - val_loss: 1.7017 - val_acc: 0.7437\n",
      "Epoch 5/15\n",
      "6660/6680 [============================>.] - ETA: 0s - loss: 1.8664 - acc: 0.7263Epoch 00004: val_loss did not improve\n",
      "6680/6680 [==============================] - 5s - loss: 1.8683 - acc: 0.7260 - val_loss: 1.9851 - val_acc: 0.7269\n",
      "Epoch 6/15\n",
      "6600/6680 [============================>.] - ETA: 0s - loss: 1.7923 - acc: 0.7402Epoch 00005: val_loss improved from 1.70168 to 1.61132, saving model to saved_models/weights.best.Resnet50_InceptionV3_Xception.hdf5\n",
      "6680/6680 [==============================] - 5s - loss: 1.7907 - acc: 0.7398 - val_loss: 1.6113 - val_acc: 0.7701\n",
      "Epoch 7/15\n",
      "6600/6680 [============================>.] - ETA: 0s - loss: 1.7556 - acc: 0.7368Epoch 00006: val_loss did not improve\n",
      "6680/6680 [==============================] - 5s - loss: 1.7554 - acc: 0.7370 - val_loss: 1.7491 - val_acc: 0.7485\n",
      "Epoch 8/15\n",
      "6600/6680 [============================>.] - ETA: 0s - loss: 1.7182 - acc: 0.7373Epoch 00007: val_loss did not improve\n",
      "6680/6680 [==============================] - 5s - loss: 1.7201 - acc: 0.7367 - val_loss: 1.6669 - val_acc: 0.7353\n",
      "Epoch 9/15\n",
      "6600/6680 [============================>.] - ETA: 0s - loss: 1.7004 - acc: 0.7500Epoch 00008: val_loss improved from 1.61132 to 1.48000, saving model to saved_models/weights.best.Resnet50_InceptionV3_Xception.hdf5\n",
      "6680/6680 [==============================] - 5s - loss: 1.6973 - acc: 0.7499 - val_loss: 1.4800 - val_acc: 0.7940\n",
      "Epoch 10/15\n",
      "6600/6680 [============================>.] - ETA: 0s - loss: 1.6313 - acc: 0.7511Epoch 00009: val_loss improved from 1.48000 to 1.39639, saving model to saved_models/weights.best.Resnet50_InceptionV3_Xception.hdf5\n",
      "6680/6680 [==============================] - 5s - loss: 1.6291 - acc: 0.7519 - val_loss: 1.3964 - val_acc: 0.7868\n",
      "Epoch 11/15\n",
      "6600/6680 [============================>.] - ETA: 0s - loss: 1.5972 - acc: 0.7502Epoch 00010: val_loss improved from 1.39639 to 1.34935, saving model to saved_models/weights.best.Resnet50_InceptionV3_Xception.hdf5\n",
      "6680/6680 [==============================] - 5s - loss: 1.5965 - acc: 0.7504 - val_loss: 1.3494 - val_acc: 0.8096\n",
      "Epoch 12/15\n",
      "6600/6680 [============================>.] - ETA: 0s - loss: 1.5528 - acc: 0.7645Epoch 00011: val_loss did not improve\n",
      "6680/6680 [==============================] - 5s - loss: 1.5522 - acc: 0.7651 - val_loss: 1.6309 - val_acc: 0.7689\n",
      "Epoch 13/15\n",
      "6600/6680 [============================>.] - ETA: 0s - loss: 1.5133 - acc: 0.7639Epoch 00012: val_loss did not improve\n",
      "6680/6680 [==============================] - 5s - loss: 1.5145 - acc: 0.7641 - val_loss: 1.5043 - val_acc: 0.7760\n",
      "Epoch 14/15\n",
      "6600/6680 [============================>.] - ETA: 0s - loss: 1.5224 - acc: 0.7623Epoch 00013: val_loss did not improve\n",
      "6680/6680 [==============================] - 5s - loss: 1.5232 - acc: 0.7629 - val_loss: 1.5055 - val_acc: 0.7689\n",
      "Epoch 15/15\n",
      "6600/6680 [============================>.] - ETA: 0s - loss: 1.4629 - acc: 0.7758Epoch 00014: val_loss did not improve\n",
      "6680/6680 [==============================] - 5s - loss: 1.4650 - acc: 0.7757 - val_loss: 1.3569 - val_acc: 0.7892\n"
     ]
    }
   ],
   "source": [
    "merged_models = [train_merged_model(*var) for var in rand_ver_product]"
   ]
  },
  {
   "cell_type": "code",
   "execution_count": 41,
   "metadata": {},
   "outputs": [
    {
     "name": "stdout",
     "output_type": "stream",
     "text": [
      "ker1, l2_1, dr1, ker2, l2_2, dr2\n",
      "(1024, 1e-05, 0.8, 1024, 0.01, 0.1) accuracy 83.85167464114832\n",
      "ker1, l2_1, dr1, ker2, l2_2, dr2\n",
      "(1024, 1e-05, 0.1, 2048, 0.01, 0.1) accuracy 83.73205741626795\n",
      "ker1, l2_1, dr1, ker2, l2_2, dr2\n",
      "(2048, 0.01, 0.01, 1024, 1e-05, 0.3) accuracy 72.8468899521531\n",
      "ker1, l2_1, dr1, ker2, l2_2, dr2\n",
      "(2048, 0.0001, 0.8, 1024, 1e-05, 0.5) accuracy 41.985645933014354\n",
      "ker1, l2_1, dr1, ker2, l2_2, dr2\n",
      "(1024, 0.001, 0.8, 2048, 0.01, 0.5) accuracy 84.68899521531101\n",
      "ker1, l2_1, dr1, ker2, l2_2, dr2\n",
      "(256, 0.0001, 0.1, 512, 0.0001, 0.3) accuracy 84.0909090909091\n",
      "ker1, l2_1, dr1, ker2, l2_2, dr2\n",
      "(256, 1e-05, 0.5, 4096, 0.01, 0.01) accuracy 84.80861244019138\n",
      "ker1, l2_1, dr1, ker2, l2_2, dr2\n",
      "(256, 0.0001, 0.3, 2048, 0.001, 0.8) accuracy 80.14354066985646\n",
      "ker1, l2_1, dr1, ker2, l2_2, dr2\n",
      "(1024, 0.01, 0.5, 1024, 0.001, 0.01) accuracy 78.11004784688996\n",
      "ker1, l2_1, dr1, ker2, l2_2, dr2\n",
      "(512, 0.01, 0.3, 1024, 0.01, 0.5) accuracy 80.14354066985646\n"
     ]
    }
   ],
   "source": [
    "for parms, merged_model in zip(rand_ver_product, merged_models):\n",
    "    print(\"ker1, l2_1, dr1, ker2, l2_2, dr2\")\n",
    "    print(\"{} accuracy {}\".format(parms, merged_model[0]))"
   ]
  },
  {
   "cell_type": "markdown",
   "metadata": {
    "hideCode": false,
    "hidePrompt": false
   },
   "source": [
    "### (IMPLEMENTATION) Predict Dog Breed with the Model\n",
    "\n",
    "Write a function that takes an image path as input and returns the dog breed (`Affenpinscher`, `Afghan_hound`, etc) that is predicted by your model.  \n",
    "\n",
    "Similar to the analogous function in Step 5, your function should have three steps:\n",
    "1. Extract the bottleneck features corresponding to the chosen CNN model.\n",
    "2. Supply the bottleneck features as input to the model to return the predicted vector.  Note that the argmax of this prediction vector gives the index of the predicted dog breed.\n",
    "3. Use the `dog_names` array defined in Step 0 of this notebook to return the corresponding breed.\n",
    "\n",
    "The functions to extract the bottleneck features can be found in `extract_bottleneck_features.py`, and they have been imported in an earlier code cell.  To obtain the bottleneck features corresponding to your chosen CNN architecture, you need to use the function\n",
    "\n",
    "    extract_{network}\n",
    "    \n",
    "where `{network}`, in the above filename, should be one of `VGG19`, `Resnet50`, `InceptionV3`, or `Xception`."
   ]
  },
  {
   "cell_type": "code",
   "execution_count": 37,
   "metadata": {
    "collapsed": true,
    "hideCode": false,
    "hidePrompt": false
   },
   "outputs": [],
   "source": [
    "### TODO: Write a function that takes a path to an image as input\n",
    "### and returns the dog breed that is predicted by the model.\n",
    "from extract_bottleneck_features import extract_InceptionV3, extract_Resnet50, extract_Xception\n",
    "def predict(image_path):\n",
    "    input_data = [extract_Xception(path_to_tensor(image_path)), extract_Resnet50(path_to_tensor(image_path)), \n",
    "                 extract_InceptionV3(path_to_tensor(image_path))]\n",
    "    #inputs= np.array([np.expand_dims(feature1, axis=0), np.expand_dims(feature2, axis=0)])\n",
    "    predicted_prob = merged_model.predict(input_data)\n",
    "    predicted_idx = np.argmax(predicted_prob[0])\n",
    "    return dog_names[predicted_idx]"
   ]
  },
  {
   "cell_type": "markdown",
   "metadata": {},
   "source": [
    "---\n",
    "<a id='step6'></a>\n",
    "## Step 6: Write your Algorithm\n",
    "\n",
    "Write an algorithm that accepts a file path to an image and first determines whether the image contains a human, dog, or neither.  Then,\n",
    "- if a __dog__ is detected in the image, return the predicted breed.\n",
    "- if a __human__ is detected in the image, return the resembling dog breed.\n",
    "- if __neither__ is detected in the image, provide output that indicates an error.\n",
    "\n",
    "You are welcome to write your own functions for detecting humans and dogs in images, but feel free to use the `face_detector` and `dog_detector` functions developed above.  You are __required__ to use your CNN from Step 5 to predict dog breed.  \n",
    "\n",
    "Some sample output for our algorithm is provided below, but feel free to design your own user experience!\n",
    "\n",
    "![Sample Human Output](images/sample_human_output.png)\n",
    "\n",
    "\n",
    "### (IMPLEMENTATION) Write your Algorithm"
   ]
  },
  {
   "cell_type": "code",
   "execution_count": 47,
   "metadata": {
    "collapsed": true
   },
   "outputs": [],
   "source": [
    "### TODO: Write your algorithm.\n",
    "### Feel free to use as many code cells as needed.\n",
    "import os\n",
    "import glob\n",
    "import cv2\n",
    "import matplotlib.pyplot as plt\n",
    "%matplotlib inline"
   ]
  },
  {
   "cell_type": "code",
   "execution_count": 77,
   "metadata": {
    "collapsed": true
   },
   "outputs": [],
   "source": [
    "def visualize_img(image_path):\n",
    "    absolute_image_path = os.path.abspath(image_path)\n",
    "    fig = plt.figure(figsize=(5, 3))\n",
    "    img = cv2.imread(absolute_image_path)\n",
    "    ax = fig.add_subplot(1, 1, 1, xticks=range(0, img.shape[1], 100), yticks=range(0, img.shape[0], 100))\n",
    "    ax.imshow(cv2.cvtColor(img, cv2.COLOR_BGR2RGB))\n",
    "    plt.show()"
   ]
  },
  {
   "cell_type": "code",
   "execution_count": 79,
   "metadata": {
    "collapsed": true,
    "hideCode": false,
    "hidePrompt": false
   },
   "outputs": [],
   "source": [
    "def askDogBreed(image_path):\n",
    "    if not os.path.exists(image_path):\n",
    "        print(\"Error\\n\\n\\\"{}\\\" doesn't exist.\".format(image_path))\n",
    "        return\n",
    "    \n",
    "    if not os.path.splitext(image_path)[1] == \".jpg\":\n",
    "        print(\"Error\\n\\n \\\"{}\\\" isn't jpeg format.\" )\n",
    "        return\n",
    "        \n",
    "    if dog_detector(image_path):\n",
    "        print(\"hello, dog!\")\n",
    "        visualize_img(image_path)\n",
    "        print(\"You are a {}, aren't you?\".format(predict(image_path)))\n",
    "        \n",
    "    elif face_detector(image_path):\n",
    "        print(\"hello, human!\")\n",
    "        visualize_img(image_path)\n",
    "        print(\"You look like a ...\\n{}\".format(predict(image_path)))\n",
    "    \n",
    "    else:\n",
    "        print(\"Error!\\n\\nYou should request with a image including a human or a dog\")\n",
    "        visualize_img(image_path)\n",
    "    \n",
    "    print(\"\\n\\n\")"
   ]
  },
  {
   "cell_type": "markdown",
   "metadata": {
    "hideCode": false,
    "hidePrompt": false
   },
   "source": [
    "---\n",
    "<a id='step7'></a>\n",
    "## Step 7: Test Your Algorithm\n",
    "\n",
    "In this section, you will take your new algorithm for a spin!  What kind of dog does the algorithm think that __you__ look like?  If you have a dog, does it predict your dog's breed accurately?  If you have a cat, does it mistakenly think that your cat is a dog?\n",
    "\n",
    "### (IMPLEMENTATION) Test Your Algorithm on Sample Images!\n",
    "\n",
    "Test your algorithm at least six images on your computer.  Feel free to use any images you like.  Use at least two human and two dog images.  \n",
    "\n",
    "__Question 6:__ Is the output better than you expected :) ?  Or worse :( ?  Provide at least three possible points of improvement for your algorithm.\n",
    "\n",
    "__Answer:__ "
   ]
  },
  {
   "cell_type": "code",
   "execution_count": 33,
   "metadata": {
    "collapsed": true,
    "hideCode": false,
    "hidePrompt": false
   },
   "outputs": [],
   "source": [
    "## TODO: Execute your algorithm from Step 6 on\n",
    "## at least 6 images on your computer.\n",
    "## Feel free to use as many code cells as needed.\n",
    "my_image_paths = [\"test_images/dog4.jpg\",\n",
    "                \"test_images/philippe_jordan.jpg\", \n",
    "                  \"test_images/eric_clapton.jpg\",\n",
    "                  \"test_images/shibainu.jpg\", \n",
    "                  \"test_images/pag.jpg\", \n",
    "                 \"test_images/dog2.jpg\",\n",
    "                 ]"
   ]
  },
  {
   "cell_type": "code",
   "execution_count": 80,
   "metadata": {
    "hideCode": false,
    "hidePrompt": false
   },
   "outputs": [
    {
     "name": "stdout",
     "output_type": "stream",
     "text": [
      "hello, dog!\n"
     ]
    },
    {
     "data": {
      "image/png": "[encoded data removed]",
      "text/plain": [
       "<matplotlib.figure.Figure at 0x1bfeb4cbc18>"
      ]
     },
     "metadata": {},
     "output_type": "display_data"
    },
    {
     "ename": "KeyboardInterrupt",
     "evalue": "",
     "output_type": "error",
     "traceback": [
      "\u001b[1;31m---------------------------------------------------------------------------\u001b[0m",
      "\u001b[1;31mKeyboardInterrupt\u001b[0m                         Traceback (most recent call last)",
      "\u001b[1;32m<ipython-input-80-ad6bef6e93a4>\u001b[0m in \u001b[0;36m<module>\u001b[1;34m()\u001b[0m\n\u001b[0;32m      1\u001b[0m \u001b[1;32mfor\u001b[0m \u001b[0mimage_path\u001b[0m \u001b[1;32min\u001b[0m \u001b[0mmy_image_paths\u001b[0m\u001b[1;33m:\u001b[0m\u001b[1;33m\u001b[0m\u001b[0m\n\u001b[1;32m----> 2\u001b[1;33m     \u001b[0maskDogBreed\u001b[0m\u001b[1;33m(\u001b[0m\u001b[0mimage_path\u001b[0m\u001b[1;33m)\u001b[0m\u001b[1;33m\u001b[0m\u001b[0m\n\u001b[0m",
      "\u001b[1;32m<ipython-input-79-6bb76e883cae>\u001b[0m in \u001b[0;36maskDogBreed\u001b[1;34m(image_path)\u001b[0m\n\u001b[0;32m     11\u001b[0m         \u001b[0mprint\u001b[0m\u001b[1;33m(\u001b[0m\u001b[1;34m\"hello, dog!\"\u001b[0m\u001b[1;33m)\u001b[0m\u001b[1;33m\u001b[0m\u001b[0m\n\u001b[0;32m     12\u001b[0m         \u001b[0mvisualize_img\u001b[0m\u001b[1;33m(\u001b[0m\u001b[0mimage_path\u001b[0m\u001b[1;33m)\u001b[0m\u001b[1;33m\u001b[0m\u001b[0m\n\u001b[1;32m---> 13\u001b[1;33m         \u001b[0mprint\u001b[0m\u001b[1;33m(\u001b[0m\u001b[1;34m\"You are a {}, aren't you?\"\u001b[0m\u001b[1;33m.\u001b[0m\u001b[0mformat\u001b[0m\u001b[1;33m(\u001b[0m\u001b[0mpredict\u001b[0m\u001b[1;33m(\u001b[0m\u001b[0mimage_path\u001b[0m\u001b[1;33m)\u001b[0m\u001b[1;33m)\u001b[0m\u001b[1;33m)\u001b[0m\u001b[1;33m\u001b[0m\u001b[0m\n\u001b[0m\u001b[0;32m     14\u001b[0m \u001b[1;33m\u001b[0m\u001b[0m\n\u001b[0;32m     15\u001b[0m     \u001b[1;32melif\u001b[0m \u001b[0mface_detector\u001b[0m\u001b[1;33m(\u001b[0m\u001b[0mimage_path\u001b[0m\u001b[1;33m)\u001b[0m\u001b[1;33m:\u001b[0m\u001b[1;33m\u001b[0m\u001b[0m\n",
      "\u001b[1;32m<ipython-input-37-5658f62d1015>\u001b[0m in \u001b[0;36mpredict\u001b[1;34m(image_path)\u001b[0m\n\u001b[0;32m      4\u001b[0m \u001b[1;32mdef\u001b[0m \u001b[0mpredict\u001b[0m\u001b[1;33m(\u001b[0m\u001b[0mimage_path\u001b[0m\u001b[1;33m)\u001b[0m\u001b[1;33m:\u001b[0m\u001b[1;33m\u001b[0m\u001b[0m\n\u001b[0;32m      5\u001b[0m     input_data = [extract_Xception(path_to_tensor(image_path)), extract_Resnet50(path_to_tensor(image_path)), \n\u001b[1;32m----> 6\u001b[1;33m                  extract_InceptionV3(path_to_tensor(image_path))]\n\u001b[0m\u001b[0;32m      7\u001b[0m     \u001b[1;31m#inputs= np.array([np.expand_dims(feature1, axis=0), np.expand_dims(feature2, axis=0)])\u001b[0m\u001b[1;33m\u001b[0m\u001b[1;33m\u001b[0m\u001b[0m\n\u001b[0;32m      8\u001b[0m     \u001b[0mpredicted_prob\u001b[0m \u001b[1;33m=\u001b[0m \u001b[0mmerged_model\u001b[0m\u001b[1;33m.\u001b[0m\u001b[0mpredict\u001b[0m\u001b[1;33m(\u001b[0m\u001b[0minput_data\u001b[0m\u001b[1;33m)\u001b[0m\u001b[1;33m\u001b[0m\u001b[0m\n",
      "\u001b[1;32m~\\Documents\\ai_nanodegree\\term2\\lesson2\\dog-project\\extract_bottleneck_features.py\u001b[0m in \u001b[0;36mextract_InceptionV3\u001b[1;34m(tensor)\u001b[0m\n\u001b[0;32m     17\u001b[0m \u001b[1;32mdef\u001b[0m \u001b[0mextract_InceptionV3\u001b[0m\u001b[1;33m(\u001b[0m\u001b[0mtensor\u001b[0m\u001b[1;33m)\u001b[0m\u001b[1;33m:\u001b[0m\u001b[1;33m\u001b[0m\u001b[0m\n\u001b[0;32m     18\u001b[0m         \u001b[1;32mfrom\u001b[0m \u001b[0mkeras\u001b[0m\u001b[1;33m.\u001b[0m\u001b[0mapplications\u001b[0m\u001b[1;33m.\u001b[0m\u001b[0minception_v3\u001b[0m \u001b[1;32mimport\u001b[0m \u001b[0mInceptionV3\u001b[0m\u001b[1;33m,\u001b[0m \u001b[0mpreprocess_input\u001b[0m\u001b[1;33m\u001b[0m\u001b[0m\n\u001b[1;32m---> 19\u001b[1;33m         \u001b[1;32mreturn\u001b[0m \u001b[0mInceptionV3\u001b[0m\u001b[1;33m(\u001b[0m\u001b[0mweights\u001b[0m\u001b[1;33m=\u001b[0m\u001b[1;34m'imagenet'\u001b[0m\u001b[1;33m,\u001b[0m \u001b[0minclude_top\u001b[0m\u001b[1;33m=\u001b[0m\u001b[1;32mFalse\u001b[0m\u001b[1;33m)\u001b[0m\u001b[1;33m.\u001b[0m\u001b[0mpredict\u001b[0m\u001b[1;33m(\u001b[0m\u001b[0mpreprocess_input\u001b[0m\u001b[1;33m(\u001b[0m\u001b[0mtensor\u001b[0m\u001b[1;33m)\u001b[0m\u001b[1;33m)\u001b[0m\u001b[1;33m\u001b[0m\u001b[0m\n\u001b[0m",
      "\u001b[1;32m~\\Anaconda3\\envs\\aind-dog\\lib\\site-packages\\keras\\applications\\inception_v3.py\u001b[0m in \u001b[0;36mInceptionV3\u001b[1;34m(include_top, weights, input_tensor, input_shape, pooling, classes)\u001b[0m\n\u001b[0;32m    381\u001b[0m                 \u001b[0mcache_subdir\u001b[0m\u001b[1;33m=\u001b[0m\u001b[1;34m'models'\u001b[0m\u001b[1;33m,\u001b[0m\u001b[1;33m\u001b[0m\u001b[0m\n\u001b[0;32m    382\u001b[0m                 md5_hash='bcbd6486424b2319ff4ef7d526e38f63')\n\u001b[1;32m--> 383\u001b[1;33m         \u001b[0mmodel\u001b[0m\u001b[1;33m.\u001b[0m\u001b[0mload_weights\u001b[0m\u001b[1;33m(\u001b[0m\u001b[0mweights_path\u001b[0m\u001b[1;33m)\u001b[0m\u001b[1;33m\u001b[0m\u001b[0m\n\u001b[0m\u001b[0;32m    384\u001b[0m         \u001b[1;32mif\u001b[0m \u001b[0mK\u001b[0m\u001b[1;33m.\u001b[0m\u001b[0mbackend\u001b[0m\u001b[1;33m(\u001b[0m\u001b[1;33m)\u001b[0m \u001b[1;33m==\u001b[0m \u001b[1;34m'theano'\u001b[0m\u001b[1;33m:\u001b[0m\u001b[1;33m\u001b[0m\u001b[0m\n\u001b[0;32m    385\u001b[0m             \u001b[0mconvert_all_kernels_in_model\u001b[0m\u001b[1;33m(\u001b[0m\u001b[0mmodel\u001b[0m\u001b[1;33m)\u001b[0m\u001b[1;33m\u001b[0m\u001b[0m\n",
      "\u001b[1;32m~\\Anaconda3\\envs\\aind-dog\\lib\\site-packages\\keras\\engine\\topology.py\u001b[0m in \u001b[0;36mload_weights\u001b[1;34m(self, filepath, by_name)\u001b[0m\n\u001b[0;32m   2493\u001b[0m             \u001b[0mload_weights_from_hdf5_group_by_name\u001b[0m\u001b[1;33m(\u001b[0m\u001b[0mf\u001b[0m\u001b[1;33m,\u001b[0m \u001b[0mself\u001b[0m\u001b[1;33m.\u001b[0m\u001b[0mlayers\u001b[0m\u001b[1;33m)\u001b[0m\u001b[1;33m\u001b[0m\u001b[0m\n\u001b[0;32m   2494\u001b[0m         \u001b[1;32melse\u001b[0m\u001b[1;33m:\u001b[0m\u001b[1;33m\u001b[0m\u001b[0m\n\u001b[1;32m-> 2495\u001b[1;33m             \u001b[0mload_weights_from_hdf5_group\u001b[0m\u001b[1;33m(\u001b[0m\u001b[0mf\u001b[0m\u001b[1;33m,\u001b[0m \u001b[0mself\u001b[0m\u001b[1;33m.\u001b[0m\u001b[0mlayers\u001b[0m\u001b[1;33m)\u001b[0m\u001b[1;33m\u001b[0m\u001b[0m\n\u001b[0m\u001b[0;32m   2496\u001b[0m \u001b[1;33m\u001b[0m\u001b[0m\n\u001b[0;32m   2497\u001b[0m         \u001b[1;32mif\u001b[0m \u001b[0mhasattr\u001b[0m\u001b[1;33m(\u001b[0m\u001b[0mf\u001b[0m\u001b[1;33m,\u001b[0m \u001b[1;34m'close'\u001b[0m\u001b[1;33m)\u001b[0m\u001b[1;33m:\u001b[0m\u001b[1;33m\u001b[0m\u001b[0m\n",
      "\u001b[1;32m~\\Anaconda3\\envs\\aind-dog\\lib\\site-packages\\keras\\engine\\topology.py\u001b[0m in \u001b[0;36mload_weights_from_hdf5_group\u001b[1;34m(f, layers)\u001b[0m\n\u001b[0;32m   2906\u001b[0m                              ' elements.')\n\u001b[0;32m   2907\u001b[0m         \u001b[0mweight_value_tuples\u001b[0m \u001b[1;33m+=\u001b[0m \u001b[0mzip\u001b[0m\u001b[1;33m(\u001b[0m\u001b[0msymbolic_weights\u001b[0m\u001b[1;33m,\u001b[0m \u001b[0mweight_values\u001b[0m\u001b[1;33m)\u001b[0m\u001b[1;33m\u001b[0m\u001b[0m\n\u001b[1;32m-> 2908\u001b[1;33m     \u001b[0mK\u001b[0m\u001b[1;33m.\u001b[0m\u001b[0mbatch_set_value\u001b[0m\u001b[1;33m(\u001b[0m\u001b[0mweight_value_tuples\u001b[0m\u001b[1;33m)\u001b[0m\u001b[1;33m\u001b[0m\u001b[0m\n\u001b[0m\u001b[0;32m   2909\u001b[0m \u001b[1;33m\u001b[0m\u001b[0m\n\u001b[0;32m   2910\u001b[0m \u001b[1;33m\u001b[0m\u001b[0m\n",
      "\u001b[1;32m~\\Anaconda3\\envs\\aind-dog\\lib\\site-packages\\keras\\backend\\tensorflow_backend.py\u001b[0m in \u001b[0;36mbatch_set_value\u001b[1;34m(tuples)\u001b[0m\n\u001b[0;32m   1995\u001b[0m             \u001b[0massign_ops\u001b[0m\u001b[1;33m.\u001b[0m\u001b[0mappend\u001b[0m\u001b[1;33m(\u001b[0m\u001b[0massign_op\u001b[0m\u001b[1;33m)\u001b[0m\u001b[1;33m\u001b[0m\u001b[0m\n\u001b[0;32m   1996\u001b[0m             \u001b[0mfeed_dict\u001b[0m\u001b[1;33m[\u001b[0m\u001b[0massign_placeholder\u001b[0m\u001b[1;33m]\u001b[0m \u001b[1;33m=\u001b[0m \u001b[0mvalue\u001b[0m\u001b[1;33m\u001b[0m\u001b[0m\n\u001b[1;32m-> 1997\u001b[1;33m         \u001b[0mget_session\u001b[0m\u001b[1;33m(\u001b[0m\u001b[1;33m)\u001b[0m\u001b[1;33m.\u001b[0m\u001b[0mrun\u001b[0m\u001b[1;33m(\u001b[0m\u001b[0massign_ops\u001b[0m\u001b[1;33m,\u001b[0m \u001b[0mfeed_dict\u001b[0m\u001b[1;33m=\u001b[0m\u001b[0mfeed_dict\u001b[0m\u001b[1;33m)\u001b[0m\u001b[1;33m\u001b[0m\u001b[0m\n\u001b[0m\u001b[0;32m   1998\u001b[0m \u001b[1;33m\u001b[0m\u001b[0m\n\u001b[0;32m   1999\u001b[0m \u001b[1;33m\u001b[0m\u001b[0m\n",
      "\u001b[1;32m~\\Anaconda3\\envs\\aind-dog\\lib\\site-packages\\keras\\backend\\tensorflow_backend.py\u001b[0m in \u001b[0;36mget_session\u001b[1;34m()\u001b[0m\n\u001b[0;32m    151\u001b[0m         \u001b[0msession\u001b[0m \u001b[1;33m=\u001b[0m \u001b[0m_SESSION\u001b[0m\u001b[1;33m\u001b[0m\u001b[0m\n\u001b[0;32m    152\u001b[0m     \u001b[1;32mif\u001b[0m \u001b[1;32mnot\u001b[0m \u001b[0m_MANUAL_VAR_INIT\u001b[0m\u001b[1;33m:\u001b[0m\u001b[1;33m\u001b[0m\u001b[0m\n\u001b[1;32m--> 153\u001b[1;33m         \u001b[0m_initialize_variables\u001b[0m\u001b[1;33m(\u001b[0m\u001b[1;33m)\u001b[0m\u001b[1;33m\u001b[0m\u001b[0m\n\u001b[0m\u001b[0;32m    154\u001b[0m     \u001b[1;32mreturn\u001b[0m \u001b[0msession\u001b[0m\u001b[1;33m\u001b[0m\u001b[0m\n\u001b[0;32m    155\u001b[0m \u001b[1;33m\u001b[0m\u001b[0m\n",
      "\u001b[1;32m~\\Anaconda3\\envs\\aind-dog\\lib\\site-packages\\keras\\backend\\tensorflow_backend.py\u001b[0m in \u001b[0;36m_initialize_variables\u001b[1;34m()\u001b[0m\n\u001b[0;32m    304\u001b[0m     \u001b[1;32mif\u001b[0m \u001b[0muninitialized_variables\u001b[0m\u001b[1;33m:\u001b[0m\u001b[1;33m\u001b[0m\u001b[0m\n\u001b[0;32m    305\u001b[0m         \u001b[0msess\u001b[0m \u001b[1;33m=\u001b[0m \u001b[0mget_session\u001b[0m\u001b[1;33m(\u001b[0m\u001b[1;33m)\u001b[0m\u001b[1;33m\u001b[0m\u001b[0m\n\u001b[1;32m--> 306\u001b[1;33m         \u001b[0msess\u001b[0m\u001b[1;33m.\u001b[0m\u001b[0mrun\u001b[0m\u001b[1;33m(\u001b[0m\u001b[0mtf\u001b[0m\u001b[1;33m.\u001b[0m\u001b[0mvariables_initializer\u001b[0m\u001b[1;33m(\u001b[0m\u001b[0muninitialized_variables\u001b[0m\u001b[1;33m)\u001b[0m\u001b[1;33m)\u001b[0m\u001b[1;33m\u001b[0m\u001b[0m\n\u001b[0m\u001b[0;32m    307\u001b[0m \u001b[1;33m\u001b[0m\u001b[0m\n\u001b[0;32m    308\u001b[0m \u001b[1;33m\u001b[0m\u001b[0m\n",
      "\u001b[1;32m~\\Anaconda3\\envs\\aind-dog\\lib\\site-packages\\tensorflow\\python\\client\\session.py\u001b[0m in \u001b[0;36mrun\u001b[1;34m(self, fetches, feed_dict, options, run_metadata)\u001b[0m\n\u001b[0;32m    765\u001b[0m     \u001b[1;32mtry\u001b[0m\u001b[1;33m:\u001b[0m\u001b[1;33m\u001b[0m\u001b[0m\n\u001b[0;32m    766\u001b[0m       result = self._run(None, fetches, feed_dict, options_ptr,\n\u001b[1;32m--> 767\u001b[1;33m                          run_metadata_ptr)\n\u001b[0m\u001b[0;32m    768\u001b[0m       \u001b[1;32mif\u001b[0m \u001b[0mrun_metadata\u001b[0m\u001b[1;33m:\u001b[0m\u001b[1;33m\u001b[0m\u001b[0m\n\u001b[0;32m    769\u001b[0m         \u001b[0mproto_data\u001b[0m \u001b[1;33m=\u001b[0m \u001b[0mtf_session\u001b[0m\u001b[1;33m.\u001b[0m\u001b[0mTF_GetBuffer\u001b[0m\u001b[1;33m(\u001b[0m\u001b[0mrun_metadata_ptr\u001b[0m\u001b[1;33m)\u001b[0m\u001b[1;33m\u001b[0m\u001b[0m\n",
      "\u001b[1;32m~\\Anaconda3\\envs\\aind-dog\\lib\\site-packages\\tensorflow\\python\\client\\session.py\u001b[0m in \u001b[0;36m_run\u001b[1;34m(self, handle, fetches, feed_dict, options, run_metadata)\u001b[0m\n\u001b[0;32m    963\u001b[0m     \u001b[1;32mif\u001b[0m \u001b[0mfinal_fetches\u001b[0m \u001b[1;32mor\u001b[0m \u001b[0mfinal_targets\u001b[0m\u001b[1;33m:\u001b[0m\u001b[1;33m\u001b[0m\u001b[0m\n\u001b[0;32m    964\u001b[0m       results = self._do_run(handle, final_targets, final_fetches,\n\u001b[1;32m--> 965\u001b[1;33m                              feed_dict_string, options, run_metadata)\n\u001b[0m\u001b[0;32m    966\u001b[0m     \u001b[1;32melse\u001b[0m\u001b[1;33m:\u001b[0m\u001b[1;33m\u001b[0m\u001b[0m\n\u001b[0;32m    967\u001b[0m       \u001b[0mresults\u001b[0m \u001b[1;33m=\u001b[0m \u001b[1;33m[\u001b[0m\u001b[1;33m]\u001b[0m\u001b[1;33m\u001b[0m\u001b[0m\n",
      "\u001b[1;32m~\\Anaconda3\\envs\\aind-dog\\lib\\site-packages\\tensorflow\\python\\client\\session.py\u001b[0m in \u001b[0;36m_do_run\u001b[1;34m(self, handle, target_list, fetch_list, feed_dict, options, run_metadata)\u001b[0m\n\u001b[0;32m   1013\u001b[0m     \u001b[1;32mif\u001b[0m \u001b[0mhandle\u001b[0m \u001b[1;32mis\u001b[0m \u001b[1;32mNone\u001b[0m\u001b[1;33m:\u001b[0m\u001b[1;33m\u001b[0m\u001b[0m\n\u001b[0;32m   1014\u001b[0m       return self._do_call(_run_fn, self._session, feed_dict, fetch_list,\n\u001b[1;32m-> 1015\u001b[1;33m                            target_list, options, run_metadata)\n\u001b[0m\u001b[0;32m   1016\u001b[0m     \u001b[1;32melse\u001b[0m\u001b[1;33m:\u001b[0m\u001b[1;33m\u001b[0m\u001b[0m\n\u001b[0;32m   1017\u001b[0m       return self._do_call(_prun_fn, self._session, handle, feed_dict,\n",
      "\u001b[1;32m~\\Anaconda3\\envs\\aind-dog\\lib\\site-packages\\tensorflow\\python\\client\\session.py\u001b[0m in \u001b[0;36m_do_call\u001b[1;34m(self, fn, *args)\u001b[0m\n\u001b[0;32m   1020\u001b[0m   \u001b[1;32mdef\u001b[0m \u001b[0m_do_call\u001b[0m\u001b[1;33m(\u001b[0m\u001b[0mself\u001b[0m\u001b[1;33m,\u001b[0m \u001b[0mfn\u001b[0m\u001b[1;33m,\u001b[0m \u001b[1;33m*\u001b[0m\u001b[0margs\u001b[0m\u001b[1;33m)\u001b[0m\u001b[1;33m:\u001b[0m\u001b[1;33m\u001b[0m\u001b[0m\n\u001b[0;32m   1021\u001b[0m     \u001b[1;32mtry\u001b[0m\u001b[1;33m:\u001b[0m\u001b[1;33m\u001b[0m\u001b[0m\n\u001b[1;32m-> 1022\u001b[1;33m       \u001b[1;32mreturn\u001b[0m \u001b[0mfn\u001b[0m\u001b[1;33m(\u001b[0m\u001b[1;33m*\u001b[0m\u001b[0margs\u001b[0m\u001b[1;33m)\u001b[0m\u001b[1;33m\u001b[0m\u001b[0m\n\u001b[0m\u001b[0;32m   1023\u001b[0m     \u001b[1;32mexcept\u001b[0m \u001b[0merrors\u001b[0m\u001b[1;33m.\u001b[0m\u001b[0mOpError\u001b[0m \u001b[1;32mas\u001b[0m \u001b[0me\u001b[0m\u001b[1;33m:\u001b[0m\u001b[1;33m\u001b[0m\u001b[0m\n\u001b[0;32m   1024\u001b[0m       \u001b[0mmessage\u001b[0m \u001b[1;33m=\u001b[0m \u001b[0mcompat\u001b[0m\u001b[1;33m.\u001b[0m\u001b[0mas_text\u001b[0m\u001b[1;33m(\u001b[0m\u001b[0me\u001b[0m\u001b[1;33m.\u001b[0m\u001b[0mmessage\u001b[0m\u001b[1;33m)\u001b[0m\u001b[1;33m\u001b[0m\u001b[0m\n",
      "\u001b[1;32m~\\Anaconda3\\envs\\aind-dog\\lib\\site-packages\\tensorflow\\python\\client\\session.py\u001b[0m in \u001b[0;36m_run_fn\u001b[1;34m(session, feed_dict, fetch_list, target_list, options, run_metadata)\u001b[0m\n\u001b[0;32m   1002\u001b[0m         return tf_session.TF_Run(session, options,\n\u001b[0;32m   1003\u001b[0m                                  \u001b[0mfeed_dict\u001b[0m\u001b[1;33m,\u001b[0m \u001b[0mfetch_list\u001b[0m\u001b[1;33m,\u001b[0m \u001b[0mtarget_list\u001b[0m\u001b[1;33m,\u001b[0m\u001b[1;33m\u001b[0m\u001b[0m\n\u001b[1;32m-> 1004\u001b[1;33m                                  status, run_metadata)\n\u001b[0m\u001b[0;32m   1005\u001b[0m \u001b[1;33m\u001b[0m\u001b[0m\n\u001b[0;32m   1006\u001b[0m     \u001b[1;32mdef\u001b[0m \u001b[0m_prun_fn\u001b[0m\u001b[1;33m(\u001b[0m\u001b[0msession\u001b[0m\u001b[1;33m,\u001b[0m \u001b[0mhandle\u001b[0m\u001b[1;33m,\u001b[0m \u001b[0mfeed_dict\u001b[0m\u001b[1;33m,\u001b[0m \u001b[0mfetch_list\u001b[0m\u001b[1;33m)\u001b[0m\u001b[1;33m:\u001b[0m\u001b[1;33m\u001b[0m\u001b[0m\n",
      "\u001b[1;31mKeyboardInterrupt\u001b[0m: "
     ]
    }
   ],
   "source": [
    "for image_path in my_image_paths:\n",
    "    askDogBreed(image_path)"
   ]
  },
  {
   "cell_type": "code",
   "execution_count": null,
   "metadata": {
    "collapsed": true,
    "hideCode": false,
    "hidePrompt": false
   },
   "outputs": [],
   "source": []
  }
 ],
 "metadata": {
  "anaconda-cloud": {},
  "hide_code_all_hidden": false,
  "kernelspec": {
   "display_name": "Python 3",
   "language": "python",
   "name": "python3"
  },
  "language_info": {
   "codemirror_mode": {
    "name": "ipython",
    "version": 3
   },
   "file_extension": ".py",
   "mimetype": "text/x-python",
   "name": "python",
   "nbconvert_exporter": "python",
   "pygments_lexer": "ipython3",
   "version": "3.6.1"
  }
 },
 "nbformat": 4,
 "nbformat_minor": 1
}
